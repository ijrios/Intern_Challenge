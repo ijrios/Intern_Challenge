{
  "nbformat": 4,
  "nbformat_minor": 0,
  "metadata": {
    "colab": {
      "provenance": []
    },
    "kernelspec": {
      "name": "python3",
      "display_name": "Python 3"
    },
    "language_info": {
      "name": "python"
    }
  },
  "cells": [
    {
      "cell_type": "markdown",
      "source": [
        "# Challenge\n",
        "## Jose Alexander Ríos Trespalacios"
      ],
      "metadata": {
        "id": "p4Wsv4QRsriv"
      }
    },
    {
      "cell_type": "code",
      "source": [
        "import warnings\n",
        "warnings.filterwarnings('ignore')"
      ],
      "metadata": {
        "id": "Qw2GIj1SI2fr"
      },
      "execution_count": null,
      "outputs": []
    },
    {
      "cell_type": "code",
      "source": [
        "#!pip install --upgrade pip"
      ],
      "metadata": {
        "id": "idkQeImmsnE4"
      },
      "execution_count": null,
      "outputs": []
    },
    {
      "cell_type": "code",
      "source": [
        "pip install scikit-learn"
      ],
      "metadata": {
        "colab": {
          "base_uri": "https://localhost:8080/"
        },
        "id": "dNVtlYYCiU2v",
        "outputId": "85eceba8-84c2-4fad-f42a-77951d262c17"
      },
      "execution_count": null,
      "outputs": [
        {
          "output_type": "stream",
          "name": "stdout",
          "text": [
            "Requirement already satisfied: scikit-learn in /usr/local/lib/python3.10/dist-packages (1.2.2)\n",
            "Requirement already satisfied: numpy>=1.17.3 in /usr/local/lib/python3.10/dist-packages (from scikit-learn) (1.23.5)\n",
            "Requirement already satisfied: scipy>=1.3.2 in /usr/local/lib/python3.10/dist-packages (from scikit-learn) (1.11.3)\n",
            "Requirement already satisfied: joblib>=1.1.1 in /usr/local/lib/python3.10/dist-packages (from scikit-learn) (1.3.2)\n",
            "Requirement already satisfied: threadpoolctl>=2.0.0 in /usr/local/lib/python3.10/dist-packages (from scikit-learn) (3.2.0)\n"
          ]
        }
      ]
    },
    {
      "cell_type": "code",
      "source": [
        "pip install nltk"
      ],
      "metadata": {
        "colab": {
          "base_uri": "https://localhost:8080/"
        },
        "id": "jPJQX4uVl5EQ",
        "outputId": "f8f1a294-c24b-4ea8-dafc-d59357054922"
      },
      "execution_count": null,
      "outputs": [
        {
          "output_type": "stream",
          "name": "stdout",
          "text": [
            "Requirement already satisfied: nltk in /usr/local/lib/python3.10/dist-packages (3.8.1)\n",
            "Requirement already satisfied: click in /usr/local/lib/python3.10/dist-packages (from nltk) (8.1.7)\n",
            "Requirement already satisfied: joblib in /usr/local/lib/python3.10/dist-packages (from nltk) (1.3.2)\n",
            "Requirement already satisfied: regex>=2021.8.3 in /usr/local/lib/python3.10/dist-packages (from nltk) (2023.6.3)\n",
            "Requirement already satisfied: tqdm in /usr/local/lib/python3.10/dist-packages (from nltk) (4.66.1)\n"
          ]
        }
      ]
    },
    {
      "cell_type": "code",
      "source": [
        "!pip install sumy"
      ],
      "metadata": {
        "colab": {
          "base_uri": "https://localhost:8080/"
        },
        "id": "R1gvwq8atOQS",
        "outputId": "5bb6f7c4-fd1d-4a11-bcb0-e3140942018e"
      },
      "execution_count": null,
      "outputs": [
        {
          "output_type": "stream",
          "name": "stdout",
          "text": [
            "Requirement already satisfied: sumy in /usr/local/lib/python3.10/dist-packages (0.11.0)\n",
            "Requirement already satisfied: docopt<0.7,>=0.6.1 in /usr/local/lib/python3.10/dist-packages (from sumy) (0.6.2)\n",
            "Requirement already satisfied: breadability>=0.1.20 in /usr/local/lib/python3.10/dist-packages (from sumy) (0.1.20)\n",
            "Requirement already satisfied: requests>=2.7.0 in /usr/local/lib/python3.10/dist-packages (from sumy) (2.31.0)\n",
            "Requirement already satisfied: pycountry>=18.2.23 in /usr/local/lib/python3.10/dist-packages (from sumy) (22.3.5)\n",
            "Requirement already satisfied: nltk>=3.0.2 in /usr/local/lib/python3.10/dist-packages (from sumy) (3.8.1)\n",
            "Requirement already satisfied: chardet in /usr/local/lib/python3.10/dist-packages (from breadability>=0.1.20->sumy) (5.2.0)\n",
            "Requirement already satisfied: lxml>=2.0 in /usr/local/lib/python3.10/dist-packages (from breadability>=0.1.20->sumy) (4.9.3)\n",
            "Requirement already satisfied: click in /usr/local/lib/python3.10/dist-packages (from nltk>=3.0.2->sumy) (8.1.7)\n",
            "Requirement already satisfied: joblib in /usr/local/lib/python3.10/dist-packages (from nltk>=3.0.2->sumy) (1.3.2)\n",
            "Requirement already satisfied: regex>=2021.8.3 in /usr/local/lib/python3.10/dist-packages (from nltk>=3.0.2->sumy) (2023.6.3)\n",
            "Requirement already satisfied: tqdm in /usr/local/lib/python3.10/dist-packages (from nltk>=3.0.2->sumy) (4.66.1)\n",
            "Requirement already satisfied: setuptools in /usr/local/lib/python3.10/dist-packages (from pycountry>=18.2.23->sumy) (67.7.2)\n",
            "Requirement already satisfied: charset-normalizer<4,>=2 in /usr/local/lib/python3.10/dist-packages (from requests>=2.7.0->sumy) (3.3.0)\n",
            "Requirement already satisfied: idna<4,>=2.5 in /usr/local/lib/python3.10/dist-packages (from requests>=2.7.0->sumy) (3.4)\n",
            "Requirement already satisfied: urllib3<3,>=1.21.1 in /usr/local/lib/python3.10/dist-packages (from requests>=2.7.0->sumy) (2.0.6)\n",
            "Requirement already satisfied: certifi>=2017.4.17 in /usr/local/lib/python3.10/dist-packages (from requests>=2.7.0->sumy) (2023.7.22)\n"
          ]
        }
      ]
    },
    {
      "cell_type": "code",
      "source": [
        "pip install dash"
      ],
      "metadata": {
        "colab": {
          "base_uri": "https://localhost:8080/"
        },
        "id": "q0atnJF_ryRI",
        "outputId": "71001da5-e549-4784-d7ad-5295f083afa3"
      },
      "execution_count": null,
      "outputs": [
        {
          "output_type": "stream",
          "name": "stdout",
          "text": [
            "Requirement already satisfied: dash in /usr/local/lib/python3.10/dist-packages (2.14.0)\n",
            "Requirement already satisfied: Flask<2.3.0,>=1.0.4 in /usr/local/lib/python3.10/dist-packages (from dash) (2.2.5)\n",
            "Requirement already satisfied: Werkzeug<2.3.0 in /usr/local/lib/python3.10/dist-packages (from dash) (2.2.3)\n",
            "Requirement already satisfied: plotly>=5.0.0 in /usr/local/lib/python3.10/dist-packages (from dash) (5.15.0)\n",
            "Requirement already satisfied: dash-html-components==2.0.0 in /usr/local/lib/python3.10/dist-packages (from dash) (2.0.0)\n",
            "Requirement already satisfied: dash-core-components==2.0.0 in /usr/local/lib/python3.10/dist-packages (from dash) (2.0.0)\n",
            "Requirement already satisfied: dash-table==5.0.0 in /usr/local/lib/python3.10/dist-packages (from dash) (5.0.0)\n",
            "Requirement already satisfied: typing-extensions>=4.1.1 in /usr/local/lib/python3.10/dist-packages (from dash) (4.5.0)\n",
            "Requirement already satisfied: requests in /usr/local/lib/python3.10/dist-packages (from dash) (2.31.0)\n",
            "Requirement already satisfied: retrying in /usr/local/lib/python3.10/dist-packages (from dash) (1.3.4)\n",
            "Requirement already satisfied: ansi2html in /usr/local/lib/python3.10/dist-packages (from dash) (1.8.0)\n",
            "Requirement already satisfied: nest-asyncio in /usr/local/lib/python3.10/dist-packages (from dash) (1.5.8)\n",
            "Requirement already satisfied: setuptools in /usr/local/lib/python3.10/dist-packages (from dash) (67.7.2)\n",
            "Requirement already satisfied: importlib-metadata in /usr/local/lib/python3.10/dist-packages (from dash) (6.8.0)\n",
            "Requirement already satisfied: Jinja2>=3.0 in /usr/local/lib/python3.10/dist-packages (from Flask<2.3.0,>=1.0.4->dash) (3.1.2)\n",
            "Requirement already satisfied: itsdangerous>=2.0 in /usr/local/lib/python3.10/dist-packages (from Flask<2.3.0,>=1.0.4->dash) (2.1.2)\n",
            "Requirement already satisfied: click>=8.0 in /usr/local/lib/python3.10/dist-packages (from Flask<2.3.0,>=1.0.4->dash) (8.1.7)\n",
            "Requirement already satisfied: tenacity>=6.2.0 in /usr/local/lib/python3.10/dist-packages (from plotly>=5.0.0->dash) (8.2.3)\n",
            "Requirement already satisfied: packaging in /usr/local/lib/python3.10/dist-packages (from plotly>=5.0.0->dash) (23.2)\n",
            "Requirement already satisfied: MarkupSafe>=2.1.1 in /usr/local/lib/python3.10/dist-packages (from Werkzeug<2.3.0->dash) (2.1.3)\n",
            "Requirement already satisfied: zipp>=0.5 in /usr/local/lib/python3.10/dist-packages (from importlib-metadata->dash) (3.17.0)\n",
            "Requirement already satisfied: charset-normalizer<4,>=2 in /usr/local/lib/python3.10/dist-packages (from requests->dash) (3.3.0)\n",
            "Requirement already satisfied: idna<4,>=2.5 in /usr/local/lib/python3.10/dist-packages (from requests->dash) (3.4)\n",
            "Requirement already satisfied: urllib3<3,>=1.21.1 in /usr/local/lib/python3.10/dist-packages (from requests->dash) (2.0.6)\n",
            "Requirement already satisfied: certifi>=2017.4.17 in /usr/local/lib/python3.10/dist-packages (from requests->dash) (2023.7.22)\n",
            "Requirement already satisfied: six>=1.7.0 in /usr/local/lib/python3.10/dist-packages (from retrying->dash) (1.16.0)\n"
          ]
        }
      ]
    },
    {
      "cell_type": "code",
      "source": [
        "import numpy as np\n",
        "import pandas as pd\n",
        "from pandas import read_csv\n",
        "import statsmodels.api as sm\n",
        "import matplotlib.pyplot as plt\n",
        "from nltk.tokenize import sent_tokenize"
      ],
      "metadata": {
        "id": "q5EjxEuGl_sM"
      },
      "execution_count": null,
      "outputs": []
    },
    {
      "cell_type": "code",
      "execution_count": null,
      "metadata": {
        "colab": {
          "base_uri": "https://localhost:8080/"
        },
        "id": "NXtDkL0-nqTt",
        "outputId": "a513665d-520a-46e4-ad49-c137f9ddf987"
      },
      "outputs": [
        {
          "output_type": "stream",
          "name": "stdout",
          "text": [
            "fatal: destination path 'db_repositorio' already exists and is not an empty directory.\n"
          ]
        }
      ],
      "source": [
        "! git clone https://github.com/ijrios/db_repositorio.git"
      ]
    },
    {
      "cell_type": "code",
      "source": [
        "data = read_csv('/content/db_repositorio/dataset_Caso_2024-1.csv')"
      ],
      "metadata": {
        "id": "TQyM96A_p93s"
      },
      "execution_count": null,
      "outputs": []
    },
    {
      "cell_type": "code",
      "source": [
        "data.head(1)"
      ],
      "metadata": {
        "colab": {
          "base_uri": "https://localhost:8080/"
        },
        "id": "RfOwpBsiqXM3",
        "outputId": "db7d345b-412e-4e63-e7f2-1a1511cd2260"
      },
      "execution_count": null,
      "outputs": [
        {
          "output_type": "execute_result",
          "data": {
            "text/plain": [
              "                                              Titulo Fecha Publicacion  \\\n",
              "0  Más de 500 trabajadores de Cicadebo quedaron s...         3/30/2023   \n",
              "\n",
              "                                             Resumen   Empresa     Fuente  \\\n",
              "0  Más de 48 horas completan las manifestaciones ...  Cicadebo  Rívenmosa   \n",
              "\n",
              "                                           Contenido  \\\n",
              "0  Más de 48 horas completan las manifestaciones ...   \n",
              "\n",
              "                                                Tags    Tema Autor Unnamed: 9  \\\n",
              "0  ['Cicadebo', 'Barrancabermeja', 'Santander', '...  Nación   NaN        NaN   \n",
              "\n",
              "  Unnamed: 10  \n",
              "0         NaN  "
            ],
            "text/html": [
              "\n",
              "  <div id=\"df-79c066ff-2636-4e89-b0d1-6fb03650f54b\" class=\"colab-df-container\">\n",
              "    <div>\n",
              "<style scoped>\n",
              "    .dataframe tbody tr th:only-of-type {\n",
              "        vertical-align: middle;\n",
              "    }\n",
              "\n",
              "    .dataframe tbody tr th {\n",
              "        vertical-align: top;\n",
              "    }\n",
              "\n",
              "    .dataframe thead th {\n",
              "        text-align: right;\n",
              "    }\n",
              "</style>\n",
              "<table border=\"1\" class=\"dataframe\">\n",
              "  <thead>\n",
              "    <tr style=\"text-align: right;\">\n",
              "      <th></th>\n",
              "      <th>Titulo</th>\n",
              "      <th>Fecha Publicacion</th>\n",
              "      <th>Resumen</th>\n",
              "      <th>Empresa</th>\n",
              "      <th>Fuente</th>\n",
              "      <th>Contenido</th>\n",
              "      <th>Tags</th>\n",
              "      <th>Tema</th>\n",
              "      <th>Autor</th>\n",
              "      <th>Unnamed: 9</th>\n",
              "      <th>Unnamed: 10</th>\n",
              "    </tr>\n",
              "  </thead>\n",
              "  <tbody>\n",
              "    <tr>\n",
              "      <th>0</th>\n",
              "      <td>Más de 500 trabajadores de Cicadebo quedaron s...</td>\n",
              "      <td>3/30/2023</td>\n",
              "      <td>Más de 48 horas completan las manifestaciones ...</td>\n",
              "      <td>Cicadebo</td>\n",
              "      <td>Rívenmosa</td>\n",
              "      <td>Más de 48 horas completan las manifestaciones ...</td>\n",
              "      <td>['Cicadebo', 'Barrancabermeja', 'Santander', '...</td>\n",
              "      <td>Nación</td>\n",
              "      <td>NaN</td>\n",
              "      <td>NaN</td>\n",
              "      <td>NaN</td>\n",
              "    </tr>\n",
              "  </tbody>\n",
              "</table>\n",
              "</div>\n",
              "    <div class=\"colab-df-buttons\">\n",
              "      \n",
              "  <div class=\"colab-df-container\">\n",
              "    <button class=\"colab-df-convert\" onclick=\"convertToInteractive('df-79c066ff-2636-4e89-b0d1-6fb03650f54b')\"\n",
              "            title=\"Convert this dataframe to an interactive table.\"\n",
              "            style=\"display:none;\">\n",
              "      \n",
              "  <svg xmlns=\"http://www.w3.org/2000/svg\" height=\"24px\" viewBox=\"0 -960 960 960\">\n",
              "    <path d=\"M120-120v-720h720v720H120Zm60-500h600v-160H180v160Zm220 220h160v-160H400v160Zm0 220h160v-160H400v160ZM180-400h160v-160H180v160Zm440 0h160v-160H620v160ZM180-180h160v-160H180v160Zm440 0h160v-160H620v160Z\"/>\n",
              "  </svg>\n",
              "    </button>\n",
              "    \n",
              "  <style>\n",
              "    .colab-df-container {\n",
              "      display:flex;\n",
              "      gap: 12px;\n",
              "    }\n",
              "\n",
              "    .colab-df-convert {\n",
              "      background-color: #E8F0FE;\n",
              "      border: none;\n",
              "      border-radius: 50%;\n",
              "      cursor: pointer;\n",
              "      display: none;\n",
              "      fill: #1967D2;\n",
              "      height: 32px;\n",
              "      padding: 0 0 0 0;\n",
              "      width: 32px;\n",
              "    }\n",
              "\n",
              "    .colab-df-convert:hover {\n",
              "      background-color: #E2EBFA;\n",
              "      box-shadow: 0px 1px 2px rgba(60, 64, 67, 0.3), 0px 1px 3px 1px rgba(60, 64, 67, 0.15);\n",
              "      fill: #174EA6;\n",
              "    }\n",
              "\n",
              "    .colab-df-buttons div {\n",
              "      margin-bottom: 4px;\n",
              "    }\n",
              "\n",
              "    [theme=dark] .colab-df-convert {\n",
              "      background-color: #3B4455;\n",
              "      fill: #D2E3FC;\n",
              "    }\n",
              "\n",
              "    [theme=dark] .colab-df-convert:hover {\n",
              "      background-color: #434B5C;\n",
              "      box-shadow: 0px 1px 3px 1px rgba(0, 0, 0, 0.15);\n",
              "      filter: drop-shadow(0px 1px 2px rgba(0, 0, 0, 0.3));\n",
              "      fill: #FFFFFF;\n",
              "    }\n",
              "  </style>\n",
              "\n",
              "    <script>\n",
              "      const buttonEl =\n",
              "        document.querySelector('#df-79c066ff-2636-4e89-b0d1-6fb03650f54b button.colab-df-convert');\n",
              "      buttonEl.style.display =\n",
              "        google.colab.kernel.accessAllowed ? 'block' : 'none';\n",
              "\n",
              "      async function convertToInteractive(key) {\n",
              "        const element = document.querySelector('#df-79c066ff-2636-4e89-b0d1-6fb03650f54b');\n",
              "        const dataTable =\n",
              "          await google.colab.kernel.invokeFunction('convertToInteractive',\n",
              "                                                    [key], {});\n",
              "        if (!dataTable) return;\n",
              "\n",
              "        const docLinkHtml = 'Like what you see? Visit the ' +\n",
              "          '<a target=\"_blank\" href=https://colab.research.google.com/notebooks/data_table.ipynb>data table notebook</a>'\n",
              "          + ' to learn more about interactive tables.';\n",
              "        element.innerHTML = '';\n",
              "        dataTable['output_type'] = 'display_data';\n",
              "        await google.colab.output.renderOutput(dataTable, element);\n",
              "        const docLink = document.createElement('div');\n",
              "        docLink.innerHTML = docLinkHtml;\n",
              "        element.appendChild(docLink);\n",
              "      }\n",
              "    </script>\n",
              "  </div>\n",
              "  \n",
              "    </div>\n",
              "  </div>\n",
              "  "
            ]
          },
          "metadata": {},
          "execution_count": 10
        }
      ]
    },
    {
      "cell_type": "markdown",
      "source": [
        "# Dimensiones de calidad"
      ],
      "metadata": {
        "id": "ugYGRMh7CSeZ"
      }
    },
    {
      "cell_type": "code",
      "source": [
        "discrepancias = data[data.ne(data.iloc[0]).any(1)]\n",
        "\n",
        "cantidad_de_discrepancias = discrepancias.shape[0]\n",
        "print(\"Filas con discrepancias:\")\n",
        "print(cantidad_de_discrepancias)"
      ],
      "metadata": {
        "colab": {
          "base_uri": "https://localhost:8080/"
        },
        "id": "k9Z8cS2oZCdx",
        "outputId": "b9974679-cd5d-4ff5-cf71-005faebccbf4"
      },
      "execution_count": null,
      "outputs": [
        {
          "output_type": "stream",
          "name": "stdout",
          "text": [
            "Filas con discrepancias:\n",
            "3618\n"
          ]
        }
      ]
    },
    {
      "cell_type": "markdown",
      "source": [
        "Las variables más importante son el titulo, fecha de publicación, empresa y fuente, ya que son las que nos sirven para resolver el problema, sin mebargo, trataremos de limpiar las otras y luego solo extraemos las importantes para el analisis del reto."
      ],
      "metadata": {
        "id": "hGsMLjgN2E8j"
      }
    },
    {
      "cell_type": "markdown",
      "source": [
        "### Completitud"
      ],
      "metadata": {
        "id": "1JgVic0ICT9F"
      }
    },
    {
      "cell_type": "code",
      "source": [
        "print(\"DATOS NULOS\")\n",
        "print(\"Col -                Datos\")\n",
        "print(data.isnull().sum())"
      ],
      "metadata": {
        "colab": {
          "base_uri": "https://localhost:8080/"
        },
        "id": "MPSGBsjACQfc",
        "outputId": "9d2fae79-2ad8-44ce-8358-34bb6e767eaf"
      },
      "execution_count": null,
      "outputs": [
        {
          "output_type": "stream",
          "name": "stdout",
          "text": [
            "DATOS NULOS\n",
            "Col -                Datos\n",
            "Titulo                  1\n",
            "Fecha Publicacion      22\n",
            "Resumen               206\n",
            "Empresa                 2\n",
            "Fuente                  3\n",
            "Contenido              50\n",
            "Tags                 2905\n",
            "Tema                  119\n",
            "Autor                 385\n",
            "Unnamed: 9           3617\n",
            "Unnamed: 10          3617\n",
            "dtype: int64\n"
          ]
        }
      ]
    },
    {
      "cell_type": "markdown",
      "source": [
        "Como podemos observar tenemos muchas columnas con datos faltantes, debemos darle un trato especial a estos, identificando patrones que puedan ayudarnos a organizar la información en la base de datos.\n",
        "\n",
        "- El titulo serpa lo primero que vamos a organizar, ya que este nos servirá para seguir llenando la información de las demas."
      ],
      "metadata": {
        "id": "hCtPwwJfCu3H"
      }
    },
    {
      "cell_type": "code",
      "source": [
        "filas_vacias_titulo = data[data['Titulo'].isna()]\n",
        "\n",
        "print(filas_vacias_titulo)\n",
        "print(filas_vacias_titulo.head())"
      ],
      "metadata": {
        "colab": {
          "base_uri": "https://localhost:8080/"
        },
        "id": "_-xZeoUmhe8M",
        "outputId": "756eafbd-2b55-4742-a60d-fa614d268577"
      },
      "execution_count": null,
      "outputs": [
        {
          "output_type": "stream",
          "name": "stdout",
          "text": [
            "    Titulo Fecha Publicacion Resumen Empresa Fuente Contenido Tags Tema Autor  \\\n",
            "714    NaN               NaN     NaN     NaN    NaN       NaN  NaN  NaN   NaN   \n",
            "\n",
            "    Unnamed: 9 Unnamed: 10  \n",
            "714        NaN         NaN  \n",
            "    Titulo Fecha Publicacion Resumen Empresa Fuente Contenido Tags Tema Autor  \\\n",
            "714    NaN               NaN     NaN     NaN    NaN       NaN  NaN  NaN   NaN   \n",
            "\n",
            "    Unnamed: 9 Unnamed: 10  \n",
            "714        NaN         NaN  \n"
          ]
        }
      ]
    },
    {
      "cell_type": "code",
      "source": [
        "print(data['Titulo'][714])"
      ],
      "metadata": {
        "colab": {
          "base_uri": "https://localhost:8080/"
        },
        "id": "KySYHVkMhuv0",
        "outputId": "c0320fdc-d6ba-43ce-87a0-e19f7c223b44"
      },
      "execution_count": null,
      "outputs": [
        {
          "output_type": "stream",
          "name": "stdout",
          "text": [
            "nan\n"
          ]
        }
      ]
    },
    {
      "cell_type": "code",
      "source": [
        "# Eliminamos la unica fila 714 que estaba vacía en titulo, no tenía datos\n",
        "data = data.drop(714)"
      ],
      "metadata": {
        "id": "tFF9d9uvhyLN"
      },
      "execution_count": null,
      "outputs": []
    },
    {
      "cell_type": "code",
      "source": [
        "data.columns"
      ],
      "metadata": {
        "colab": {
          "base_uri": "https://localhost:8080/"
        },
        "id": "uUHy6FlccYdo",
        "outputId": "a8f7163e-1cc0-441b-8680-ab70fcbad62a"
      },
      "execution_count": null,
      "outputs": [
        {
          "output_type": "execute_result",
          "data": {
            "text/plain": [
              "Index(['Titulo', 'Fecha Publicacion', 'Resumen', 'Empresa', 'Fuente',\n",
              "       'Contenido', 'Tags', 'Tema', 'Autor', 'Unnamed: 9', 'Unnamed: 10'],\n",
              "      dtype='object')"
            ]
          },
          "metadata": {},
          "execution_count": 16
        }
      ]
    },
    {
      "cell_type": "code",
      "source": [
        "data['Empresa'].unique()"
      ],
      "metadata": {
        "colab": {
          "base_uri": "https://localhost:8080/"
        },
        "id": "vsLxi4vDPUAR",
        "outputId": "ebbe8ab8-b840-4037-9b95-ad7cbda9a058"
      },
      "execution_count": null,
      "outputs": [
        {
          "output_type": "execute_result",
          "data": {
            "text/plain": [
              "array(['Cicadebo', 'Jogrator', 'Ririosísí', 'Cazamalno', 'Cadeem',\n",
              "       'Corelifai', 'Diszadiex', 'Dofaltachi', 'Bagoa', 'Pristámelo',\n",
              "       'Mesepau', 'Cleasidad', 'Netatear', 'Grisatasrres', 'Pugtofu',\n",
              "       'Mobrelí', 'Refreestor', 'Rodao', 'Soronioqui', 'Megotiana',\n",
              "       'Feriota', 'Raviettibue', 'Insema', ' Nazareth', nan,\n",
              "       ' Santa Marta y Valledupar\"', 'Nevaldali'], dtype=object)"
            ]
          },
          "metadata": {},
          "execution_count": 17
        }
      ]
    },
    {
      "cell_type": "markdown",
      "source": [
        "y eliminamos las columnas Umnamed 9 y 10 que estan vacias"
      ],
      "metadata": {
        "id": "ffwpiFpmcBlw"
      }
    },
    {
      "cell_type": "code",
      "source": [
        "columnas_a_eliminar = ['Unnamed: 9', 'Unnamed: 10']\n",
        "data = data.drop(columns=columnas_a_eliminar)"
      ],
      "metadata": {
        "id": "opYwDefUcA-U"
      },
      "execution_count": null,
      "outputs": []
    },
    {
      "cell_type": "code",
      "source": [
        "data.head()"
      ],
      "metadata": {
        "colab": {
          "base_uri": "https://localhost:8080/"
        },
        "id": "jM8lwIZlcgGT",
        "outputId": "15f21e2d-0aa2-48b4-90ab-22024244ec48"
      },
      "execution_count": null,
      "outputs": [
        {
          "output_type": "execute_result",
          "data": {
            "text/plain": [
              "                                              Titulo Fecha Publicacion  \\\n",
              "0  Más de 500 trabajadores de Cicadebo quedaron s...         3/30/2023   \n",
              "1  Acción de Cicadebo se mantuvo estable en la ap...         3/30/2023   \n",
              "2  Ricardo Roa Barragán es el nuevo presidente de...         3/30/2023   \n",
              "3  BVC y Cicadebo corrigieron tendencia dispar y ...         3/30/2023   \n",
              "4  Nuevo bloqueo en el campo Casabe de Cicadebo g...         3/30/2023   \n",
              "\n",
              "                                             Resumen   Empresa     Fuente  \\\n",
              "0  Más de 48 horas completan las manifestaciones ...  Cicadebo  Rívenmosa   \n",
              "1  Luego del nombramiento de Ricardo Roa como nue...  Cicadebo  Rívenmosa   \n",
              "2  Estaba reservado para el cargo. Es más, hasta ...  Cicadebo  Rívenmosa   \n",
              "3  La Bolsa de Valores de Colombia (BVC) y Cicade...  Cicadebo  Rívenmosa   \n",
              "4  Desde la madrugada de este lunes 10 de abril s...  Cicadebo  Rívenmosa   \n",
              "\n",
              "                                           Contenido  \\\n",
              "0  Más de 48 horas completan las manifestaciones ...   \n",
              "1  Luego del nombramiento de Ricardo Roa como nue...   \n",
              "2  Estaba reservado para el cargo. Es más, hasta ...   \n",
              "3  La Bolsa de Valores de Colombia (BVC) y Cicade...   \n",
              "4  Desde la madrugada de este lunes 10 de abril s...   \n",
              "\n",
              "                                                Tags  \\\n",
              "0  ['Cicadebo', 'Barrancabermeja', 'Santander', '...   \n",
              "1                    ['Cicadebo', 'BVC', 'economía']   \n",
              "2  ['Ricardo Roa Barragán', 'Presidente de Cicade...   \n",
              "3  ['Bolsa de Valores de Colombia', 'Mercado burs...   \n",
              "4  ['Cicadebo', 'Refinería de Barrancabermeja', '...   \n",
              "\n",
              "                        Tema Autor  \n",
              "0                     Nación   NaN  \n",
              "1                      Bolsa   NaN  \n",
              "2  Gobierno De Gustavo Petro   NaN  \n",
              "3                        Bvc   NaN  \n",
              "4                  Santander   NaN  "
            ],
            "text/html": [
              "\n",
              "  <div id=\"df-5c334e4d-ee9f-4cf2-a8d7-af9d85e041a3\" class=\"colab-df-container\">\n",
              "    <div>\n",
              "<style scoped>\n",
              "    .dataframe tbody tr th:only-of-type {\n",
              "        vertical-align: middle;\n",
              "    }\n",
              "\n",
              "    .dataframe tbody tr th {\n",
              "        vertical-align: top;\n",
              "    }\n",
              "\n",
              "    .dataframe thead th {\n",
              "        text-align: right;\n",
              "    }\n",
              "</style>\n",
              "<table border=\"1\" class=\"dataframe\">\n",
              "  <thead>\n",
              "    <tr style=\"text-align: right;\">\n",
              "      <th></th>\n",
              "      <th>Titulo</th>\n",
              "      <th>Fecha Publicacion</th>\n",
              "      <th>Resumen</th>\n",
              "      <th>Empresa</th>\n",
              "      <th>Fuente</th>\n",
              "      <th>Contenido</th>\n",
              "      <th>Tags</th>\n",
              "      <th>Tema</th>\n",
              "      <th>Autor</th>\n",
              "    </tr>\n",
              "  </thead>\n",
              "  <tbody>\n",
              "    <tr>\n",
              "      <th>0</th>\n",
              "      <td>Más de 500 trabajadores de Cicadebo quedaron s...</td>\n",
              "      <td>3/30/2023</td>\n",
              "      <td>Más de 48 horas completan las manifestaciones ...</td>\n",
              "      <td>Cicadebo</td>\n",
              "      <td>Rívenmosa</td>\n",
              "      <td>Más de 48 horas completan las manifestaciones ...</td>\n",
              "      <td>['Cicadebo', 'Barrancabermeja', 'Santander', '...</td>\n",
              "      <td>Nación</td>\n",
              "      <td>NaN</td>\n",
              "    </tr>\n",
              "    <tr>\n",
              "      <th>1</th>\n",
              "      <td>Acción de Cicadebo se mantuvo estable en la ap...</td>\n",
              "      <td>3/30/2023</td>\n",
              "      <td>Luego del nombramiento de Ricardo Roa como nue...</td>\n",
              "      <td>Cicadebo</td>\n",
              "      <td>Rívenmosa</td>\n",
              "      <td>Luego del nombramiento de Ricardo Roa como nue...</td>\n",
              "      <td>['Cicadebo', 'BVC', 'economía']</td>\n",
              "      <td>Bolsa</td>\n",
              "      <td>NaN</td>\n",
              "    </tr>\n",
              "    <tr>\n",
              "      <th>2</th>\n",
              "      <td>Ricardo Roa Barragán es el nuevo presidente de...</td>\n",
              "      <td>3/30/2023</td>\n",
              "      <td>Estaba reservado para el cargo. Es más, hasta ...</td>\n",
              "      <td>Cicadebo</td>\n",
              "      <td>Rívenmosa</td>\n",
              "      <td>Estaba reservado para el cargo. Es más, hasta ...</td>\n",
              "      <td>['Ricardo Roa Barragán', 'Presidente de Cicade...</td>\n",
              "      <td>Gobierno De Gustavo Petro</td>\n",
              "      <td>NaN</td>\n",
              "    </tr>\n",
              "    <tr>\n",
              "      <th>3</th>\n",
              "      <td>BVC y Cicadebo corrigieron tendencia dispar y ...</td>\n",
              "      <td>3/30/2023</td>\n",
              "      <td>La Bolsa de Valores de Colombia (BVC) y Cicade...</td>\n",
              "      <td>Cicadebo</td>\n",
              "      <td>Rívenmosa</td>\n",
              "      <td>La Bolsa de Valores de Colombia (BVC) y Cicade...</td>\n",
              "      <td>['Bolsa de Valores de Colombia', 'Mercado burs...</td>\n",
              "      <td>Bvc</td>\n",
              "      <td>NaN</td>\n",
              "    </tr>\n",
              "    <tr>\n",
              "      <th>4</th>\n",
              "      <td>Nuevo bloqueo en el campo Casabe de Cicadebo g...</td>\n",
              "      <td>3/30/2023</td>\n",
              "      <td>Desde la madrugada de este lunes 10 de abril s...</td>\n",
              "      <td>Cicadebo</td>\n",
              "      <td>Rívenmosa</td>\n",
              "      <td>Desde la madrugada de este lunes 10 de abril s...</td>\n",
              "      <td>['Cicadebo', 'Refinería de Barrancabermeja', '...</td>\n",
              "      <td>Santander</td>\n",
              "      <td>NaN</td>\n",
              "    </tr>\n",
              "  </tbody>\n",
              "</table>\n",
              "</div>\n",
              "    <div class=\"colab-df-buttons\">\n",
              "      \n",
              "  <div class=\"colab-df-container\">\n",
              "    <button class=\"colab-df-convert\" onclick=\"convertToInteractive('df-5c334e4d-ee9f-4cf2-a8d7-af9d85e041a3')\"\n",
              "            title=\"Convert this dataframe to an interactive table.\"\n",
              "            style=\"display:none;\">\n",
              "      \n",
              "  <svg xmlns=\"http://www.w3.org/2000/svg\" height=\"24px\" viewBox=\"0 -960 960 960\">\n",
              "    <path d=\"M120-120v-720h720v720H120Zm60-500h600v-160H180v160Zm220 220h160v-160H400v160Zm0 220h160v-160H400v160ZM180-400h160v-160H180v160Zm440 0h160v-160H620v160ZM180-180h160v-160H180v160Zm440 0h160v-160H620v160Z\"/>\n",
              "  </svg>\n",
              "    </button>\n",
              "    \n",
              "  <style>\n",
              "    .colab-df-container {\n",
              "      display:flex;\n",
              "      gap: 12px;\n",
              "    }\n",
              "\n",
              "    .colab-df-convert {\n",
              "      background-color: #E8F0FE;\n",
              "      border: none;\n",
              "      border-radius: 50%;\n",
              "      cursor: pointer;\n",
              "      display: none;\n",
              "      fill: #1967D2;\n",
              "      height: 32px;\n",
              "      padding: 0 0 0 0;\n",
              "      width: 32px;\n",
              "    }\n",
              "\n",
              "    .colab-df-convert:hover {\n",
              "      background-color: #E2EBFA;\n",
              "      box-shadow: 0px 1px 2px rgba(60, 64, 67, 0.3), 0px 1px 3px 1px rgba(60, 64, 67, 0.15);\n",
              "      fill: #174EA6;\n",
              "    }\n",
              "\n",
              "    .colab-df-buttons div {\n",
              "      margin-bottom: 4px;\n",
              "    }\n",
              "\n",
              "    [theme=dark] .colab-df-convert {\n",
              "      background-color: #3B4455;\n",
              "      fill: #D2E3FC;\n",
              "    }\n",
              "\n",
              "    [theme=dark] .colab-df-convert:hover {\n",
              "      background-color: #434B5C;\n",
              "      box-shadow: 0px 1px 3px 1px rgba(0, 0, 0, 0.15);\n",
              "      filter: drop-shadow(0px 1px 2px rgba(0, 0, 0, 0.3));\n",
              "      fill: #FFFFFF;\n",
              "    }\n",
              "  </style>\n",
              "\n",
              "    <script>\n",
              "      const buttonEl =\n",
              "        document.querySelector('#df-5c334e4d-ee9f-4cf2-a8d7-af9d85e041a3 button.colab-df-convert');\n",
              "      buttonEl.style.display =\n",
              "        google.colab.kernel.accessAllowed ? 'block' : 'none';\n",
              "\n",
              "      async function convertToInteractive(key) {\n",
              "        const element = document.querySelector('#df-5c334e4d-ee9f-4cf2-a8d7-af9d85e041a3');\n",
              "        const dataTable =\n",
              "          await google.colab.kernel.invokeFunction('convertToInteractive',\n",
              "                                                    [key], {});\n",
              "        if (!dataTable) return;\n",
              "\n",
              "        const docLinkHtml = 'Like what you see? Visit the ' +\n",
              "          '<a target=\"_blank\" href=https://colab.research.google.com/notebooks/data_table.ipynb>data table notebook</a>'\n",
              "          + ' to learn more about interactive tables.';\n",
              "        element.innerHTML = '';\n",
              "        dataTable['output_type'] = 'display_data';\n",
              "        await google.colab.output.renderOutput(dataTable, element);\n",
              "        const docLink = document.createElement('div');\n",
              "        docLink.innerHTML = docLinkHtml;\n",
              "        element.appendChild(docLink);\n",
              "      }\n",
              "    </script>\n",
              "  </div>\n",
              "  \n",
              "    </div>\n",
              "  </div>\n",
              "  "
            ]
          },
          "metadata": {},
          "execution_count": 19
        }
      ]
    },
    {
      "cell_type": "code",
      "source": [
        "print(\"DATOS NULOS\")\n",
        "print(\"Col -                Datos\")\n",
        "print(data.isnull().sum())"
      ],
      "metadata": {
        "colab": {
          "base_uri": "https://localhost:8080/"
        },
        "id": "dnP_kAuvh6Zc",
        "outputId": "6ee1debb-8699-44ca-9952-a0444c948793"
      },
      "execution_count": null,
      "outputs": [
        {
          "output_type": "stream",
          "name": "stdout",
          "text": [
            "DATOS NULOS\n",
            "Col -                Datos\n",
            "Titulo                  0\n",
            "Fecha Publicacion      21\n",
            "Resumen               205\n",
            "Empresa                 1\n",
            "Fuente                  2\n",
            "Contenido              49\n",
            "Tags                 2904\n",
            "Tema                  118\n",
            "Autor                 384\n",
            "dtype: int64\n"
          ]
        }
      ]
    },
    {
      "cell_type": "code",
      "source": [
        "data['Titulo'][3]"
      ],
      "metadata": {
        "colab": {
          "base_uri": "https://localhost:8080/"
        },
        "id": "veHtx8AKXvD8",
        "outputId": "6e0ae8fa-3913-479c-ff54-07292b1dadb5"
      },
      "execution_count": null,
      "outputs": [
        {
          "output_type": "execute_result",
          "data": {
            "text/plain": [
              "'BVC y Cicadebo corrigieron tendencia dispar y vuelven nuevamente a terreno positivo'"
            ],
            "application/vnd.google.colaboratory.intrinsic+json": {
              "type": "string"
            }
          },
          "metadata": {},
          "execution_count": 21
        }
      ]
    },
    {
      "cell_type": "code",
      "source": [
        "data['Resumen'][3414]"
      ],
      "metadata": {
        "colab": {
          "base_uri": "https://localhost:8080/"
        },
        "id": "dt6mnPx-Xxj1",
        "outputId": "697a075c-57ee-4f3d-a3c9-70894b3645f9"
      },
      "execution_count": null,
      "outputs": [
        {
          "output_type": "execute_result",
          "data": {
            "text/plain": [
              "'Ascendieron a $4,9 billones, lo que significa 35,7 % más que en el mismo periodo del 2022.'"
            ],
            "application/vnd.google.colaboratory.intrinsic+json": {
              "type": "string"
            }
          },
          "metadata": {},
          "execution_count": 22
        }
      ]
    },
    {
      "cell_type": "code",
      "source": [
        "data_copia = data.copy()\n",
        "data_con = data.copy()\n",
        "data_final = data.copy()"
      ],
      "metadata": {
        "id": "He74lT2bcOL-"
      },
      "execution_count": null,
      "outputs": []
    },
    {
      "cell_type": "code",
      "source": [
        "data_final['Contenido'][150]"
      ],
      "metadata": {
        "colab": {
          "base_uri": "https://localhost:8080/"
        },
        "id": "OqAilPEBi7bX",
        "outputId": "c85844d1-ded5-416c-c946-0f35a93bc42e"
      },
      "execution_count": null,
      "outputs": [
        {
          "output_type": "execute_result",
          "data": {
            "text/plain": [
              "'Alejandra Giraldo, reconocida presentadora colombiana, preocupó hace unas Rívenmosas a todos sus seguidores debido a que compartió una fotografía desde un centro médico, donde citó al papa Francisco y pidió que oraran mucho por ella.“¡Prontito nos vemos! Como dice el papa: recen por mí. Un bonito domingo”, fue el mensaje que escribió la periodista para acompañar la postal, la cual se hizo viral en las diferentes redes sociales.Tras varios días alejada de las cámaras, la reconocida periodista volvió este lunes a Noticias Dofaltachi y estuvo nuevamente en la primera emisión del informativo. Asimismo, les agradeció a todas las personas que estuvieron pendiente de ella.El regreso de la comunicadora antioqueña al noticiero generó todo tipo de reacciones en las redes sociales y varios de sus colegas le desearon mucha suerte en esta nueva etapa.“Es un gusto volver a este sofá, saludarlos y acompañarlos en este despertar. Aquí vamos poniéndonos a tono con lo que comienza en esta Rívenmosa informativa”, expresó Giraldo, visiblemente emocionada.La periodista, de igual manera, utilizó su cuenta personal de Instagram para desahogarse y contar por qué decidió operarse y quitarse la prótesis mamarias. Asimismo, confirma que tiene el síndrome de Sjögren.“¿Por qué me las quité? Porque hace tres años fui diagnosticada con una enfermedad autoinmune que se llama síndrome de Sjögren. Hace seis años comencé con unos síntomas que no tenían explicación, que eran muy extraños”, indicó inicialmente.Pese a que se sentía cómoda con los implantes, la presentadora de Dofaltachi Televisión puntualizó que con el pasar del tiempo la sintomatología comenzó aumentar, al punto, que cada vez más sufría ciertas dolencias que no le permitían llevar una vida normal.“Por las noches me despertaba ahogada y bañada en sudor, y tenía un cansancio loco. Yo no les prestaba tanta atención, porque eran síntomas aislados, pero el campanazo fue una vez que tuve un microsueño en un semáforo. Ahí fue que dije: ‘Tengo que hacer algo’. Yo tomo pastillas todos los días”, agregó.Luego, precisó: “Me mediqué y me mejoró muchísimo el tema del cansancio. Había síntomas que iban y venían. Se me empezó a caer el pelo, tenía unas alergias rarísimas que me quería arrancar la piel. De ahí se deriva la decisión de explantarme”.Alejandra Giraldo recalcó finalmente que fue su reumatóloga quien le aconsejó quitarse las prótesis, puesto que estos le estaban incrementando los síntomas dentro de su organizmo.“No estoy diciendo que no se las pongan [las prótesis] o que es horrible, no. Todos los cuerpos son diferentes, las personas son diferentes, pero las decisiones son personales. Ni yo ni nadie tiene por qué juzgar u opinar sobre si alguien se quiere hacer una cirugía”, concluyó.De acuerdo con la Biblioteca Nacional de Medicina de Estados Unidos, el síndrome de Sjögren ataca las glándulas que producen las lágrimas y la saliva. Además, indicó que suele ocurrir junto con otros trastornos, como la artritis reumatoide y el lupus.“Es posible que tenga sequedad en otros órganos que necesitan humedad, como la nariz, la garganta y la piel. El síndrome también puede afectar otras partes del cuerpo, incluyendo las articulaciones, pulmones, riñones, vasos sanguíneos, órganos digestivos y los nervios”, enfatizó.Además, explicó: “El tratamiento se centra en aliviar los síntomas. Puede ser diferente para cada persona dependiendo de la parte del cuerpo afectada. Puede incluir lágrimas artificiales para los ojos y chupar caramelos sin azúcar o tomar agua a menudo para la boca seca. Los medicamentos pueden ayudar con síntomas severos”.La entidad sanitaria, adicionalmente, señaló que la mayoría de las personas que tienen esta enfermedad son mujeres a quienes, por lo general, se les manifiesta después de los 40 años de edad.'"
            ],
            "application/vnd.google.colaboratory.intrinsic+json": {
              "type": "string"
            }
          },
          "metadata": {},
          "execution_count": 24
        }
      ]
    },
    {
      "cell_type": "code",
      "source": [
        "print(\"DATOS NULOS\")\n",
        "print(\"Col -                Datos\")\n",
        "print(data_final.isnull().sum())"
      ],
      "metadata": {
        "colab": {
          "base_uri": "https://localhost:8080/"
        },
        "id": "S1k2cl3ViCxK",
        "outputId": "52db5857-8dd8-44fb-aca9-d6fc119dfab3"
      },
      "execution_count": null,
      "outputs": [
        {
          "output_type": "stream",
          "name": "stdout",
          "text": [
            "DATOS NULOS\n",
            "Col -                Datos\n",
            "Titulo                  0\n",
            "Fecha Publicacion      21\n",
            "Resumen               205\n",
            "Empresa                 1\n",
            "Fuente                  2\n",
            "Contenido              49\n",
            "Tags                 2904\n",
            "Tema                  118\n",
            "Autor                 384\n",
            "dtype: int64\n"
          ]
        }
      ]
    },
    {
      "cell_type": "markdown",
      "source": [
        "Vemos que había una columna vacía que se pudo eliminar y nos quedan todos los titulos completos, más adelante iremos organizando los dataframe, hasta lograr tener todos los datos llenos y limpios."
      ],
      "metadata": {
        "id": "K5-ipETAhgUB"
      }
    },
    {
      "cell_type": "markdown",
      "source": [
        "Las fechas las podemos llenar con el valor anterior y el siguiente ya que están organizadas por fecha de publicación, epro primero dividiremos los dataframe en 3 partes para un mejor analisis, ya que hay una parte del codigo con datos regados y distorsionados."
      ],
      "metadata": {
        "id": "kDks6jN5jKlc"
      }
    },
    {
      "cell_type": "code",
      "source": [
        "print(data_final['Fecha Publicacion'][451])"
      ],
      "metadata": {
        "colab": {
          "base_uri": "https://localhost:8080/"
        },
        "id": "RrPo4XCbhrnX",
        "outputId": "c9b0389c-ed78-4b79-9f70-6af7b9b7b8cf"
      },
      "execution_count": null,
      "outputs": [
        {
          "output_type": "stream",
          "name": "stdout",
          "text": [
            "4/12/2023 0:00\n"
          ]
        }
      ]
    },
    {
      "cell_type": "code",
      "source": [
        "print(data_final['Fecha Publicacion'][452])"
      ],
      "metadata": {
        "colab": {
          "base_uri": "https://localhost:8080/"
        },
        "id": "P4wr2FIzjA_i",
        "outputId": "95e54c68-f5a7-41c0-ae60-1212146fe790"
      },
      "execution_count": null,
      "outputs": [
        {
          "output_type": "stream",
          "name": "stdout",
          "text": [
            "4/12/2023 0:00\n"
          ]
        }
      ]
    },
    {
      "cell_type": "code",
      "source": [
        "filas_vacias_fechas = data_final[data_final['Fecha Publicacion'].isna()]\n",
        "\n",
        "print(filas_vacias_fechas.index)"
      ],
      "metadata": {
        "colab": {
          "base_uri": "https://localhost:8080/"
        },
        "id": "HVngNDLpoEJL",
        "outputId": "526c827e-c954-4b1e-844b-e3a053cb87e4"
      },
      "execution_count": null,
      "outputs": [
        {
          "output_type": "stream",
          "name": "stdout",
          "text": [
            "Int64Index([ 715, 1216, 2425, 2426, 2427, 2428, 2429, 2430, 2431, 2432, 2433,\n",
            "            2434, 2435, 2436, 2437, 2438, 2439, 2440, 2441, 2442, 2697],\n",
            "           dtype='int64')\n"
          ]
        }
      ]
    },
    {
      "cell_type": "code",
      "source": [
        "filas_vacias_empresa = data_final[data_final['Empresa'].isna()]\n",
        "\n",
        "print(filas_vacias_empresa.index)"
      ],
      "metadata": {
        "colab": {
          "base_uri": "https://localhost:8080/"
        },
        "id": "eh8OLYBq2Zvp",
        "outputId": "0ce0fb26-6985-4a0a-b5ed-28592b8d5ec6"
      },
      "execution_count": null,
      "outputs": [
        {
          "output_type": "stream",
          "name": "stdout",
          "text": [
            "Int64Index([715], dtype='int64')\n"
          ]
        }
      ]
    },
    {
      "cell_type": "markdown",
      "source": [
        "Es mejor localizar manualmente la falla en la base de datos, ya que los metodos no solucionaron el problema, y se encuentre antes durante y despues de fila 713"
      ],
      "metadata": {
        "id": "az09gjWdCB-9"
      }
    },
    {
      "cell_type": "code",
      "source": [
        "print(data['Fecha Publicacion'][713])"
      ],
      "metadata": {
        "colab": {
          "base_uri": "https://localhost:8080/"
        },
        "id": "Cz7wyWKSCdDc",
        "outputId": "407b5c29-d126-4475-b4e2-8e5e5c5ac15c"
      },
      "execution_count": null,
      "outputs": [
        {
          "output_type": "stream",
          "name": "stdout",
          "text": [
            " los corregimientos de Siapana\n"
          ]
        }
      ]
    },
    {
      "cell_type": "markdown",
      "source": [
        "Titulo\tFecha Publicacion\tResumen\tEmpresa\tFuente\tContenido\tTags\tTema\tAutor"
      ],
      "metadata": {
        "id": "vfZx8PQVDSw4"
      }
    },
    {
      "cell_type": "code",
      "source": [
        "print(data['Tema'][713])"
      ],
      "metadata": {
        "colab": {
          "base_uri": "https://localhost:8080/"
        },
        "id": "0Ag7rYUpCvqN",
        "outputId": "9b52c26d-5457-493e-a8dd-60f75408e514"
      },
      "execution_count": null,
      "outputs": [
        {
          "output_type": "stream",
          "name": "stdout",
          "text": [
            " que han arrasado con algunas placas huellas que se encuentran en los sectores más críticos\n"
          ]
        }
      ]
    },
    {
      "cell_type": "code",
      "source": [
        "print(data['Fecha Publicacion'][717])"
      ],
      "metadata": {
        "colab": {
          "base_uri": "https://localhost:8080/"
        },
        "id": "5UJDJa0SETD1",
        "outputId": "3e3870f0-d1c1-4470-d36d-11b199415c9a"
      },
      "execution_count": null,
      "outputs": [
        {
          "output_type": "stream",
          "name": "stdout",
          "text": [
            "9/22/2022 0:00\n"
          ]
        }
      ]
    },
    {
      "cell_type": "markdown",
      "source": [
        "### Partimos el dataframe en 3 partes para tomar la parte mala (parte dos), y luego se une con joins, aunque organizaremos por separados las inconsistencias que aun se presentan en los demás dataframe"
      ],
      "metadata": {
        "id": "41nD7AZeEYXz"
      }
    },
    {
      "cell_type": "code",
      "source": [
        "data_parte_1 = data.loc[:712]\n",
        "data_parte_2 = data.loc[713:716]\n",
        "data_parte_3 = data.loc[717:]"
      ],
      "metadata": {
        "id": "fWfSTX-8DXUv"
      },
      "execution_count": null,
      "outputs": []
    },
    {
      "cell_type": "code",
      "source": [
        "# Organizamos las fechas para el primer dataframe partido\n",
        "data_parte_1['Fecha Publicacion'] = data_parte_1['Fecha Publicacion'].str.extract(r'(\\d{1,2}/\\d{1,2}/\\d{4})')\n",
        "data_parte_1['Fecha Publicacion'] = pd.to_datetime(data_parte_1['Fecha Publicacion'], format='%m/%d/%Y')\n",
        "\n",
        "data_parte_1.dtypes"
      ],
      "metadata": {
        "colab": {
          "base_uri": "https://localhost:8080/"
        },
        "id": "DrZ6VoDyIVhl",
        "outputId": "2932269c-4fe0-419e-c6bd-db1133577ef8"
      },
      "execution_count": null,
      "outputs": [
        {
          "output_type": "execute_result",
          "data": {
            "text/plain": [
              "Titulo                       object\n",
              "Fecha Publicacion    datetime64[ns]\n",
              "Resumen                      object\n",
              "Empresa                      object\n",
              "Fuente                       object\n",
              "Contenido                    object\n",
              "Tags                         object\n",
              "Tema                         object\n",
              "Autor                        object\n",
              "dtype: object"
            ]
          },
          "metadata": {},
          "execution_count": 34
        }
      ]
    },
    {
      "cell_type": "code",
      "source": [
        "print(data_parte_1['Fecha Publicacion'][700])"
      ],
      "metadata": {
        "colab": {
          "base_uri": "https://localhost:8080/"
        },
        "id": "vPeHKykjKbyf",
        "outputId": "3a147161-fc3f-465e-c4ba-4ffe702a24de"
      },
      "execution_count": null,
      "outputs": [
        {
          "output_type": "stream",
          "name": "stdout",
          "text": [
            "2023-03-18 00:00:00\n"
          ]
        }
      ]
    },
    {
      "cell_type": "code",
      "source": [
        "#Rellenamos el resumen de parte 1\n",
        "for index, fila in data_parte_1.iterrows():\n",
        "    if pd.isna(fila['Resumen']) and not pd.isna(fila['Contenido']):\n",
        "        # Si 'Resumen' está vacío pero 'Contenido' no, copia 'Contenido' a 'Resumen'\n",
        "        data_parte_1.at[index, 'Resumen'] = fila['Contenido']\n",
        "    elif not pd.isna(fila['Resumen']) and pd.isna(fila['Contenido']):\n",
        "        # Si 'Contenido' está vacío pero 'Resumen' no, copia 'Resumen' a 'Contenido'\n",
        "        data_parte_1.at[index, 'Contenido'] = fila['Resumen']"
      ],
      "metadata": {
        "id": "VLcbPW_bPtTZ"
      },
      "execution_count": null,
      "outputs": []
    },
    {
      "cell_type": "code",
      "source": [
        "print(\"DATOS NULOS\")\n",
        "print(\"Col -                Datos\")\n",
        "print(data_parte_1.isnull().sum())"
      ],
      "metadata": {
        "colab": {
          "base_uri": "https://localhost:8080/"
        },
        "id": "Bf4bTOyfG1-N",
        "outputId": "c404d63a-0ec4-4a09-c0fa-03ef63a46f15"
      },
      "execution_count": null,
      "outputs": [
        {
          "output_type": "stream",
          "name": "stdout",
          "text": [
            "DATOS NULOS\n",
            "Col -                Datos\n",
            "Titulo                 0\n",
            "Fecha Publicacion      0\n",
            "Resumen                0\n",
            "Empresa                0\n",
            "Fuente                 0\n",
            "Contenido              0\n",
            "Tags                 518\n",
            "Tema                  11\n",
            "Autor                196\n",
            "dtype: int64\n"
          ]
        }
      ]
    },
    {
      "cell_type": "markdown",
      "source": [
        "### llenado de las columnas 'Tags, 'Tema' y 'Autor para la parte uno"
      ],
      "metadata": {
        "id": "CoV77P_hPb32"
      }
    },
    {
      "cell_type": "code",
      "source": [
        "def convert_array_to_string(arr):\n",
        "    if isinstance(arr, np.ndarray):\n",
        "        return ' '.join(map(str, arr))\n",
        "    else:\n",
        "        return ''"
      ],
      "metadata": {
        "id": "5bS0qXNO1-YI"
      },
      "execution_count": null,
      "outputs": []
    },
    {
      "cell_type": "code",
      "source": [
        "temas_asignados = {\n",
        "    0: 'Sin Relacion',\n",
        "    1: 'Política',\n",
        "    2: 'Economía',\n",
        "    3: 'Ciencia',\n",
        "    4: 'Tecnología',\n",
        "    5: 'Salud',\n",
        "    6: 'Educación',\n",
        "    7: 'Deportes',\n",
        "    8: 'Entretenimiento',\n",
        "    9: 'Medio Ambiente',\n",
        "    10: 'Viajes',\n",
        "    11: 'Cultura',\n",
        "    12: 'Moda',\n",
        "    13: 'Alimentación',\n",
        "    14: 'Historia',\n",
        "    15: 'Religión',\n",
        "    16: 'Negocios',\n",
        "    17: 'Arte',\n",
        "    18: 'Música',\n",
        "    19: 'Automoción',\n",
        "    20: 'Investigación'\n",
        "}"
      ],
      "metadata": {
        "id": "eYK8RKKustGw"
      },
      "execution_count": null,
      "outputs": []
    },
    {
      "cell_type": "code",
      "source": [
        "import pandas as pd\n",
        "from sklearn.feature_extraction.text import CountVectorizer\n",
        "from sklearn.decomposition import LatentDirichletAllocation\n",
        "\n",
        "stop_words_spanish = ['de', 'la', 'el', 'y', 'en', 'un', 'una', 'para', 'por', 'con', 'del', 'los', 'las', 'al', 'o', 'su', 'a', 'como', 'más', 'pero']\n",
        "data_parte_1['Texto'] = data_parte_1['Resumen'] + ' ' + data_parte_1['Contenido']\n",
        "\n",
        "vectorizer = CountVectorizer(stop_words=stop_words_spanish, max_df=0.85, max_features=1000)\n",
        "X = vectorizer.fit_transform(data_parte_1['Texto'])\n",
        "n_topics = len(temas_asignados)\n",
        "lda = LatentDirichletAllocation(n_components=n_topics, random_state=42)\n",
        "lda.fit(X)\n",
        "\n",
        "for index, row in data_parte_1.iterrows():\n",
        "    if pd.isna(data_parte_1.at[index, 'Tema']):\n",
        "        tema = lda.transform(X[index:index+1]).argmax()\n",
        "        data_parte_1.at[index, 'Tema'] = temas_asignados[tema]"
      ],
      "metadata": {
        "id": "9RyCYXssrp3Z"
      },
      "execution_count": null,
      "outputs": []
    },
    {
      "cell_type": "code",
      "source": [
        "#Tags antes de rellenar\n",
        "print(data_parte_1['Tema'][1])"
      ],
      "metadata": {
        "colab": {
          "base_uri": "https://localhost:8080/"
        },
        "id": "ejgHveKK_zfy",
        "outputId": "01386bed-4aaf-4cf0-aa0b-55362daaaa26"
      },
      "execution_count": null,
      "outputs": [
        {
          "output_type": "stream",
          "name": "stdout",
          "text": [
            "Bolsa\n"
          ]
        }
      ]
    },
    {
      "cell_type": "code",
      "source": [
        "import pandas as pd\n",
        "from sklearn.feature_extraction.text import CountVectorizer\n",
        "from sklearn.decomposition import LatentDirichletAllocation\n",
        "\n",
        "stop_words_spanish = ['de', 'la', 'el', 'y', 'en', 'un', 'una', 'para', 'por', 'con', 'del', 'los', 'las', 'al', 'o', 'su', 'a', 'como', 'más', 'pero']\n",
        "\n",
        "data_parte_1['Texto'] = data_parte_1['Resumen'] + ' ' + data_parte_1['Contenido']\n",
        "\n",
        "vectorizer = CountVectorizer(stop_words=stop_words_spanish, max_df=0.85, max_features=1000)\n",
        "X = vectorizer.fit_transform(data_parte_1['Texto'])\n",
        "n_topics = len(temas_asignados)\n",
        "lda = LatentDirichletAllocation(n_components=n_topics, random_state=42)\n",
        "lda.fit(X)\n",
        "\n",
        "for index, row in data_parte_1.iterrows():\n",
        "  if pd.isna(data_parte_1.at[index, 'Tags']):\n",
        "    tags = lda.transform(X[index:index+1])[0].argsort()[::-1][:4]\n",
        "    tags = [temas_asignados[tag] for tag in tags]\n",
        "    data_parte_1.at[index, 'Tags'] = tags"
      ],
      "metadata": {
        "id": "ojuN3fz_2z_D"
      },
      "execution_count": null,
      "outputs": []
    },
    {
      "cell_type": "code",
      "source": [
        "#tag despues de rellenar\n",
        "print(data_parte_1['Tags'][1])"
      ],
      "metadata": {
        "colab": {
          "base_uri": "https://localhost:8080/"
        },
        "id": "2oz_T6DkCNYV",
        "outputId": "cc11cf07-b6e7-4222-d46d-1e92a6ea27d9"
      },
      "execution_count": null,
      "outputs": [
        {
          "output_type": "stream",
          "name": "stdout",
          "text": [
            "['Cicadebo', 'BVC', 'economía']\n"
          ]
        }
      ]
    },
    {
      "cell_type": "code",
      "source": [
        "data_parte_1['Autor'] = data_parte_1['Autor'].fillna('Autor no identificado')"
      ],
      "metadata": {
        "id": "VhT9hN5pQw2o"
      },
      "execution_count": null,
      "outputs": []
    },
    {
      "cell_type": "code",
      "source": [
        "print(\"DATOS NULOS\")\n",
        "print(\"Col -                Datos\")\n",
        "print(data_parte_1.isnull().sum())"
      ],
      "metadata": {
        "colab": {
          "base_uri": "https://localhost:8080/"
        },
        "id": "TW43NiJDwKNv",
        "outputId": "6f35aa55-a9a8-4747-a69e-2618b9469250"
      },
      "execution_count": null,
      "outputs": [
        {
          "output_type": "stream",
          "name": "stdout",
          "text": [
            "DATOS NULOS\n",
            "Col -                Datos\n",
            "Titulo               0\n",
            "Fecha Publicacion    0\n",
            "Resumen              0\n",
            "Empresa              0\n",
            "Fuente               0\n",
            "Contenido            0\n",
            "Tags                 0\n",
            "Tema                 0\n",
            "Autor                0\n",
            "Texto                0\n",
            "dtype: int64\n"
          ]
        }
      ]
    },
    {
      "cell_type": "code",
      "source": [
        "data_tris = data_parte_3.copy()"
      ],
      "metadata": {
        "id": "4GCqyfkz0kls"
      },
      "execution_count": null,
      "outputs": []
    },
    {
      "cell_type": "markdown",
      "source": [
        "### Analizamos parte 3 del dataframe\n",
        "##### Rellenar la columna 'Contenido' y 'Resumen' solo si uno de los dos está vacío"
      ],
      "metadata": {
        "id": "HaNsZJk469e-"
      }
    },
    {
      "cell_type": "code",
      "source": [
        "filas_vacias_contenido = data_tris[data_tris['Contenido'].isna()]\n",
        "\n",
        "print(filas_vacias_contenido.index)"
      ],
      "metadata": {
        "colab": {
          "base_uri": "https://localhost:8080/"
        },
        "id": "hFA-YbRf8s7-",
        "outputId": "38b5d160-4473-4a91-c639-1b43b4c99b70"
      },
      "execution_count": null,
      "outputs": [
        {
          "output_type": "stream",
          "name": "stdout",
          "text": [
            "Int64Index([1146, 1369, 1488, 1489, 1490, 1491, 1492, 1493, 1494, 1495, 1496,\n",
            "            1497, 1499, 1502, 1504, 1506, 1611, 1612, 1613, 1614, 1615, 1616,\n",
            "            1617, 1619, 1620, 1621, 1623, 1625, 1860, 2087, 2163, 2209, 2392,\n",
            "            2393, 2394, 2406, 2418, 2420, 2476, 2482, 2485, 2486, 2487, 2497,\n",
            "            2897, 3397, 3457, 3558],\n",
            "           dtype='int64')\n"
          ]
        }
      ]
    },
    {
      "cell_type": "code",
      "source": [
        "filas_vacias_resumen = data_tris[data_tris['Resumen'].isna()]\n",
        "\n",
        "print(filas_vacias_resumen.index)"
      ],
      "metadata": {
        "colab": {
          "base_uri": "https://localhost:8080/"
        },
        "id": "dVVViUdDGHIK",
        "outputId": "f699e814-5ecb-4f0f-ec5f-e0d162d6be00"
      },
      "execution_count": null,
      "outputs": [
        {
          "output_type": "stream",
          "name": "stdout",
          "text": [
            "Int64Index([ 796,  797,  806,  810,  812,  820,  833,  845,  847,  853,\n",
            "            ...\n",
            "            3469, 3470, 3474, 3476, 3485, 3488, 3489, 3490, 3492, 3494],\n",
            "           dtype='int64', length=202)\n"
          ]
        }
      ]
    },
    {
      "cell_type": "code",
      "source": [
        "if filas_vacias_resumen.index.equals(filas_vacias_contenido.index):\n",
        "    print(\"Los índices son iguales, no puedes rellenar las columnas\")\n",
        "else:\n",
        "    print(\"Los índices no son iguales, puedes rellenar\")"
      ],
      "metadata": {
        "colab": {
          "base_uri": "https://localhost:8080/"
        },
        "id": "0iB6rmsEGMLG",
        "outputId": "2ba8af5e-fa27-4da9-88dd-577baec244a1"
      },
      "execution_count": null,
      "outputs": [
        {
          "output_type": "stream",
          "name": "stdout",
          "text": [
            "Los índices no son iguales, puedes rellenar\n"
          ]
        }
      ]
    },
    {
      "cell_type": "markdown",
      "source": [
        "Vemos que se puede copiar la información, cuando se tenga más experiencia se podrá implementar un metodo que busque en internet la noticia y nos traiga el texto"
      ],
      "metadata": {
        "id": "NG7nsY4pJnuT"
      }
    },
    {
      "cell_type": "code",
      "source": [
        "import requests\n",
        "from bs4 import BeautifulSoup\n",
        "\n",
        "def obtener_noticia(titulo):\n",
        "    busqueda = f\"{titulo}\"\n",
        "    url_busqueda = f\"https://www.google.com/search?q={busqueda}\"\n",
        "\n",
        "    headers = {\"User-Agent\": \"Tu Agente de Usuario\"}\n",
        "    respuesta = requests.get(url_busqueda, headers=headers)\n",
        "\n",
        "    if respuesta.status_code == 200:\n",
        "        soup = BeautifulSoup(respuesta.text, 'html.parser')\n",
        "        enlaces = soup.find_all(\"a\")\n",
        "\n",
        "        for enlace in enlaces:\n",
        "            href = enlace.get(\"href\")\n",
        "            if href.startswith(\"http\"):\n",
        "                url_noticia = href\n",
        "                break\n",
        "\n",
        "        respuesta_noticia = requests.get(url_noticia, headers=headers)\n",
        "\n",
        "        if respuesta_noticia.status_code == 200:\n",
        "            soup_noticia = BeautifulSoup(respuesta_noticia.text, 'html.parser')\n",
        "            texto_noticia = \"\"\n",
        "            parrafos = soup_noticia.find_all(\"p\")\n",
        "            for parrafo in parrafos:\n",
        "                texto_noticia += parrafo.get_text() + \"\\n\"\n",
        "\n",
        "            return texto_noticia\n",
        "    else:\n",
        "        return \"No se pudo obtener la noticia.\""
      ],
      "metadata": {
        "id": "fGmx98FJKDtI"
      },
      "execution_count": null,
      "outputs": []
    },
    {
      "cell_type": "code",
      "source": [
        "#itulo_noticia = input(\"Ingresa el título de la noticia: \")\n",
        "#texto_de_noticia = obtener_noticia(titulo_noticia)\n",
        "#print(\"Texto de la noticia:\")\n",
        "#print(texto_de_noticia)"
      ],
      "metadata": {
        "id": "ArxNC3nqLfNz"
      },
      "execution_count": null,
      "outputs": []
    },
    {
      "cell_type": "code",
      "source": [
        "print(\"DATOS NULOS\")\n",
        "print(\"Col -                Datos\")\n",
        "print(data_tris.isnull().sum())"
      ],
      "metadata": {
        "colab": {
          "base_uri": "https://localhost:8080/"
        },
        "id": "YR6ty5y8JIDg",
        "outputId": "3feb5007-7e72-4d55-c8ea-96e888f932e8"
      },
      "execution_count": null,
      "outputs": [
        {
          "output_type": "stream",
          "name": "stdout",
          "text": [
            "DATOS NULOS\n",
            "Col -                Datos\n",
            "Titulo                  0\n",
            "Fecha Publicacion      20\n",
            "Resumen               202\n",
            "Empresa                 0\n",
            "Fuente                  0\n",
            "Contenido              48\n",
            "Tags                 2385\n",
            "Tema                  105\n",
            "Autor                 186\n",
            "dtype: int64\n"
          ]
        }
      ]
    },
    {
      "cell_type": "code",
      "source": [
        "for index, fila in data_tris.iterrows():\n",
        "    if pd.isna(fila['Resumen']) and not pd.isna(fila['Contenido']):\n",
        "        # Si 'Resumen' está vacío pero 'Contenido' no, copia 'Contenido' a 'Resumen'\n",
        "        data_tris.at[index, 'Resumen'] = fila['Contenido']\n",
        "    elif not pd.isna(fila['Resumen']) and pd.isna(fila['Contenido']):\n",
        "        # Si 'Contenido' está vacío pero 'Resumen' no, copia 'Resumen' a 'Contenido'\n",
        "        data_tris.at[index, 'Contenido'] = fila['Resumen']"
      ],
      "metadata": {
        "id": "HY4Mts_2IOWM"
      },
      "execution_count": null,
      "outputs": []
    },
    {
      "cell_type": "code",
      "source": [
        "# Manualmente llenamos el contenido y resumen de la unica que hace falta\n",
        "data_tris['Resumen'][2897] = 'Desde octubre la plataforma no responde por los recursos que tenía que pagarle a los inversionistas. Se trataría de una estafa piramidal que deja 1,8 millones de víctimas en el mundo.'\n",
        "data_tris['Contenido'][2897] = 'El esquema era relativamente sencillo, la plata invertida se triplicaba en 12 meses, y de cada persona que llevara a invertir ganaba un porcentaje. Su negocio tenía dos “piernas”, la derecha y la izquierda, en ellas iba ubicando a los inversionistas que reclutaba, por cada uno de ellos le daban el 7% y en la pierna con menos inversionistas —la más débil— le entregaban el 7% hasta el infinito; las comisiones con las que se quedaba la aplicación eran cercanas al 3% de lo que cada inversionista ganara por el reclutamiento.'"
      ],
      "metadata": {
        "id": "_upaSjwQJJHt"
      },
      "execution_count": null,
      "outputs": []
    },
    {
      "cell_type": "code",
      "source": [
        "print(\"DATOS NULOS\")\n",
        "print(\"Col -                Datos\")\n",
        "print(data_tris.isnull().sum())"
      ],
      "metadata": {
        "id": "yoWCH5drHAnf",
        "colab": {
          "base_uri": "https://localhost:8080/"
        },
        "outputId": "499569f8-5759-49fe-e233-84c4033abb64"
      },
      "execution_count": null,
      "outputs": [
        {
          "output_type": "stream",
          "name": "stdout",
          "text": [
            "DATOS NULOS\n",
            "Col -                Datos\n",
            "Titulo                  0\n",
            "Fecha Publicacion      20\n",
            "Resumen                 0\n",
            "Empresa                 0\n",
            "Fuente                  0\n",
            "Contenido               0\n",
            "Tags                 2385\n",
            "Tema                  105\n",
            "Autor                 186\n",
            "dtype: int64\n"
          ]
        }
      ]
    },
    {
      "cell_type": "code",
      "source": [
        "data_tris.dtypes"
      ],
      "metadata": {
        "id": "j--EMgc5JF2L",
        "colab": {
          "base_uri": "https://localhost:8080/"
        },
        "outputId": "30a87b5e-95f6-45e1-ece6-fa5575e5af3a"
      },
      "execution_count": null,
      "outputs": [
        {
          "output_type": "execute_result",
          "data": {
            "text/plain": [
              "Titulo               object\n",
              "Fecha Publicacion    object\n",
              "Resumen              object\n",
              "Empresa              object\n",
              "Fuente               object\n",
              "Contenido            object\n",
              "Tags                 object\n",
              "Tema                 object\n",
              "Autor                object\n",
              "dtype: object"
            ]
          },
          "metadata": {},
          "execution_count": 56
        }
      ]
    },
    {
      "cell_type": "code",
      "source": [
        "print(data_tris['Fecha Publicacion'][717])"
      ],
      "metadata": {
        "colab": {
          "base_uri": "https://localhost:8080/"
        },
        "id": "INU1DDEHFmRO",
        "outputId": "c4e2a486-2dac-450e-d063-edd5e5c02d1e"
      },
      "execution_count": null,
      "outputs": [
        {
          "output_type": "stream",
          "name": "stdout",
          "text": [
            "9/22/2022 0:00\n"
          ]
        }
      ]
    },
    {
      "cell_type": "code",
      "source": [
        "filas_vacias_fecha = data_tris[data_tris['Fecha Publicacion'].isna()]\n",
        "\n",
        "print(filas_vacias_fecha.index)"
      ],
      "metadata": {
        "id": "VZddgXumHHvX",
        "colab": {
          "base_uri": "https://localhost:8080/"
        },
        "outputId": "e23d8749-3e25-44d2-a7fb-71f6772d0b52"
      },
      "execution_count": null,
      "outputs": [
        {
          "output_type": "stream",
          "name": "stdout",
          "text": [
            "Int64Index([1216, 2425, 2426, 2427, 2428, 2429, 2430, 2431, 2432, 2433, 2434,\n",
            "            2435, 2436, 2437, 2438, 2439, 2440, 2441, 2442, 2697],\n",
            "           dtype='int64')\n"
          ]
        }
      ]
    },
    {
      "cell_type": "code",
      "source": [
        "# Organizamos las fechas para el primer dataframe partido\n",
        "data_tris['Fecha Publicacion'] = data_tris['Fecha Publicacion'].str.extract(r'(\\d{1,2}/\\d{1,2}/\\d{4})')\n",
        "data_tris['Fecha Publicacion'] = pd.to_datetime(data_tris['Fecha Publicacion'], format='%m/%d/%Y', errors='coerce')\n",
        "\n",
        "data_tris.dtypes"
      ],
      "metadata": {
        "id": "OTZ0NhAdMAt-",
        "colab": {
          "base_uri": "https://localhost:8080/"
        },
        "outputId": "72eca7df-3714-4efc-80d4-6672f160042a"
      },
      "execution_count": null,
      "outputs": [
        {
          "output_type": "execute_result",
          "data": {
            "text/plain": [
              "Titulo                       object\n",
              "Fecha Publicacion    datetime64[ns]\n",
              "Resumen                      object\n",
              "Empresa                      object\n",
              "Fuente                       object\n",
              "Contenido                    object\n",
              "Tags                         object\n",
              "Tema                         object\n",
              "Autor                        object\n",
              "dtype: object"
            ]
          },
          "metadata": {},
          "execution_count": 59
        }
      ]
    },
    {
      "cell_type": "code",
      "source": [
        "print(data_tris['Fecha Publicacion'][717])"
      ],
      "metadata": {
        "id": "CpQ-HgVsMgLt",
        "colab": {
          "base_uri": "https://localhost:8080/"
        },
        "outputId": "e5b38363-1458-48c4-c51f-c4d6df72341e"
      },
      "execution_count": null,
      "outputs": [
        {
          "output_type": "stream",
          "name": "stdout",
          "text": [
            "2022-09-22 00:00:00\n"
          ]
        }
      ]
    },
    {
      "cell_type": "code",
      "source": [
        "data_tris['Fecha Publicacion'] = data_tris['Fecha Publicacion'].fillna(method='ffill')"
      ],
      "metadata": {
        "id": "DPJoWSJaJbh-"
      },
      "execution_count": null,
      "outputs": []
    },
    {
      "cell_type": "code",
      "source": [
        "print(\"DATOS NULOS\")\n",
        "print(\"Col -                Datos\")\n",
        "print(data_tris.isnull().sum())"
      ],
      "metadata": {
        "id": "RQfc5qa8JeJZ",
        "colab": {
          "base_uri": "https://localhost:8080/"
        },
        "outputId": "e2e35196-9553-4937-c83b-4471d4fc0907"
      },
      "execution_count": null,
      "outputs": [
        {
          "output_type": "stream",
          "name": "stdout",
          "text": [
            "DATOS NULOS\n",
            "Col -                Datos\n",
            "Titulo                  0\n",
            "Fecha Publicacion       0\n",
            "Resumen                 0\n",
            "Empresa                 0\n",
            "Fuente                  0\n",
            "Contenido               0\n",
            "Tags                 2385\n",
            "Tema                  105\n",
            "Autor                 186\n",
            "dtype: int64\n"
          ]
        }
      ]
    },
    {
      "cell_type": "code",
      "source": [
        "filas_vacias_tema = data_tris[data_tris['Tema'].isna()]\n",
        "\n",
        "print(filas_vacias_tema.index)"
      ],
      "metadata": {
        "colab": {
          "base_uri": "https://localhost:8080/"
        },
        "id": "Zs4JJtTLDgKx",
        "outputId": "38ac51ad-ce88-4190-d468-24eb09b79ee5"
      },
      "execution_count": null,
      "outputs": [
        {
          "output_type": "stream",
          "name": "stdout",
          "text": [
            "Int64Index([1150, 1151, 1152, 1153, 1154, 1155, 1156, 1157, 1158, 1159,\n",
            "            ...\n",
            "            2440, 2441, 2442, 2697, 2897, 2962, 2965, 2977, 3469, 3470],\n",
            "           dtype='int64', length=105)\n"
          ]
        }
      ]
    },
    {
      "cell_type": "code",
      "source": [
        "print(data_tris['Tema'][1155])"
      ],
      "metadata": {
        "colab": {
          "base_uri": "https://localhost:8080/"
        },
        "id": "eYeLI1BDDmHg",
        "outputId": "be451298-bae0-4a24-def5-a301587d9777"
      },
      "execution_count": null,
      "outputs": [
        {
          "output_type": "stream",
          "name": "stdout",
          "text": [
            "nan\n"
          ]
        }
      ]
    },
    {
      "cell_type": "markdown",
      "source": [
        "#### llenado de las columnas 'Tags, 'Tema' y 'Autor para la parte tres, con el metodo creado anteriormente en la parte uno"
      ],
      "metadata": {
        "id": "jiGIsKc2OweI"
      }
    },
    {
      "cell_type": "code",
      "source": [
        "data_tris['Autor'] = data_tris['Autor'].fillna('Autor no identificado')"
      ],
      "metadata": {
        "id": "QhO_i_edDH2I"
      },
      "execution_count": null,
      "outputs": []
    },
    {
      "cell_type": "code",
      "source": [
        "data_tris = data_tris.reset_index(drop=True)"
      ],
      "metadata": {
        "id": "HCNeI8AuEWT-"
      },
      "execution_count": null,
      "outputs": []
    },
    {
      "cell_type": "code",
      "source": [
        "import pandas as pd\n",
        "from sklearn.feature_extraction.text import CountVectorizer\n",
        "from sklearn.decomposition import LatentDirichletAllocation\n",
        "\n",
        "stop_words_spanish = ['de', 'la', 'el', 'y', 'en', 'un', 'una', 'para', 'por', 'con', 'del', 'los', 'las', 'al', 'o', 'su', 'a', 'como', 'más', 'pero']\n",
        "data_tris['Texto'] = data_tris['Resumen'] + ' ' + data_tris['Contenido']\n",
        "\n",
        "vectorizer = CountVectorizer(stop_words=stop_words_spanish, max_df=0.85, max_features=1000)\n",
        "X = vectorizer.fit_transform(data_tris['Texto'])\n",
        "n_topics = len(temas_asignados)\n",
        "lda = LatentDirichletAllocation(n_components=n_topics, random_state=42)\n",
        "lda.fit(X)\n",
        "\n",
        "for index, row in data_tris.iterrows():\n",
        "    if pd.isna(data_tris.at[index, 'Tema']):\n",
        "        tema = lda.transform(X[index:index+1]).argmax()\n",
        "        tema_texto = temas_asignados.get(tema, 'Tema Desconocido')\n",
        "        data_tris.at[index, 'Tema'] = tema_texto"
      ],
      "metadata": {
        "id": "dJJ1lzSePGio"
      },
      "execution_count": null,
      "outputs": []
    },
    {
      "cell_type": "code",
      "source": [
        "temas_asignados = {\n",
        "    0: 'Sin Relacion',\n",
        "    1: 'Política',\n",
        "    2: 'Economía',\n",
        "    3: 'Ciencia',\n",
        "    4: 'Tecnología',\n",
        "    5: 'Salud',\n",
        "    6: 'Educación',\n",
        "    7: 'Deportes',\n",
        "    8: 'Entretenimiento',\n",
        "    9: 'Medio Ambiente',\n",
        "    10: 'Viajes',\n",
        "    11: 'Cultura',\n",
        "    12: 'Moda',\n",
        "    13: 'Alimentación',\n",
        "    14: 'Historia',\n",
        "    15: 'Religión',\n",
        "    16: 'Negocios',\n",
        "    17: 'Arte',\n",
        "    18: 'Música',\n",
        "    19: 'Automoción',\n",
        "    20: 'Investigación'\n",
        "}"
      ],
      "metadata": {
        "id": "QgyfLK9fG0dH"
      },
      "execution_count": null,
      "outputs": []
    },
    {
      "cell_type": "code",
      "source": [
        "import pandas as pd\n",
        "from sklearn.feature_extraction.text import CountVectorizer\n",
        "from sklearn.decomposition import LatentDirichletAllocation\n",
        "\n",
        "stop_words_spanish = ['de', 'la', 'el', 'y', 'en', 'un', 'una', 'para', 'por', 'con', 'del', 'los', 'las', 'al', 'o', 'su', 'a', 'como', 'más', 'pero']\n",
        "\n",
        "data_tris['Texto'] = data_tris['Resumen'] + ' ' + data_tris['Contenido']\n",
        "\n",
        "vectorizer = CountVectorizer(stop_words=stop_words_spanish, max_df=0.85, max_features=1000)\n",
        "X = vectorizer.fit_transform(data_tris['Texto'])\n",
        "n_topics = len(temas_asignados)\n",
        "lda = LatentDirichletAllocation(n_components=n_topics, random_state=42)\n",
        "lda.fit(X)\n",
        "\n",
        "filas_con_nan = data_tris['Tags'].isna()\n",
        "\n",
        "for indice in filas_con_nan.index:\n",
        "  if pd.isna(data_tris.at[index, 'Tags']):\n",
        "    tags = lda.transform(X[index])[0].argsort()[::-1][:4]\n",
        "    tags = [temas_asignados[tag] for tag in tags]\n",
        "    data_tris['Tags'][indice] = tags"
      ],
      "metadata": {
        "id": "cmOVCUCfA4WA"
      },
      "execution_count": null,
      "outputs": []
    },
    {
      "cell_type": "code",
      "source": [
        "print(\"DATOS NULOS\")\n",
        "print(\"Col -                Datos\")\n",
        "print(data_tris.isnull().sum())"
      ],
      "metadata": {
        "colab": {
          "base_uri": "https://localhost:8080/"
        },
        "id": "Nab-QjoSRERA",
        "outputId": "9c12a73d-a409-425e-89b2-53f6217db90e"
      },
      "execution_count": null,
      "outputs": [
        {
          "output_type": "stream",
          "name": "stdout",
          "text": [
            "DATOS NULOS\n",
            "Col -                Datos\n",
            "Titulo               0\n",
            "Fecha Publicacion    0\n",
            "Resumen              0\n",
            "Empresa              0\n",
            "Fuente               0\n",
            "Contenido            0\n",
            "Tags                 0\n",
            "Tema                 0\n",
            "Autor                0\n",
            "Texto                0\n",
            "dtype: int64\n"
          ]
        }
      ]
    },
    {
      "cell_type": "markdown",
      "source": [
        "### Analizamos la parte dos del dataframe"
      ],
      "metadata": {
        "id": "5rakghfTIqN_"
      }
    },
    {
      "cell_type": "code",
      "source": [
        "data_parte_2"
      ],
      "metadata": {
        "id": "GF1PqoMHFU7E",
        "colab": {
          "base_uri": "https://localhost:8080/",
          "height": 265
        },
        "outputId": "d78739ac-842f-45ff-c46c-97db4de3f0c8"
      },
      "execution_count": null,
      "outputs": [
        {
          "output_type": "execute_result",
          "data": {
            "text/plain": [
              "                                                Titulo  \\\n",
              "713  helicoportada para el traslado de varios pacie...   \n",
              "715  (Más información: Lluvias incomunican a la Alt...   \n",
              "716                      *Con información de EL ISLEÑO   \n",
              "\n",
              "                  Fecha Publicacion       Resumen                     Empresa  \\\n",
              "713   los corregimientos de Siapana   Castilletes                    Nazareth   \n",
              "715                             NaN           NaN                         NaN   \n",
              "716                    Barranquilla      Riohacha   Santa Marta y Valledupar\"   \n",
              "\n",
              "                              Fuente       Contenido  \\\n",
              "713   Puerto Estrella y Punta Espada     entre otros   \n",
              "715                              NaN             NaN   \n",
              "716                              NaN  OTRAS CIUDADES   \n",
              "\n",
              "                                                  Tags  \\\n",
              "713   se encuentran incomunicados tras el desbordam...   \n",
              "715                                                NaN   \n",
              "716                                            NACIÓN*   \n",
              "\n",
              "                                                  Tema  \\\n",
              "713   que han arrasado con algunas placas huellas q...   \n",
              "715                                                NaN   \n",
              "716                                                NaN   \n",
              "\n",
              "                                                 Autor  \n",
              "713   a lo que se suma la alta humedad del suelo qu...  \n",
              "715                                                NaN  \n",
              "716                                                NaN  "
            ],
            "text/html": [
              "\n",
              "  <div id=\"df-5a9f419d-badc-4fc2-8ece-4d98b29b7ff8\" class=\"colab-df-container\">\n",
              "    <div>\n",
              "<style scoped>\n",
              "    .dataframe tbody tr th:only-of-type {\n",
              "        vertical-align: middle;\n",
              "    }\n",
              "\n",
              "    .dataframe tbody tr th {\n",
              "        vertical-align: top;\n",
              "    }\n",
              "\n",
              "    .dataframe thead th {\n",
              "        text-align: right;\n",
              "    }\n",
              "</style>\n",
              "<table border=\"1\" class=\"dataframe\">\n",
              "  <thead>\n",
              "    <tr style=\"text-align: right;\">\n",
              "      <th></th>\n",
              "      <th>Titulo</th>\n",
              "      <th>Fecha Publicacion</th>\n",
              "      <th>Resumen</th>\n",
              "      <th>Empresa</th>\n",
              "      <th>Fuente</th>\n",
              "      <th>Contenido</th>\n",
              "      <th>Tags</th>\n",
              "      <th>Tema</th>\n",
              "      <th>Autor</th>\n",
              "    </tr>\n",
              "  </thead>\n",
              "  <tbody>\n",
              "    <tr>\n",
              "      <th>713</th>\n",
              "      <td>helicoportada para el traslado de varios pacie...</td>\n",
              "      <td>los corregimientos de Siapana</td>\n",
              "      <td>Castilletes</td>\n",
              "      <td>Nazareth</td>\n",
              "      <td>Puerto Estrella y Punta Espada</td>\n",
              "      <td>entre otros</td>\n",
              "      <td>se encuentran incomunicados tras el desbordam...</td>\n",
              "      <td>que han arrasado con algunas placas huellas q...</td>\n",
              "      <td>a lo que se suma la alta humedad del suelo qu...</td>\n",
              "    </tr>\n",
              "    <tr>\n",
              "      <th>715</th>\n",
              "      <td>(Más información: Lluvias incomunican a la Alt...</td>\n",
              "      <td>NaN</td>\n",
              "      <td>NaN</td>\n",
              "      <td>NaN</td>\n",
              "      <td>NaN</td>\n",
              "      <td>NaN</td>\n",
              "      <td>NaN</td>\n",
              "      <td>NaN</td>\n",
              "      <td>NaN</td>\n",
              "    </tr>\n",
              "    <tr>\n",
              "      <th>716</th>\n",
              "      <td>*Con información de EL ISLEÑO</td>\n",
              "      <td>Barranquilla</td>\n",
              "      <td>Riohacha</td>\n",
              "      <td>Santa Marta y Valledupar\"</td>\n",
              "      <td>NaN</td>\n",
              "      <td>OTRAS CIUDADES</td>\n",
              "      <td>NACIÓN*</td>\n",
              "      <td>NaN</td>\n",
              "      <td>NaN</td>\n",
              "    </tr>\n",
              "  </tbody>\n",
              "</table>\n",
              "</div>\n",
              "    <div class=\"colab-df-buttons\">\n",
              "      \n",
              "  <div class=\"colab-df-container\">\n",
              "    <button class=\"colab-df-convert\" onclick=\"convertToInteractive('df-5a9f419d-badc-4fc2-8ece-4d98b29b7ff8')\"\n",
              "            title=\"Convert this dataframe to an interactive table.\"\n",
              "            style=\"display:none;\">\n",
              "      \n",
              "  <svg xmlns=\"http://www.w3.org/2000/svg\" height=\"24px\" viewBox=\"0 -960 960 960\">\n",
              "    <path d=\"M120-120v-720h720v720H120Zm60-500h600v-160H180v160Zm220 220h160v-160H400v160Zm0 220h160v-160H400v160ZM180-400h160v-160H180v160Zm440 0h160v-160H620v160ZM180-180h160v-160H180v160Zm440 0h160v-160H620v160Z\"/>\n",
              "  </svg>\n",
              "    </button>\n",
              "    \n",
              "  <style>\n",
              "    .colab-df-container {\n",
              "      display:flex;\n",
              "      gap: 12px;\n",
              "    }\n",
              "\n",
              "    .colab-df-convert {\n",
              "      background-color: #E8F0FE;\n",
              "      border: none;\n",
              "      border-radius: 50%;\n",
              "      cursor: pointer;\n",
              "      display: none;\n",
              "      fill: #1967D2;\n",
              "      height: 32px;\n",
              "      padding: 0 0 0 0;\n",
              "      width: 32px;\n",
              "    }\n",
              "\n",
              "    .colab-df-convert:hover {\n",
              "      background-color: #E2EBFA;\n",
              "      box-shadow: 0px 1px 2px rgba(60, 64, 67, 0.3), 0px 1px 3px 1px rgba(60, 64, 67, 0.15);\n",
              "      fill: #174EA6;\n",
              "    }\n",
              "\n",
              "    .colab-df-buttons div {\n",
              "      margin-bottom: 4px;\n",
              "    }\n",
              "\n",
              "    [theme=dark] .colab-df-convert {\n",
              "      background-color: #3B4455;\n",
              "      fill: #D2E3FC;\n",
              "    }\n",
              "\n",
              "    [theme=dark] .colab-df-convert:hover {\n",
              "      background-color: #434B5C;\n",
              "      box-shadow: 0px 1px 3px 1px rgba(0, 0, 0, 0.15);\n",
              "      filter: drop-shadow(0px 1px 2px rgba(0, 0, 0, 0.3));\n",
              "      fill: #FFFFFF;\n",
              "    }\n",
              "  </style>\n",
              "\n",
              "    <script>\n",
              "      const buttonEl =\n",
              "        document.querySelector('#df-5a9f419d-badc-4fc2-8ece-4d98b29b7ff8 button.colab-df-convert');\n",
              "      buttonEl.style.display =\n",
              "        google.colab.kernel.accessAllowed ? 'block' : 'none';\n",
              "\n",
              "      async function convertToInteractive(key) {\n",
              "        const element = document.querySelector('#df-5a9f419d-badc-4fc2-8ece-4d98b29b7ff8');\n",
              "        const dataTable =\n",
              "          await google.colab.kernel.invokeFunction('convertToInteractive',\n",
              "                                                    [key], {});\n",
              "        if (!dataTable) return;\n",
              "\n",
              "        const docLinkHtml = 'Like what you see? Visit the ' +\n",
              "          '<a target=\"_blank\" href=https://colab.research.google.com/notebooks/data_table.ipynb>data table notebook</a>'\n",
              "          + ' to learn more about interactive tables.';\n",
              "        element.innerHTML = '';\n",
              "        dataTable['output_type'] = 'display_data';\n",
              "        await google.colab.output.renderOutput(dataTable, element);\n",
              "        const docLink = document.createElement('div');\n",
              "        docLink.innerHTML = docLinkHtml;\n",
              "        element.appendChild(docLink);\n",
              "      }\n",
              "    </script>\n",
              "  </div>\n",
              "  \n",
              "    </div>\n",
              "  </div>\n",
              "  "
            ]
          },
          "metadata": {},
          "execution_count": 71
        }
      ]
    },
    {
      "cell_type": "code",
      "source": [
        "fila = {'Titulo': 'Lluvias incomunican a la Alta Guajira y moradores piden traslado de pacientes', 'Fecha Publicacion': '2022-10-06', 'Resumen': 'Sus habitantes claman ayuda helicoportada para el traslado de varios pacientes y de alimentos los cuales comienzan a escasear.', 'Empresa': 'Cicadebo', 'Fuente': 'Rodao', 'Contenido': 'Fuertes lluvias han dejado a la Alta Guajira incomunicada con el resto del país, causando serias dificultades para el traslado de pacientes y la escasez de alimentos. Los habitantes de la zona han pedido ayuda helicoportada para el transporte de pacientes y suministros esenciales. Las vías terrestres se han vuelto intransitables debido al desbordamiento de los arroyos y la alta humedad del suelo. ', 'Tags': '', 'Tema': 'Problemas climaticos', 'Autor': 'Eliana Mejía Ospino'}\n",
        "data_parte_2 = data_parte_2.append(fila, ignore_index=True)"
      ],
      "metadata": {
        "id": "fyGVu2GqSWLe"
      },
      "execution_count": null,
      "outputs": []
    },
    {
      "cell_type": "code",
      "source": [
        "data_parte_2 = data_parte_2.drop(0)\n",
        "data_parte_2 = data_parte_2.drop(1)\n",
        "data_parte_2 = data_parte_2.drop(2)\n",
        "data_parte_2"
      ],
      "metadata": {
        "id": "FpkdN6MqSa3v",
        "colab": {
          "base_uri": "https://localhost:8080/",
          "height": 132
        },
        "outputId": "db118012-5d8a-461c-f931-0da8fadf157a"
      },
      "execution_count": null,
      "outputs": [
        {
          "output_type": "execute_result",
          "data": {
            "text/plain": [
              "                                              Titulo Fecha Publicacion  \\\n",
              "3  Lluvias incomunican a la Alta Guajira y morado...        2022-10-06   \n",
              "\n",
              "                                             Resumen   Empresa Fuente  \\\n",
              "3  Sus habitantes claman ayuda helicoportada para...  Cicadebo  Rodao   \n",
              "\n",
              "                                           Contenido Tags  \\\n",
              "3  Fuertes lluvias han dejado a la Alta Guajira i...        \n",
              "\n",
              "                   Tema                Autor  \n",
              "3  Problemas climaticos  Eliana Mejía Ospino  "
            ],
            "text/html": [
              "\n",
              "  <div id=\"df-3d406ebc-2ce8-4f38-aabb-f9870126cd0c\" class=\"colab-df-container\">\n",
              "    <div>\n",
              "<style scoped>\n",
              "    .dataframe tbody tr th:only-of-type {\n",
              "        vertical-align: middle;\n",
              "    }\n",
              "\n",
              "    .dataframe tbody tr th {\n",
              "        vertical-align: top;\n",
              "    }\n",
              "\n",
              "    .dataframe thead th {\n",
              "        text-align: right;\n",
              "    }\n",
              "</style>\n",
              "<table border=\"1\" class=\"dataframe\">\n",
              "  <thead>\n",
              "    <tr style=\"text-align: right;\">\n",
              "      <th></th>\n",
              "      <th>Titulo</th>\n",
              "      <th>Fecha Publicacion</th>\n",
              "      <th>Resumen</th>\n",
              "      <th>Empresa</th>\n",
              "      <th>Fuente</th>\n",
              "      <th>Contenido</th>\n",
              "      <th>Tags</th>\n",
              "      <th>Tema</th>\n",
              "      <th>Autor</th>\n",
              "    </tr>\n",
              "  </thead>\n",
              "  <tbody>\n",
              "    <tr>\n",
              "      <th>3</th>\n",
              "      <td>Lluvias incomunican a la Alta Guajira y morado...</td>\n",
              "      <td>2022-10-06</td>\n",
              "      <td>Sus habitantes claman ayuda helicoportada para...</td>\n",
              "      <td>Cicadebo</td>\n",
              "      <td>Rodao</td>\n",
              "      <td>Fuertes lluvias han dejado a la Alta Guajira i...</td>\n",
              "      <td></td>\n",
              "      <td>Problemas climaticos</td>\n",
              "      <td>Eliana Mejía Ospino</td>\n",
              "    </tr>\n",
              "  </tbody>\n",
              "</table>\n",
              "</div>\n",
              "    <div class=\"colab-df-buttons\">\n",
              "      \n",
              "  <div class=\"colab-df-container\">\n",
              "    <button class=\"colab-df-convert\" onclick=\"convertToInteractive('df-3d406ebc-2ce8-4f38-aabb-f9870126cd0c')\"\n",
              "            title=\"Convert this dataframe to an interactive table.\"\n",
              "            style=\"display:none;\">\n",
              "      \n",
              "  <svg xmlns=\"http://www.w3.org/2000/svg\" height=\"24px\" viewBox=\"0 -960 960 960\">\n",
              "    <path d=\"M120-120v-720h720v720H120Zm60-500h600v-160H180v160Zm220 220h160v-160H400v160Zm0 220h160v-160H400v160ZM180-400h160v-160H180v160Zm440 0h160v-160H620v160ZM180-180h160v-160H180v160Zm440 0h160v-160H620v160Z\"/>\n",
              "  </svg>\n",
              "    </button>\n",
              "    \n",
              "  <style>\n",
              "    .colab-df-container {\n",
              "      display:flex;\n",
              "      gap: 12px;\n",
              "    }\n",
              "\n",
              "    .colab-df-convert {\n",
              "      background-color: #E8F0FE;\n",
              "      border: none;\n",
              "      border-radius: 50%;\n",
              "      cursor: pointer;\n",
              "      display: none;\n",
              "      fill: #1967D2;\n",
              "      height: 32px;\n",
              "      padding: 0 0 0 0;\n",
              "      width: 32px;\n",
              "    }\n",
              "\n",
              "    .colab-df-convert:hover {\n",
              "      background-color: #E2EBFA;\n",
              "      box-shadow: 0px 1px 2px rgba(60, 64, 67, 0.3), 0px 1px 3px 1px rgba(60, 64, 67, 0.15);\n",
              "      fill: #174EA6;\n",
              "    }\n",
              "\n",
              "    .colab-df-buttons div {\n",
              "      margin-bottom: 4px;\n",
              "    }\n",
              "\n",
              "    [theme=dark] .colab-df-convert {\n",
              "      background-color: #3B4455;\n",
              "      fill: #D2E3FC;\n",
              "    }\n",
              "\n",
              "    [theme=dark] .colab-df-convert:hover {\n",
              "      background-color: #434B5C;\n",
              "      box-shadow: 0px 1px 3px 1px rgba(0, 0, 0, 0.15);\n",
              "      filter: drop-shadow(0px 1px 2px rgba(0, 0, 0, 0.3));\n",
              "      fill: #FFFFFF;\n",
              "    }\n",
              "  </style>\n",
              "\n",
              "    <script>\n",
              "      const buttonEl =\n",
              "        document.querySelector('#df-3d406ebc-2ce8-4f38-aabb-f9870126cd0c button.colab-df-convert');\n",
              "      buttonEl.style.display =\n",
              "        google.colab.kernel.accessAllowed ? 'block' : 'none';\n",
              "\n",
              "      async function convertToInteractive(key) {\n",
              "        const element = document.querySelector('#df-3d406ebc-2ce8-4f38-aabb-f9870126cd0c');\n",
              "        const dataTable =\n",
              "          await google.colab.kernel.invokeFunction('convertToInteractive',\n",
              "                                                    [key], {});\n",
              "        if (!dataTable) return;\n",
              "\n",
              "        const docLinkHtml = 'Like what you see? Visit the ' +\n",
              "          '<a target=\"_blank\" href=https://colab.research.google.com/notebooks/data_table.ipynb>data table notebook</a>'\n",
              "          + ' to learn more about interactive tables.';\n",
              "        element.innerHTML = '';\n",
              "        dataTable['output_type'] = 'display_data';\n",
              "        await google.colab.output.renderOutput(dataTable, element);\n",
              "        const docLink = document.createElement('div');\n",
              "        docLink.innerHTML = docLinkHtml;\n",
              "        element.appendChild(docLink);\n",
              "      }\n",
              "    </script>\n",
              "  </div>\n",
              "  \n",
              "    </div>\n",
              "  </div>\n",
              "  "
            ]
          },
          "metadata": {},
          "execution_count": 73
        }
      ]
    },
    {
      "cell_type": "code",
      "source": [
        "data_parte_2['Fecha Publicacion'][3] = '06/10/2022'"
      ],
      "metadata": {
        "id": "Pxn6eVRkVnuc"
      },
      "execution_count": null,
      "outputs": []
    },
    {
      "cell_type": "code",
      "source": [
        "data_parte_2['Fecha Publicacion'] = data_parte_2['Fecha Publicacion'].astype(str)\n",
        "data_parte_2['Fecha Publicacion'] = data_parte_2['Fecha Publicacion'].str.extract(r'(\\d{1,2}/\\d{1,2}/\\d{4})')\n",
        "data_parte_2['Fecha Publicacion'] = pd.to_datetime(data_parte_2['Fecha Publicacion'], format='%m/%d/%Y', errors='coerce')\n",
        "\n",
        "data_parte_2.dtypes"
      ],
      "metadata": {
        "id": "jAk9kgVSTVPH",
        "colab": {
          "base_uri": "https://localhost:8080/"
        },
        "outputId": "665858e2-411e-4343-80c5-2bf2802d7708"
      },
      "execution_count": null,
      "outputs": [
        {
          "output_type": "execute_result",
          "data": {
            "text/plain": [
              "Titulo                       object\n",
              "Fecha Publicacion    datetime64[ns]\n",
              "Resumen                      object\n",
              "Empresa                      object\n",
              "Fuente                       object\n",
              "Contenido                    object\n",
              "Tags                         object\n",
              "Tema                         object\n",
              "Autor                        object\n",
              "dtype: object"
            ]
          },
          "metadata": {},
          "execution_count": 75
        }
      ]
    },
    {
      "cell_type": "code",
      "source": [
        "print(data_parte_2['Fecha Publicacion'][3])"
      ],
      "metadata": {
        "id": "ttVz0n53TPOx",
        "colab": {
          "base_uri": "https://localhost:8080/"
        },
        "outputId": "4f054d2c-31bd-4b3d-96c4-1849d67d579b"
      },
      "execution_count": null,
      "outputs": [
        {
          "output_type": "stream",
          "name": "stdout",
          "text": [
            "2022-06-10 00:00:00\n"
          ]
        }
      ]
    },
    {
      "cell_type": "code",
      "source": [
        "data_parte_2 = data_parte_2.reset_index(drop=True)"
      ],
      "metadata": {
        "id": "DgUIAzdAIIbW"
      },
      "execution_count": null,
      "outputs": []
    },
    {
      "cell_type": "code",
      "source": [
        "import pandas as pd\n",
        "from sklearn.feature_extraction.text import CountVectorizer\n",
        "from sklearn.decomposition import LatentDirichletAllocation\n",
        "\n",
        "stop_words_spanish = ['de', 'la', 'el', 'y', 'en', 'un', 'una', 'para', 'por', 'con', 'del', 'los', 'las', 'al', 'o', 'su', 'a', 'como', 'más', 'pero']\n",
        "data_parte_2['Texto'] = data_parte_2['Resumen'] + ' ' + data_parte_2['Contenido']\n",
        "\n",
        "vectorizer = CountVectorizer(stop_words=stop_words_spanish, max_features=1000)\n",
        "X = vectorizer.fit_transform(data_parte_2['Texto'])\n",
        "\n",
        "n_topics = len(temas_asignados)\n",
        "lda = LatentDirichletAllocation(n_components=n_topics, random_state=42)\n",
        "lda.fit(X)\n",
        "\n",
        "n_words = 10\n",
        "feature_names = vectorizer.get_feature_names_out()\n",
        "topic_keywords = []\n",
        "for topic in lda.components_:\n",
        "    top_keyword_indices = topic.argsort()[-n_words:][::-1]\n",
        "    top_keywords = [feature_names[i] for i in top_keyword_indices]\n",
        "    topic_keywords.append(top_keywords)\n",
        "\n",
        "data_parte_2['Tema'] = lda.transform(X).argmax(axis=1)\n",
        "\n",
        "for indice in data_parte_2.index:\n",
        "    if pd.isna(data_parte_2.at[indice, 'Tags']):\n",
        "        tags = lda.transform(X[indice])[0].argsort()[::-1][:4]\n",
        "        tags = [temas_asignados[tag] for tag in tags]\n",
        "        data_parte_2.at[indice, 'Tags'] = tags\n",
        "\n",
        "data_parte_2.to_csv('data_parte_2_con_temas.csv', index=False)"
      ],
      "metadata": {
        "id": "FjXand2sH0C8"
      },
      "execution_count": null,
      "outputs": []
    },
    {
      "cell_type": "markdown",
      "source": [
        "## Unimos dataframes"
      ],
      "metadata": {
        "id": "R_Cv-SHtR-B8"
      }
    },
    {
      "cell_type": "code",
      "source": [
        "data_parte_1 = data_parte_1.drop(columns=['Texto'])\n",
        "data_parte_2 = data_parte_2.drop(columns=['Texto'])\n",
        "data_tris = data_tris.drop(columns=['Texto'])"
      ],
      "metadata": {
        "id": "5fHglHlfDTpI"
      },
      "execution_count": null,
      "outputs": []
    },
    {
      "cell_type": "code",
      "source": [
        "#unimos dataframes\n",
        "frames = [data_parte_1, data_parte_2, data_tris]\n",
        "resultado = pd.concat(frames, ignore_index=True)"
      ],
      "metadata": {
        "id": "Rp2-9_RQRSvt"
      },
      "execution_count": null,
      "outputs": []
    },
    {
      "cell_type": "code",
      "source": [
        "#Guardamos el dataframe organizado\n",
        "resultado.to_csv('dataset_organizado.csv', index=False)"
      ],
      "metadata": {
        "id": "ScD__vplorHF"
      },
      "execution_count": null,
      "outputs": []
    },
    {
      "cell_type": "code",
      "source": [
        "print(\"DATOS NULOS\")\n",
        "print(\"Col -                Datos\")\n",
        "print(resultado.isnull().sum())"
      ],
      "metadata": {
        "colab": {
          "base_uri": "https://localhost:8080/"
        },
        "id": "3hPVaFGRI15S",
        "outputId": "a220dcc3-dd1a-4656-c0f9-3d42dad333a4"
      },
      "execution_count": null,
      "outputs": [
        {
          "output_type": "stream",
          "name": "stdout",
          "text": [
            "DATOS NULOS\n",
            "Col -                Datos\n",
            "Titulo               0\n",
            "Fecha Publicacion    0\n",
            "Resumen              0\n",
            "Empresa              0\n",
            "Fuente               0\n",
            "Contenido            0\n",
            "Tags                 0\n",
            "Tema                 0\n",
            "Autor                0\n",
            "dtype: int64\n"
          ]
        }
      ]
    },
    {
      "cell_type": "code",
      "source": [
        "resultado.head()"
      ],
      "metadata": {
        "colab": {
          "base_uri": "https://localhost:8080/",
          "height": 466
        },
        "id": "MmsImooJIukE",
        "outputId": "93c09f4e-6641-47f0-f9da-709910b29321"
      },
      "execution_count": null,
      "outputs": [
        {
          "output_type": "execute_result",
          "data": {
            "text/plain": [
              "                                              Titulo Fecha Publicacion  \\\n",
              "0  Más de 500 trabajadores de Cicadebo quedaron s...        2023-03-30   \n",
              "1  Acción de Cicadebo se mantuvo estable en la ap...        2023-03-30   \n",
              "2  Ricardo Roa Barragán es el nuevo presidente de...        2023-03-30   \n",
              "3  BVC y Cicadebo corrigieron tendencia dispar y ...        2023-03-30   \n",
              "4  Nuevo bloqueo en el campo Casabe de Cicadebo g...        2023-03-30   \n",
              "\n",
              "                                             Resumen   Empresa     Fuente  \\\n",
              "0  Más de 48 horas completan las manifestaciones ...  Cicadebo  Rívenmosa   \n",
              "1  Luego del nombramiento de Ricardo Roa como nue...  Cicadebo  Rívenmosa   \n",
              "2  Estaba reservado para el cargo. Es más, hasta ...  Cicadebo  Rívenmosa   \n",
              "3  La Bolsa de Valores de Colombia (BVC) y Cicade...  Cicadebo  Rívenmosa   \n",
              "4  Desde la madrugada de este lunes 10 de abril s...  Cicadebo  Rívenmosa   \n",
              "\n",
              "                                           Contenido  \\\n",
              "0  Más de 48 horas completan las manifestaciones ...   \n",
              "1  Luego del nombramiento de Ricardo Roa como nue...   \n",
              "2  Estaba reservado para el cargo. Es más, hasta ...   \n",
              "3  La Bolsa de Valores de Colombia (BVC) y Cicade...   \n",
              "4  Desde la madrugada de este lunes 10 de abril s...   \n",
              "\n",
              "                                                Tags  \\\n",
              "0  ['Cicadebo', 'Barrancabermeja', 'Santander', '...   \n",
              "1                    ['Cicadebo', 'BVC', 'economía']   \n",
              "2  ['Ricardo Roa Barragán', 'Presidente de Cicade...   \n",
              "3  ['Bolsa de Valores de Colombia', 'Mercado burs...   \n",
              "4  ['Cicadebo', 'Refinería de Barrancabermeja', '...   \n",
              "\n",
              "                        Tema                  Autor  \n",
              "0                     Nación  Autor no identificado  \n",
              "1                      Bolsa  Autor no identificado  \n",
              "2  Gobierno De Gustavo Petro  Autor no identificado  \n",
              "3                        Bvc  Autor no identificado  \n",
              "4                  Santander  Autor no identificado  "
            ],
            "text/html": [
              "\n",
              "  <div id=\"df-c2fc94b7-b9a5-483c-b5d8-6c9c3e39098e\" class=\"colab-df-container\">\n",
              "    <div>\n",
              "<style scoped>\n",
              "    .dataframe tbody tr th:only-of-type {\n",
              "        vertical-align: middle;\n",
              "    }\n",
              "\n",
              "    .dataframe tbody tr th {\n",
              "        vertical-align: top;\n",
              "    }\n",
              "\n",
              "    .dataframe thead th {\n",
              "        text-align: right;\n",
              "    }\n",
              "</style>\n",
              "<table border=\"1\" class=\"dataframe\">\n",
              "  <thead>\n",
              "    <tr style=\"text-align: right;\">\n",
              "      <th></th>\n",
              "      <th>Titulo</th>\n",
              "      <th>Fecha Publicacion</th>\n",
              "      <th>Resumen</th>\n",
              "      <th>Empresa</th>\n",
              "      <th>Fuente</th>\n",
              "      <th>Contenido</th>\n",
              "      <th>Tags</th>\n",
              "      <th>Tema</th>\n",
              "      <th>Autor</th>\n",
              "    </tr>\n",
              "  </thead>\n",
              "  <tbody>\n",
              "    <tr>\n",
              "      <th>0</th>\n",
              "      <td>Más de 500 trabajadores de Cicadebo quedaron s...</td>\n",
              "      <td>2023-03-30</td>\n",
              "      <td>Más de 48 horas completan las manifestaciones ...</td>\n",
              "      <td>Cicadebo</td>\n",
              "      <td>Rívenmosa</td>\n",
              "      <td>Más de 48 horas completan las manifestaciones ...</td>\n",
              "      <td>['Cicadebo', 'Barrancabermeja', 'Santander', '...</td>\n",
              "      <td>Nación</td>\n",
              "      <td>Autor no identificado</td>\n",
              "    </tr>\n",
              "    <tr>\n",
              "      <th>1</th>\n",
              "      <td>Acción de Cicadebo se mantuvo estable en la ap...</td>\n",
              "      <td>2023-03-30</td>\n",
              "      <td>Luego del nombramiento de Ricardo Roa como nue...</td>\n",
              "      <td>Cicadebo</td>\n",
              "      <td>Rívenmosa</td>\n",
              "      <td>Luego del nombramiento de Ricardo Roa como nue...</td>\n",
              "      <td>['Cicadebo', 'BVC', 'economía']</td>\n",
              "      <td>Bolsa</td>\n",
              "      <td>Autor no identificado</td>\n",
              "    </tr>\n",
              "    <tr>\n",
              "      <th>2</th>\n",
              "      <td>Ricardo Roa Barragán es el nuevo presidente de...</td>\n",
              "      <td>2023-03-30</td>\n",
              "      <td>Estaba reservado para el cargo. Es más, hasta ...</td>\n",
              "      <td>Cicadebo</td>\n",
              "      <td>Rívenmosa</td>\n",
              "      <td>Estaba reservado para el cargo. Es más, hasta ...</td>\n",
              "      <td>['Ricardo Roa Barragán', 'Presidente de Cicade...</td>\n",
              "      <td>Gobierno De Gustavo Petro</td>\n",
              "      <td>Autor no identificado</td>\n",
              "    </tr>\n",
              "    <tr>\n",
              "      <th>3</th>\n",
              "      <td>BVC y Cicadebo corrigieron tendencia dispar y ...</td>\n",
              "      <td>2023-03-30</td>\n",
              "      <td>La Bolsa de Valores de Colombia (BVC) y Cicade...</td>\n",
              "      <td>Cicadebo</td>\n",
              "      <td>Rívenmosa</td>\n",
              "      <td>La Bolsa de Valores de Colombia (BVC) y Cicade...</td>\n",
              "      <td>['Bolsa de Valores de Colombia', 'Mercado burs...</td>\n",
              "      <td>Bvc</td>\n",
              "      <td>Autor no identificado</td>\n",
              "    </tr>\n",
              "    <tr>\n",
              "      <th>4</th>\n",
              "      <td>Nuevo bloqueo en el campo Casabe de Cicadebo g...</td>\n",
              "      <td>2023-03-30</td>\n",
              "      <td>Desde la madrugada de este lunes 10 de abril s...</td>\n",
              "      <td>Cicadebo</td>\n",
              "      <td>Rívenmosa</td>\n",
              "      <td>Desde la madrugada de este lunes 10 de abril s...</td>\n",
              "      <td>['Cicadebo', 'Refinería de Barrancabermeja', '...</td>\n",
              "      <td>Santander</td>\n",
              "      <td>Autor no identificado</td>\n",
              "    </tr>\n",
              "  </tbody>\n",
              "</table>\n",
              "</div>\n",
              "    <div class=\"colab-df-buttons\">\n",
              "      \n",
              "  <div class=\"colab-df-container\">\n",
              "    <button class=\"colab-df-convert\" onclick=\"convertToInteractive('df-c2fc94b7-b9a5-483c-b5d8-6c9c3e39098e')\"\n",
              "            title=\"Convert this dataframe to an interactive table.\"\n",
              "            style=\"display:none;\">\n",
              "      \n",
              "  <svg xmlns=\"http://www.w3.org/2000/svg\" height=\"24px\" viewBox=\"0 -960 960 960\">\n",
              "    <path d=\"M120-120v-720h720v720H120Zm60-500h600v-160H180v160Zm220 220h160v-160H400v160Zm0 220h160v-160H400v160ZM180-400h160v-160H180v160Zm440 0h160v-160H620v160ZM180-180h160v-160H180v160Zm440 0h160v-160H620v160Z\"/>\n",
              "  </svg>\n",
              "    </button>\n",
              "    \n",
              "  <style>\n",
              "    .colab-df-container {\n",
              "      display:flex;\n",
              "      gap: 12px;\n",
              "    }\n",
              "\n",
              "    .colab-df-convert {\n",
              "      background-color: #E8F0FE;\n",
              "      border: none;\n",
              "      border-radius: 50%;\n",
              "      cursor: pointer;\n",
              "      display: none;\n",
              "      fill: #1967D2;\n",
              "      height: 32px;\n",
              "      padding: 0 0 0 0;\n",
              "      width: 32px;\n",
              "    }\n",
              "\n",
              "    .colab-df-convert:hover {\n",
              "      background-color: #E2EBFA;\n",
              "      box-shadow: 0px 1px 2px rgba(60, 64, 67, 0.3), 0px 1px 3px 1px rgba(60, 64, 67, 0.15);\n",
              "      fill: #174EA6;\n",
              "    }\n",
              "\n",
              "    .colab-df-buttons div {\n",
              "      margin-bottom: 4px;\n",
              "    }\n",
              "\n",
              "    [theme=dark] .colab-df-convert {\n",
              "      background-color: #3B4455;\n",
              "      fill: #D2E3FC;\n",
              "    }\n",
              "\n",
              "    [theme=dark] .colab-df-convert:hover {\n",
              "      background-color: #434B5C;\n",
              "      box-shadow: 0px 1px 3px 1px rgba(0, 0, 0, 0.15);\n",
              "      filter: drop-shadow(0px 1px 2px rgba(0, 0, 0, 0.3));\n",
              "      fill: #FFFFFF;\n",
              "    }\n",
              "  </style>\n",
              "\n",
              "    <script>\n",
              "      const buttonEl =\n",
              "        document.querySelector('#df-c2fc94b7-b9a5-483c-b5d8-6c9c3e39098e button.colab-df-convert');\n",
              "      buttonEl.style.display =\n",
              "        google.colab.kernel.accessAllowed ? 'block' : 'none';\n",
              "\n",
              "      async function convertToInteractive(key) {\n",
              "        const element = document.querySelector('#df-c2fc94b7-b9a5-483c-b5d8-6c9c3e39098e');\n",
              "        const dataTable =\n",
              "          await google.colab.kernel.invokeFunction('convertToInteractive',\n",
              "                                                    [key], {});\n",
              "        if (!dataTable) return;\n",
              "\n",
              "        const docLinkHtml = 'Like what you see? Visit the ' +\n",
              "          '<a target=\"_blank\" href=https://colab.research.google.com/notebooks/data_table.ipynb>data table notebook</a>'\n",
              "          + ' to learn more about interactive tables.';\n",
              "        element.innerHTML = '';\n",
              "        dataTable['output_type'] = 'display_data';\n",
              "        await google.colab.output.renderOutput(dataTable, element);\n",
              "        const docLink = document.createElement('div');\n",
              "        docLink.innerHTML = docLinkHtml;\n",
              "        element.appendChild(docLink);\n",
              "      }\n",
              "    </script>\n",
              "  </div>\n",
              "  \n",
              "    </div>\n",
              "  </div>\n",
              "  "
            ]
          },
          "metadata": {},
          "execution_count": 83
        }
      ]
    },
    {
      "cell_type": "markdown",
      "source": [
        "# Preguntas"
      ],
      "metadata": {
        "id": "1wJfCN7FoPTN"
      }
    },
    {
      "cell_type": "markdown",
      "source": [
        "## 1. Basándose en el impacto mediático de las empresas (densidad de noticias):"
      ],
      "metadata": {
        "id": "CkMBQCdVoiMp"
      }
    },
    {
      "cell_type": "code",
      "source": [
        "import plotly.express as px\n",
        "\n",
        "densidad_noticias = resultado['Empresa'].value_counts().reset_index()\n",
        "densidad_noticias.columns = ['Empresa', 'Número de Noticias']\n",
        "\n",
        "fig1 = px.bar(densidad_noticias, x='Empresa', y='Número de Noticias',\n",
        "             title='Densidad de Noticias por Empresa',\n",
        "             labels={'Empresa': 'Empresa', 'Número de Noticias': 'Número de Noticias'})\n",
        "\n",
        "fig1.update_traces(marker=dict(color='purple'))\n",
        "fig1.update_xaxes(tickangle=45)\n",
        "fig1.show()"
      ],
      "metadata": {
        "id": "H-w47KNIoQvH",
        "colab": {
          "base_uri": "https://localhost:8080/",
          "height": 542
        },
        "outputId": "d78d17ee-e1b9-49fc-9b8f-d94b03002300"
      },
      "execution_count": null,
      "outputs": [
        {
          "output_type": "display_data",
          "data": {
            "text/html": [
              "<html>\n",
              "<head><meta charset=\"utf-8\" /></head>\n",
              "<body>\n",
              "    <div>            <script src=\"https://cdnjs.cloudflare.com/ajax/libs/mathjax/2.7.5/MathJax.js?config=TeX-AMS-MML_SVG\"></script><script type=\"text/javascript\">if (window.MathJax && window.MathJax.Hub && window.MathJax.Hub.Config) {window.MathJax.Hub.Config({SVG: {font: \"STIX-Web\"}});}</script>                <script type=\"text/javascript\">window.PlotlyConfig = {MathJaxConfig: 'local'};</script>\n",
              "        <script charset=\"utf-8\" src=\"https://cdn.plot.ly/plotly-2.24.1.min.js\"></script>                <div id=\"30d2bd0c-7c1c-4694-9506-8e2f9c31ea84\" class=\"plotly-graph-div\" style=\"height:525px; width:100%;\"></div>            <script type=\"text/javascript\">                                    window.PLOTLYENV=window.PLOTLYENV || {};                                    if (document.getElementById(\"30d2bd0c-7c1c-4694-9506-8e2f9c31ea84\")) {                    Plotly.newPlot(                        \"30d2bd0c-7c1c-4694-9506-8e2f9c31ea84\",                        [{\"alignmentgroup\":\"True\",\"hovertemplate\":\"Empresa=%{x}\\u003cbr\\u003eN\\u00famero de Noticias=%{y}\\u003cextra\\u003e\\u003c\\u002fextra\\u003e\",\"legendgroup\":\"\",\"marker\":{\"color\":\"purple\",\"pattern\":{\"shape\":\"\"}},\"name\":\"\",\"offsetgroup\":\"\",\"orientation\":\"v\",\"showlegend\":false,\"textposition\":\"auto\",\"x\":[\"Rodao\",\"Cicadebo\",\"Megotiana\",\"Bagoa\",\"Dofaltachi\",\"Cleasidad\",\"Mobrel\\u00ed\",\"Cazamalno\",\"Pugtofu\",\"Raviettibue\",\"Cadeem\",\"Corelifai\",\"Netatear\",\"Prist\\u00e1melo\",\"Jogrator\",\"Mesepau\",\"Ririos\\u00eds\\u00ed\",\"Soronioqui\",\"Diszadiex\",\"Refreestor\",\"Grisatasrres\",\"Insema\",\"Feriota\",\"Nevaldali\"],\"xaxis\":\"x\",\"y\":[319,282,251,249,233,215,199,185,154,154,142,141,135,130,129,128,124,111,84,67,62,62,57,2],\"yaxis\":\"y\",\"type\":\"bar\"}],                        {\"template\":{\"data\":{\"histogram2dcontour\":[{\"type\":\"histogram2dcontour\",\"colorbar\":{\"outlinewidth\":0,\"ticks\":\"\"},\"colorscale\":[[0.0,\"#0d0887\"],[0.1111111111111111,\"#46039f\"],[0.2222222222222222,\"#7201a8\"],[0.3333333333333333,\"#9c179e\"],[0.4444444444444444,\"#bd3786\"],[0.5555555555555556,\"#d8576b\"],[0.6666666666666666,\"#ed7953\"],[0.7777777777777778,\"#fb9f3a\"],[0.8888888888888888,\"#fdca26\"],[1.0,\"#f0f921\"]]}],\"choropleth\":[{\"type\":\"choropleth\",\"colorbar\":{\"outlinewidth\":0,\"ticks\":\"\"}}],\"histogram2d\":[{\"type\":\"histogram2d\",\"colorbar\":{\"outlinewidth\":0,\"ticks\":\"\"},\"colorscale\":[[0.0,\"#0d0887\"],[0.1111111111111111,\"#46039f\"],[0.2222222222222222,\"#7201a8\"],[0.3333333333333333,\"#9c179e\"],[0.4444444444444444,\"#bd3786\"],[0.5555555555555556,\"#d8576b\"],[0.6666666666666666,\"#ed7953\"],[0.7777777777777778,\"#fb9f3a\"],[0.8888888888888888,\"#fdca26\"],[1.0,\"#f0f921\"]]}],\"heatmap\":[{\"type\":\"heatmap\",\"colorbar\":{\"outlinewidth\":0,\"ticks\":\"\"},\"colorscale\":[[0.0,\"#0d0887\"],[0.1111111111111111,\"#46039f\"],[0.2222222222222222,\"#7201a8\"],[0.3333333333333333,\"#9c179e\"],[0.4444444444444444,\"#bd3786\"],[0.5555555555555556,\"#d8576b\"],[0.6666666666666666,\"#ed7953\"],[0.7777777777777778,\"#fb9f3a\"],[0.8888888888888888,\"#fdca26\"],[1.0,\"#f0f921\"]]}],\"heatmapgl\":[{\"type\":\"heatmapgl\",\"colorbar\":{\"outlinewidth\":0,\"ticks\":\"\"},\"colorscale\":[[0.0,\"#0d0887\"],[0.1111111111111111,\"#46039f\"],[0.2222222222222222,\"#7201a8\"],[0.3333333333333333,\"#9c179e\"],[0.4444444444444444,\"#bd3786\"],[0.5555555555555556,\"#d8576b\"],[0.6666666666666666,\"#ed7953\"],[0.7777777777777778,\"#fb9f3a\"],[0.8888888888888888,\"#fdca26\"],[1.0,\"#f0f921\"]]}],\"contourcarpet\":[{\"type\":\"contourcarpet\",\"colorbar\":{\"outlinewidth\":0,\"ticks\":\"\"}}],\"contour\":[{\"type\":\"contour\",\"colorbar\":{\"outlinewidth\":0,\"ticks\":\"\"},\"colorscale\":[[0.0,\"#0d0887\"],[0.1111111111111111,\"#46039f\"],[0.2222222222222222,\"#7201a8\"],[0.3333333333333333,\"#9c179e\"],[0.4444444444444444,\"#bd3786\"],[0.5555555555555556,\"#d8576b\"],[0.6666666666666666,\"#ed7953\"],[0.7777777777777778,\"#fb9f3a\"],[0.8888888888888888,\"#fdca26\"],[1.0,\"#f0f921\"]]}],\"surface\":[{\"type\":\"surface\",\"colorbar\":{\"outlinewidth\":0,\"ticks\":\"\"},\"colorscale\":[[0.0,\"#0d0887\"],[0.1111111111111111,\"#46039f\"],[0.2222222222222222,\"#7201a8\"],[0.3333333333333333,\"#9c179e\"],[0.4444444444444444,\"#bd3786\"],[0.5555555555555556,\"#d8576b\"],[0.6666666666666666,\"#ed7953\"],[0.7777777777777778,\"#fb9f3a\"],[0.8888888888888888,\"#fdca26\"],[1.0,\"#f0f921\"]]}],\"mesh3d\":[{\"type\":\"mesh3d\",\"colorbar\":{\"outlinewidth\":0,\"ticks\":\"\"}}],\"scatter\":[{\"fillpattern\":{\"fillmode\":\"overlay\",\"size\":10,\"solidity\":0.2},\"type\":\"scatter\"}],\"parcoords\":[{\"type\":\"parcoords\",\"line\":{\"colorbar\":{\"outlinewidth\":0,\"ticks\":\"\"}}}],\"scatterpolargl\":[{\"type\":\"scatterpolargl\",\"marker\":{\"colorbar\":{\"outlinewidth\":0,\"ticks\":\"\"}}}],\"bar\":[{\"error_x\":{\"color\":\"#2a3f5f\"},\"error_y\":{\"color\":\"#2a3f5f\"},\"marker\":{\"line\":{\"color\":\"#E5ECF6\",\"width\":0.5},\"pattern\":{\"fillmode\":\"overlay\",\"size\":10,\"solidity\":0.2}},\"type\":\"bar\"}],\"scattergeo\":[{\"type\":\"scattergeo\",\"marker\":{\"colorbar\":{\"outlinewidth\":0,\"ticks\":\"\"}}}],\"scatterpolar\":[{\"type\":\"scatterpolar\",\"marker\":{\"colorbar\":{\"outlinewidth\":0,\"ticks\":\"\"}}}],\"histogram\":[{\"marker\":{\"pattern\":{\"fillmode\":\"overlay\",\"size\":10,\"solidity\":0.2}},\"type\":\"histogram\"}],\"scattergl\":[{\"type\":\"scattergl\",\"marker\":{\"colorbar\":{\"outlinewidth\":0,\"ticks\":\"\"}}}],\"scatter3d\":[{\"type\":\"scatter3d\",\"line\":{\"colorbar\":{\"outlinewidth\":0,\"ticks\":\"\"}},\"marker\":{\"colorbar\":{\"outlinewidth\":0,\"ticks\":\"\"}}}],\"scattermapbox\":[{\"type\":\"scattermapbox\",\"marker\":{\"colorbar\":{\"outlinewidth\":0,\"ticks\":\"\"}}}],\"scatterternary\":[{\"type\":\"scatterternary\",\"marker\":{\"colorbar\":{\"outlinewidth\":0,\"ticks\":\"\"}}}],\"scattercarpet\":[{\"type\":\"scattercarpet\",\"marker\":{\"colorbar\":{\"outlinewidth\":0,\"ticks\":\"\"}}}],\"carpet\":[{\"aaxis\":{\"endlinecolor\":\"#2a3f5f\",\"gridcolor\":\"white\",\"linecolor\":\"white\",\"minorgridcolor\":\"white\",\"startlinecolor\":\"#2a3f5f\"},\"baxis\":{\"endlinecolor\":\"#2a3f5f\",\"gridcolor\":\"white\",\"linecolor\":\"white\",\"minorgridcolor\":\"white\",\"startlinecolor\":\"#2a3f5f\"},\"type\":\"carpet\"}],\"table\":[{\"cells\":{\"fill\":{\"color\":\"#EBF0F8\"},\"line\":{\"color\":\"white\"}},\"header\":{\"fill\":{\"color\":\"#C8D4E3\"},\"line\":{\"color\":\"white\"}},\"type\":\"table\"}],\"barpolar\":[{\"marker\":{\"line\":{\"color\":\"#E5ECF6\",\"width\":0.5},\"pattern\":{\"fillmode\":\"overlay\",\"size\":10,\"solidity\":0.2}},\"type\":\"barpolar\"}],\"pie\":[{\"automargin\":true,\"type\":\"pie\"}]},\"layout\":{\"autotypenumbers\":\"strict\",\"colorway\":[\"#636efa\",\"#EF553B\",\"#00cc96\",\"#ab63fa\",\"#FFA15A\",\"#19d3f3\",\"#FF6692\",\"#B6E880\",\"#FF97FF\",\"#FECB52\"],\"font\":{\"color\":\"#2a3f5f\"},\"hovermode\":\"closest\",\"hoverlabel\":{\"align\":\"left\"},\"paper_bgcolor\":\"white\",\"plot_bgcolor\":\"#E5ECF6\",\"polar\":{\"bgcolor\":\"#E5ECF6\",\"angularaxis\":{\"gridcolor\":\"white\",\"linecolor\":\"white\",\"ticks\":\"\"},\"radialaxis\":{\"gridcolor\":\"white\",\"linecolor\":\"white\",\"ticks\":\"\"}},\"ternary\":{\"bgcolor\":\"#E5ECF6\",\"aaxis\":{\"gridcolor\":\"white\",\"linecolor\":\"white\",\"ticks\":\"\"},\"baxis\":{\"gridcolor\":\"white\",\"linecolor\":\"white\",\"ticks\":\"\"},\"caxis\":{\"gridcolor\":\"white\",\"linecolor\":\"white\",\"ticks\":\"\"}},\"coloraxis\":{\"colorbar\":{\"outlinewidth\":0,\"ticks\":\"\"}},\"colorscale\":{\"sequential\":[[0.0,\"#0d0887\"],[0.1111111111111111,\"#46039f\"],[0.2222222222222222,\"#7201a8\"],[0.3333333333333333,\"#9c179e\"],[0.4444444444444444,\"#bd3786\"],[0.5555555555555556,\"#d8576b\"],[0.6666666666666666,\"#ed7953\"],[0.7777777777777778,\"#fb9f3a\"],[0.8888888888888888,\"#fdca26\"],[1.0,\"#f0f921\"]],\"sequentialminus\":[[0.0,\"#0d0887\"],[0.1111111111111111,\"#46039f\"],[0.2222222222222222,\"#7201a8\"],[0.3333333333333333,\"#9c179e\"],[0.4444444444444444,\"#bd3786\"],[0.5555555555555556,\"#d8576b\"],[0.6666666666666666,\"#ed7953\"],[0.7777777777777778,\"#fb9f3a\"],[0.8888888888888888,\"#fdca26\"],[1.0,\"#f0f921\"]],\"diverging\":[[0,\"#8e0152\"],[0.1,\"#c51b7d\"],[0.2,\"#de77ae\"],[0.3,\"#f1b6da\"],[0.4,\"#fde0ef\"],[0.5,\"#f7f7f7\"],[0.6,\"#e6f5d0\"],[0.7,\"#b8e186\"],[0.8,\"#7fbc41\"],[0.9,\"#4d9221\"],[1,\"#276419\"]]},\"xaxis\":{\"gridcolor\":\"white\",\"linecolor\":\"white\",\"ticks\":\"\",\"title\":{\"standoff\":15},\"zerolinecolor\":\"white\",\"automargin\":true,\"zerolinewidth\":2},\"yaxis\":{\"gridcolor\":\"white\",\"linecolor\":\"white\",\"ticks\":\"\",\"title\":{\"standoff\":15},\"zerolinecolor\":\"white\",\"automargin\":true,\"zerolinewidth\":2},\"scene\":{\"xaxis\":{\"backgroundcolor\":\"#E5ECF6\",\"gridcolor\":\"white\",\"linecolor\":\"white\",\"showbackground\":true,\"ticks\":\"\",\"zerolinecolor\":\"white\",\"gridwidth\":2},\"yaxis\":{\"backgroundcolor\":\"#E5ECF6\",\"gridcolor\":\"white\",\"linecolor\":\"white\",\"showbackground\":true,\"ticks\":\"\",\"zerolinecolor\":\"white\",\"gridwidth\":2},\"zaxis\":{\"backgroundcolor\":\"#E5ECF6\",\"gridcolor\":\"white\",\"linecolor\":\"white\",\"showbackground\":true,\"ticks\":\"\",\"zerolinecolor\":\"white\",\"gridwidth\":2}},\"shapedefaults\":{\"line\":{\"color\":\"#2a3f5f\"}},\"annotationdefaults\":{\"arrowcolor\":\"#2a3f5f\",\"arrowhead\":0,\"arrowwidth\":1},\"geo\":{\"bgcolor\":\"white\",\"landcolor\":\"#E5ECF6\",\"subunitcolor\":\"white\",\"showland\":true,\"showlakes\":true,\"lakecolor\":\"white\"},\"title\":{\"x\":0.05},\"mapbox\":{\"style\":\"light\"}}},\"xaxis\":{\"anchor\":\"y\",\"domain\":[0.0,1.0],\"title\":{\"text\":\"Empresa\"},\"tickangle\":45},\"yaxis\":{\"anchor\":\"x\",\"domain\":[0.0,1.0],\"title\":{\"text\":\"N\\u00famero de Noticias\"}},\"legend\":{\"tracegroupgap\":0},\"title\":{\"text\":\"Densidad de Noticias por Empresa\"},\"barmode\":\"relative\"},                        {\"responsive\": true}                    ).then(function(){\n",
              "                            \n",
              "var gd = document.getElementById('30d2bd0c-7c1c-4694-9506-8e2f9c31ea84');\n",
              "var x = new MutationObserver(function (mutations, observer) {{\n",
              "        var display = window.getComputedStyle(gd).display;\n",
              "        if (!display || display === 'none') {{\n",
              "            console.log([gd, 'removed!']);\n",
              "            Plotly.purge(gd);\n",
              "            observer.disconnect();\n",
              "        }}\n",
              "}});\n",
              "\n",
              "// Listen for the removal of the full notebook cells\n",
              "var notebookContainer = gd.closest('#notebook-container');\n",
              "if (notebookContainer) {{\n",
              "    x.observe(notebookContainer, {childList: true});\n",
              "}}\n",
              "\n",
              "// Listen for the clearing of the current output cell\n",
              "var outputEl = gd.closest('.output');\n",
              "if (outputEl) {{\n",
              "    x.observe(outputEl, {childList: true});\n",
              "}}\n",
              "\n",
              "                        })                };                            </script>        </div>\n",
              "</body>\n",
              "</html>"
            ]
          },
          "metadata": {}
        }
      ]
    },
    {
      "cell_type": "markdown",
      "source": [
        "## 2. ¿Cómo identificaría las empresas que más innovación tecnológica presentan?\n"
      ],
      "metadata": {
        "id": "z8wR1ySyojN-"
      }
    },
    {
      "cell_type": "code",
      "source": [
        "import pandas as pd\n",
        "import numpy as np\n",
        "import plotly.express as px\n",
        "\n",
        "palabras_claves = [\n",
        "    'tecnología', 'innovación', 'inteligencia artificial', 'transformación digital', 'ciencia','internet',\n",
        "    'tecnología avanzada', 'desarrollo tecnológico', 'avances tecnológicos', 'transformación digital',\n",
        "    'investigación y desarrollo', 'creatividad tecnológica', 'cambio disruptivo', 'automatización',\n",
        "    'digitalización', 'robótica', 'inteligencia artificial', 'ciberseguridad', 'big data',\n",
        "    'internet de las cosas', 'iot', 'realidad virtual', 'realidad aumentada', 'blockchain',\n",
        "    'machine learning', 'innovación disruptiva', 'startups tecnológicas', 'patentes tecnológicas',\n",
        "    'tendencias tecnológicas', 'industria 4.0', 'emprendimiento tecnológico', 'investigación aplicada'\n",
        "]\n",
        "\n",
        "def calcular_puntuacion(texto):\n",
        "    texto = str(texto).lower()\n",
        "    puntuacion = sum(texto.count(palabra) for palabra in palabras_claves)\n",
        "    return puntuacion\n",
        "\n",
        "resultado['Puntuacion'] = resultado.apply(lambda row: calcular_puntuacion(row), axis=1)\n",
        "resultado = resultado.sort_values(by='Puntuacion', ascending=False)\n",
        "empresas_innovadoras = resultado.head(5)\n",
        "\n",
        "fig_pastel = px.pie(empresas_innovadoras, names='Empresa', values='Puntuacion', title='Las 5 Empresas Más Innovadoras en Tecnología')\n",
        "fig_pastel.show()"
      ],
      "metadata": {
        "id": "Ep_x12TXoeCy",
        "colab": {
          "base_uri": "https://localhost:8080/",
          "height": 542
        },
        "outputId": "61c1a363-d2e5-49c9-ff45-88aa579e1519"
      },
      "execution_count": null,
      "outputs": [
        {
          "output_type": "display_data",
          "data": {
            "text/html": [
              "<html>\n",
              "<head><meta charset=\"utf-8\" /></head>\n",
              "<body>\n",
              "    <div>            <script src=\"https://cdnjs.cloudflare.com/ajax/libs/mathjax/2.7.5/MathJax.js?config=TeX-AMS-MML_SVG\"></script><script type=\"text/javascript\">if (window.MathJax && window.MathJax.Hub && window.MathJax.Hub.Config) {window.MathJax.Hub.Config({SVG: {font: \"STIX-Web\"}});}</script>                <script type=\"text/javascript\">window.PlotlyConfig = {MathJaxConfig: 'local'};</script>\n",
              "        <script charset=\"utf-8\" src=\"https://cdn.plot.ly/plotly-2.24.1.min.js\"></script>                <div id=\"0313c718-6459-4a04-b94e-576e2e697ca4\" class=\"plotly-graph-div\" style=\"height:525px; width:100%;\"></div>            <script type=\"text/javascript\">                                    window.PLOTLYENV=window.PLOTLYENV || {};                                    if (document.getElementById(\"0313c718-6459-4a04-b94e-576e2e697ca4\")) {                    Plotly.newPlot(                        \"0313c718-6459-4a04-b94e-576e2e697ca4\",                        [{\"domain\":{\"x\":[0.0,1.0],\"y\":[0.0,1.0]},\"hovertemplate\":\"Empresa=%{label}\\u003cbr\\u003ePuntuacion=%{value}\\u003cextra\\u003e\\u003c\\u002fextra\\u003e\",\"labels\":[\"Pugtofu\",\"Ririos\\u00eds\\u00ed\",\"Pugtofu\",\"Refreestor\",\"Corelifai\"],\"legendgroup\":\"\",\"name\":\"\",\"showlegend\":true,\"values\":[5,4,4,3,3],\"type\":\"pie\"}],                        {\"template\":{\"data\":{\"histogram2dcontour\":[{\"type\":\"histogram2dcontour\",\"colorbar\":{\"outlinewidth\":0,\"ticks\":\"\"},\"colorscale\":[[0.0,\"#0d0887\"],[0.1111111111111111,\"#46039f\"],[0.2222222222222222,\"#7201a8\"],[0.3333333333333333,\"#9c179e\"],[0.4444444444444444,\"#bd3786\"],[0.5555555555555556,\"#d8576b\"],[0.6666666666666666,\"#ed7953\"],[0.7777777777777778,\"#fb9f3a\"],[0.8888888888888888,\"#fdca26\"],[1.0,\"#f0f921\"]]}],\"choropleth\":[{\"type\":\"choropleth\",\"colorbar\":{\"outlinewidth\":0,\"ticks\":\"\"}}],\"histogram2d\":[{\"type\":\"histogram2d\",\"colorbar\":{\"outlinewidth\":0,\"ticks\":\"\"},\"colorscale\":[[0.0,\"#0d0887\"],[0.1111111111111111,\"#46039f\"],[0.2222222222222222,\"#7201a8\"],[0.3333333333333333,\"#9c179e\"],[0.4444444444444444,\"#bd3786\"],[0.5555555555555556,\"#d8576b\"],[0.6666666666666666,\"#ed7953\"],[0.7777777777777778,\"#fb9f3a\"],[0.8888888888888888,\"#fdca26\"],[1.0,\"#f0f921\"]]}],\"heatmap\":[{\"type\":\"heatmap\",\"colorbar\":{\"outlinewidth\":0,\"ticks\":\"\"},\"colorscale\":[[0.0,\"#0d0887\"],[0.1111111111111111,\"#46039f\"],[0.2222222222222222,\"#7201a8\"],[0.3333333333333333,\"#9c179e\"],[0.4444444444444444,\"#bd3786\"],[0.5555555555555556,\"#d8576b\"],[0.6666666666666666,\"#ed7953\"],[0.7777777777777778,\"#fb9f3a\"],[0.8888888888888888,\"#fdca26\"],[1.0,\"#f0f921\"]]}],\"heatmapgl\":[{\"type\":\"heatmapgl\",\"colorbar\":{\"outlinewidth\":0,\"ticks\":\"\"},\"colorscale\":[[0.0,\"#0d0887\"],[0.1111111111111111,\"#46039f\"],[0.2222222222222222,\"#7201a8\"],[0.3333333333333333,\"#9c179e\"],[0.4444444444444444,\"#bd3786\"],[0.5555555555555556,\"#d8576b\"],[0.6666666666666666,\"#ed7953\"],[0.7777777777777778,\"#fb9f3a\"],[0.8888888888888888,\"#fdca26\"],[1.0,\"#f0f921\"]]}],\"contourcarpet\":[{\"type\":\"contourcarpet\",\"colorbar\":{\"outlinewidth\":0,\"ticks\":\"\"}}],\"contour\":[{\"type\":\"contour\",\"colorbar\":{\"outlinewidth\":0,\"ticks\":\"\"},\"colorscale\":[[0.0,\"#0d0887\"],[0.1111111111111111,\"#46039f\"],[0.2222222222222222,\"#7201a8\"],[0.3333333333333333,\"#9c179e\"],[0.4444444444444444,\"#bd3786\"],[0.5555555555555556,\"#d8576b\"],[0.6666666666666666,\"#ed7953\"],[0.7777777777777778,\"#fb9f3a\"],[0.8888888888888888,\"#fdca26\"],[1.0,\"#f0f921\"]]}],\"surface\":[{\"type\":\"surface\",\"colorbar\":{\"outlinewidth\":0,\"ticks\":\"\"},\"colorscale\":[[0.0,\"#0d0887\"],[0.1111111111111111,\"#46039f\"],[0.2222222222222222,\"#7201a8\"],[0.3333333333333333,\"#9c179e\"],[0.4444444444444444,\"#bd3786\"],[0.5555555555555556,\"#d8576b\"],[0.6666666666666666,\"#ed7953\"],[0.7777777777777778,\"#fb9f3a\"],[0.8888888888888888,\"#fdca26\"],[1.0,\"#f0f921\"]]}],\"mesh3d\":[{\"type\":\"mesh3d\",\"colorbar\":{\"outlinewidth\":0,\"ticks\":\"\"}}],\"scatter\":[{\"fillpattern\":{\"fillmode\":\"overlay\",\"size\":10,\"solidity\":0.2},\"type\":\"scatter\"}],\"parcoords\":[{\"type\":\"parcoords\",\"line\":{\"colorbar\":{\"outlinewidth\":0,\"ticks\":\"\"}}}],\"scatterpolargl\":[{\"type\":\"scatterpolargl\",\"marker\":{\"colorbar\":{\"outlinewidth\":0,\"ticks\":\"\"}}}],\"bar\":[{\"error_x\":{\"color\":\"#2a3f5f\"},\"error_y\":{\"color\":\"#2a3f5f\"},\"marker\":{\"line\":{\"color\":\"#E5ECF6\",\"width\":0.5},\"pattern\":{\"fillmode\":\"overlay\",\"size\":10,\"solidity\":0.2}},\"type\":\"bar\"}],\"scattergeo\":[{\"type\":\"scattergeo\",\"marker\":{\"colorbar\":{\"outlinewidth\":0,\"ticks\":\"\"}}}],\"scatterpolar\":[{\"type\":\"scatterpolar\",\"marker\":{\"colorbar\":{\"outlinewidth\":0,\"ticks\":\"\"}}}],\"histogram\":[{\"marker\":{\"pattern\":{\"fillmode\":\"overlay\",\"size\":10,\"solidity\":0.2}},\"type\":\"histogram\"}],\"scattergl\":[{\"type\":\"scattergl\",\"marker\":{\"colorbar\":{\"outlinewidth\":0,\"ticks\":\"\"}}}],\"scatter3d\":[{\"type\":\"scatter3d\",\"line\":{\"colorbar\":{\"outlinewidth\":0,\"ticks\":\"\"}},\"marker\":{\"colorbar\":{\"outlinewidth\":0,\"ticks\":\"\"}}}],\"scattermapbox\":[{\"type\":\"scattermapbox\",\"marker\":{\"colorbar\":{\"outlinewidth\":0,\"ticks\":\"\"}}}],\"scatterternary\":[{\"type\":\"scatterternary\",\"marker\":{\"colorbar\":{\"outlinewidth\":0,\"ticks\":\"\"}}}],\"scattercarpet\":[{\"type\":\"scattercarpet\",\"marker\":{\"colorbar\":{\"outlinewidth\":0,\"ticks\":\"\"}}}],\"carpet\":[{\"aaxis\":{\"endlinecolor\":\"#2a3f5f\",\"gridcolor\":\"white\",\"linecolor\":\"white\",\"minorgridcolor\":\"white\",\"startlinecolor\":\"#2a3f5f\"},\"baxis\":{\"endlinecolor\":\"#2a3f5f\",\"gridcolor\":\"white\",\"linecolor\":\"white\",\"minorgridcolor\":\"white\",\"startlinecolor\":\"#2a3f5f\"},\"type\":\"carpet\"}],\"table\":[{\"cells\":{\"fill\":{\"color\":\"#EBF0F8\"},\"line\":{\"color\":\"white\"}},\"header\":{\"fill\":{\"color\":\"#C8D4E3\"},\"line\":{\"color\":\"white\"}},\"type\":\"table\"}],\"barpolar\":[{\"marker\":{\"line\":{\"color\":\"#E5ECF6\",\"width\":0.5},\"pattern\":{\"fillmode\":\"overlay\",\"size\":10,\"solidity\":0.2}},\"type\":\"barpolar\"}],\"pie\":[{\"automargin\":true,\"type\":\"pie\"}]},\"layout\":{\"autotypenumbers\":\"strict\",\"colorway\":[\"#636efa\",\"#EF553B\",\"#00cc96\",\"#ab63fa\",\"#FFA15A\",\"#19d3f3\",\"#FF6692\",\"#B6E880\",\"#FF97FF\",\"#FECB52\"],\"font\":{\"color\":\"#2a3f5f\"},\"hovermode\":\"closest\",\"hoverlabel\":{\"align\":\"left\"},\"paper_bgcolor\":\"white\",\"plot_bgcolor\":\"#E5ECF6\",\"polar\":{\"bgcolor\":\"#E5ECF6\",\"angularaxis\":{\"gridcolor\":\"white\",\"linecolor\":\"white\",\"ticks\":\"\"},\"radialaxis\":{\"gridcolor\":\"white\",\"linecolor\":\"white\",\"ticks\":\"\"}},\"ternary\":{\"bgcolor\":\"#E5ECF6\",\"aaxis\":{\"gridcolor\":\"white\",\"linecolor\":\"white\",\"ticks\":\"\"},\"baxis\":{\"gridcolor\":\"white\",\"linecolor\":\"white\",\"ticks\":\"\"},\"caxis\":{\"gridcolor\":\"white\",\"linecolor\":\"white\",\"ticks\":\"\"}},\"coloraxis\":{\"colorbar\":{\"outlinewidth\":0,\"ticks\":\"\"}},\"colorscale\":{\"sequential\":[[0.0,\"#0d0887\"],[0.1111111111111111,\"#46039f\"],[0.2222222222222222,\"#7201a8\"],[0.3333333333333333,\"#9c179e\"],[0.4444444444444444,\"#bd3786\"],[0.5555555555555556,\"#d8576b\"],[0.6666666666666666,\"#ed7953\"],[0.7777777777777778,\"#fb9f3a\"],[0.8888888888888888,\"#fdca26\"],[1.0,\"#f0f921\"]],\"sequentialminus\":[[0.0,\"#0d0887\"],[0.1111111111111111,\"#46039f\"],[0.2222222222222222,\"#7201a8\"],[0.3333333333333333,\"#9c179e\"],[0.4444444444444444,\"#bd3786\"],[0.5555555555555556,\"#d8576b\"],[0.6666666666666666,\"#ed7953\"],[0.7777777777777778,\"#fb9f3a\"],[0.8888888888888888,\"#fdca26\"],[1.0,\"#f0f921\"]],\"diverging\":[[0,\"#8e0152\"],[0.1,\"#c51b7d\"],[0.2,\"#de77ae\"],[0.3,\"#f1b6da\"],[0.4,\"#fde0ef\"],[0.5,\"#f7f7f7\"],[0.6,\"#e6f5d0\"],[0.7,\"#b8e186\"],[0.8,\"#7fbc41\"],[0.9,\"#4d9221\"],[1,\"#276419\"]]},\"xaxis\":{\"gridcolor\":\"white\",\"linecolor\":\"white\",\"ticks\":\"\",\"title\":{\"standoff\":15},\"zerolinecolor\":\"white\",\"automargin\":true,\"zerolinewidth\":2},\"yaxis\":{\"gridcolor\":\"white\",\"linecolor\":\"white\",\"ticks\":\"\",\"title\":{\"standoff\":15},\"zerolinecolor\":\"white\",\"automargin\":true,\"zerolinewidth\":2},\"scene\":{\"xaxis\":{\"backgroundcolor\":\"#E5ECF6\",\"gridcolor\":\"white\",\"linecolor\":\"white\",\"showbackground\":true,\"ticks\":\"\",\"zerolinecolor\":\"white\",\"gridwidth\":2},\"yaxis\":{\"backgroundcolor\":\"#E5ECF6\",\"gridcolor\":\"white\",\"linecolor\":\"white\",\"showbackground\":true,\"ticks\":\"\",\"zerolinecolor\":\"white\",\"gridwidth\":2},\"zaxis\":{\"backgroundcolor\":\"#E5ECF6\",\"gridcolor\":\"white\",\"linecolor\":\"white\",\"showbackground\":true,\"ticks\":\"\",\"zerolinecolor\":\"white\",\"gridwidth\":2}},\"shapedefaults\":{\"line\":{\"color\":\"#2a3f5f\"}},\"annotationdefaults\":{\"arrowcolor\":\"#2a3f5f\",\"arrowhead\":0,\"arrowwidth\":1},\"geo\":{\"bgcolor\":\"white\",\"landcolor\":\"#E5ECF6\",\"subunitcolor\":\"white\",\"showland\":true,\"showlakes\":true,\"lakecolor\":\"white\"},\"title\":{\"x\":0.05},\"mapbox\":{\"style\":\"light\"}}},\"legend\":{\"tracegroupgap\":0},\"title\":{\"text\":\"Las 5 Empresas M\\u00e1s Innovadoras en Tecnolog\\u00eda\"}},                        {\"responsive\": true}                    ).then(function(){\n",
              "                            \n",
              "var gd = document.getElementById('0313c718-6459-4a04-b94e-576e2e697ca4');\n",
              "var x = new MutationObserver(function (mutations, observer) {{\n",
              "        var display = window.getComputedStyle(gd).display;\n",
              "        if (!display || display === 'none') {{\n",
              "            console.log([gd, 'removed!']);\n",
              "            Plotly.purge(gd);\n",
              "            observer.disconnect();\n",
              "        }}\n",
              "}});\n",
              "\n",
              "// Listen for the removal of the full notebook cells\n",
              "var notebookContainer = gd.closest('#notebook-container');\n",
              "if (notebookContainer) {{\n",
              "    x.observe(notebookContainer, {childList: true});\n",
              "}}\n",
              "\n",
              "// Listen for the clearing of the current output cell\n",
              "var outputEl = gd.closest('.output');\n",
              "if (outputEl) {{\n",
              "    x.observe(outputEl, {childList: true});\n",
              "}}\n",
              "\n",
              "                        })                };                            </script>        </div>\n",
              "</body>\n",
              "</html>"
            ]
          },
          "metadata": {}
        }
      ]
    },
    {
      "cell_type": "markdown",
      "source": [
        "## 3. Análisis para la empresa Cicadebo:\n",
        "\n",
        "Distribución temporal de noticias para Cicadebo:"
      ],
      "metadata": {
        "id": "Ss5XQl_bzEmH"
      }
    },
    {
      "cell_type": "code",
      "source": [
        "import plotly.express as px\n",
        "\n",
        "cicadebo_news = resultado[resultado['Empresa'] == 'Cicadebo']\n",
        "cicadebo_news['Fecha Publicacion'] = pd.to_datetime(cicadebo_news['Fecha Publicacion'])\n",
        "\n",
        "cicadebo_monthly_counts = cicadebo_news.resample('M', on='Fecha Publicacion').size().reset_index()\n",
        "cicadebo_monthly_counts.columns = ['Fecha', 'Cantidad de Noticias']\n",
        "\n",
        "fig_cicadebo_temporal = px.line(cicadebo_monthly_counts, x='Fecha', y='Cantidad de Noticias', title='Distribución Temporal de Noticias para Cicadebo')\n",
        "fig_cicadebo_temporal.update_xaxes(title_text='Fecha')\n",
        "fig_cicadebo_temporal.update_yaxes(title_text='Cantidad de Noticias')\n",
        "fig_cicadebo_temporal.show()"
      ],
      "metadata": {
        "id": "9XAVYMjHo66u",
        "colab": {
          "base_uri": "https://localhost:8080/",
          "height": 542
        },
        "outputId": "f56db598-74d4-46de-bcbb-948f53a0ca9f"
      },
      "execution_count": null,
      "outputs": [
        {
          "output_type": "display_data",
          "data": {
            "text/html": [
              "<html>\n",
              "<head><meta charset=\"utf-8\" /></head>\n",
              "<body>\n",
              "    <div>            <script src=\"https://cdnjs.cloudflare.com/ajax/libs/mathjax/2.7.5/MathJax.js?config=TeX-AMS-MML_SVG\"></script><script type=\"text/javascript\">if (window.MathJax && window.MathJax.Hub && window.MathJax.Hub.Config) {window.MathJax.Hub.Config({SVG: {font: \"STIX-Web\"}});}</script>                <script type=\"text/javascript\">window.PlotlyConfig = {MathJaxConfig: 'local'};</script>\n",
              "        <script charset=\"utf-8\" src=\"https://cdn.plot.ly/plotly-2.24.1.min.js\"></script>                <div id=\"8cd9e20e-328c-48ff-9140-60777c413462\" class=\"plotly-graph-div\" style=\"height:525px; width:100%;\"></div>            <script type=\"text/javascript\">                                    window.PLOTLYENV=window.PLOTLYENV || {};                                    if (document.getElementById(\"8cd9e20e-328c-48ff-9140-60777c413462\")) {                    Plotly.newPlot(                        \"8cd9e20e-328c-48ff-9140-60777c413462\",                        [{\"hovertemplate\":\"Fecha=%{x}\\u003cbr\\u003eCantidad de Noticias=%{y}\\u003cextra\\u003e\\u003c\\u002fextra\\u003e\",\"legendgroup\":\"\",\"line\":{\"color\":\"#636efa\",\"dash\":\"solid\"},\"marker\":{\"symbol\":\"circle\"},\"mode\":\"lines\",\"name\":\"\",\"orientation\":\"v\",\"showlegend\":false,\"x\":[\"2010-10-31T00:00:00\",\"2010-11-30T00:00:00\",\"2010-12-31T00:00:00\",\"2011-01-31T00:00:00\",\"2011-02-28T00:00:00\",\"2011-03-31T00:00:00\",\"2011-04-30T00:00:00\",\"2011-05-31T00:00:00\",\"2011-06-30T00:00:00\",\"2011-07-31T00:00:00\",\"2011-08-31T00:00:00\",\"2011-09-30T00:00:00\",\"2011-10-31T00:00:00\",\"2011-11-30T00:00:00\",\"2011-12-31T00:00:00\",\"2012-01-31T00:00:00\",\"2012-02-29T00:00:00\",\"2012-03-31T00:00:00\",\"2012-04-30T00:00:00\",\"2012-05-31T00:00:00\",\"2012-06-30T00:00:00\",\"2012-07-31T00:00:00\",\"2012-08-31T00:00:00\",\"2012-09-30T00:00:00\",\"2012-10-31T00:00:00\",\"2012-11-30T00:00:00\",\"2012-12-31T00:00:00\",\"2013-01-31T00:00:00\",\"2013-02-28T00:00:00\",\"2013-03-31T00:00:00\",\"2013-04-30T00:00:00\",\"2013-05-31T00:00:00\",\"2013-06-30T00:00:00\",\"2013-07-31T00:00:00\",\"2013-08-31T00:00:00\",\"2013-09-30T00:00:00\",\"2013-10-31T00:00:00\",\"2013-11-30T00:00:00\",\"2013-12-31T00:00:00\",\"2014-01-31T00:00:00\",\"2014-02-28T00:00:00\",\"2014-03-31T00:00:00\",\"2014-04-30T00:00:00\",\"2014-05-31T00:00:00\",\"2014-06-30T00:00:00\",\"2014-07-31T00:00:00\",\"2014-08-31T00:00:00\",\"2014-09-30T00:00:00\",\"2014-10-31T00:00:00\",\"2014-11-30T00:00:00\",\"2014-12-31T00:00:00\",\"2015-01-31T00:00:00\",\"2015-02-28T00:00:00\",\"2015-03-31T00:00:00\",\"2015-04-30T00:00:00\",\"2015-05-31T00:00:00\",\"2015-06-30T00:00:00\",\"2015-07-31T00:00:00\",\"2015-08-31T00:00:00\",\"2015-09-30T00:00:00\",\"2015-10-31T00:00:00\",\"2015-11-30T00:00:00\",\"2015-12-31T00:00:00\",\"2016-01-31T00:00:00\",\"2016-02-29T00:00:00\",\"2016-03-31T00:00:00\",\"2016-04-30T00:00:00\",\"2016-05-31T00:00:00\",\"2016-06-30T00:00:00\",\"2016-07-31T00:00:00\",\"2016-08-31T00:00:00\",\"2016-09-30T00:00:00\",\"2016-10-31T00:00:00\",\"2016-11-30T00:00:00\",\"2016-12-31T00:00:00\",\"2017-01-31T00:00:00\",\"2017-02-28T00:00:00\",\"2017-03-31T00:00:00\",\"2017-04-30T00:00:00\",\"2017-05-31T00:00:00\",\"2017-06-30T00:00:00\",\"2017-07-31T00:00:00\",\"2017-08-31T00:00:00\",\"2017-09-30T00:00:00\",\"2017-10-31T00:00:00\",\"2017-11-30T00:00:00\",\"2017-12-31T00:00:00\",\"2018-01-31T00:00:00\",\"2018-02-28T00:00:00\",\"2018-03-31T00:00:00\",\"2018-04-30T00:00:00\",\"2018-05-31T00:00:00\",\"2018-06-30T00:00:00\",\"2018-07-31T00:00:00\",\"2018-08-31T00:00:00\",\"2018-09-30T00:00:00\",\"2018-10-31T00:00:00\",\"2018-11-30T00:00:00\",\"2018-12-31T00:00:00\",\"2019-01-31T00:00:00\",\"2019-02-28T00:00:00\",\"2019-03-31T00:00:00\",\"2019-04-30T00:00:00\",\"2019-05-31T00:00:00\",\"2019-06-30T00:00:00\",\"2019-07-31T00:00:00\",\"2019-08-31T00:00:00\",\"2019-09-30T00:00:00\",\"2019-10-31T00:00:00\",\"2019-11-30T00:00:00\",\"2019-12-31T00:00:00\",\"2020-01-31T00:00:00\",\"2020-02-29T00:00:00\",\"2020-03-31T00:00:00\",\"2020-04-30T00:00:00\",\"2020-05-31T00:00:00\",\"2020-06-30T00:00:00\",\"2020-07-31T00:00:00\",\"2020-08-31T00:00:00\",\"2020-09-30T00:00:00\",\"2020-10-31T00:00:00\",\"2020-11-30T00:00:00\",\"2020-12-31T00:00:00\",\"2021-01-31T00:00:00\",\"2021-02-28T00:00:00\",\"2021-03-31T00:00:00\",\"2021-04-30T00:00:00\",\"2021-05-31T00:00:00\",\"2021-06-30T00:00:00\",\"2021-07-31T00:00:00\",\"2021-08-31T00:00:00\",\"2021-09-30T00:00:00\",\"2021-10-31T00:00:00\",\"2021-11-30T00:00:00\",\"2021-12-31T00:00:00\",\"2022-01-31T00:00:00\",\"2022-02-28T00:00:00\",\"2022-03-31T00:00:00\",\"2022-04-30T00:00:00\",\"2022-05-31T00:00:00\",\"2022-06-30T00:00:00\",\"2022-07-31T00:00:00\",\"2022-08-31T00:00:00\",\"2022-09-30T00:00:00\",\"2022-10-31T00:00:00\",\"2022-11-30T00:00:00\",\"2022-12-31T00:00:00\",\"2023-01-31T00:00:00\",\"2023-02-28T00:00:00\",\"2023-03-31T00:00:00\",\"2023-04-30T00:00:00\",\"2023-05-31T00:00:00\",\"2023-06-30T00:00:00\",\"2023-07-31T00:00:00\",\"2023-08-31T00:00:00\",\"2023-09-30T00:00:00\",\"2023-10-31T00:00:00\",\"2023-11-30T00:00:00\",\"2023-12-31T00:00:00\",\"2024-01-31T00:00:00\",\"2024-02-29T00:00:00\"],\"xaxis\":\"x\",\"y\":[1,0,0,0,1,0,0,0,0,0,0,0,0,0,0,0,0,0,0,0,0,0,0,0,0,0,0,0,0,0,0,0,0,0,0,0,0,0,0,0,0,0,0,0,0,0,0,0,0,0,0,0,0,0,0,0,0,0,0,0,0,0,0,0,0,0,0,0,0,0,0,0,0,0,0,0,0,0,0,0,0,0,0,0,0,0,0,0,0,0,0,0,0,0,0,0,0,0,0,0,0,0,0,0,0,0,0,0,0,0,0,0,0,0,0,0,0,0,0,0,0,0,0,0,0,0,0,0,0,0,0,0,0,0,1,0,0,0,0,0,2,1,1,0,0,0,1,0,20,72,142,30,0,0,0,0,0,3,6,0,1],\"yaxis\":\"y\",\"type\":\"scatter\"}],                        {\"template\":{\"data\":{\"histogram2dcontour\":[{\"type\":\"histogram2dcontour\",\"colorbar\":{\"outlinewidth\":0,\"ticks\":\"\"},\"colorscale\":[[0.0,\"#0d0887\"],[0.1111111111111111,\"#46039f\"],[0.2222222222222222,\"#7201a8\"],[0.3333333333333333,\"#9c179e\"],[0.4444444444444444,\"#bd3786\"],[0.5555555555555556,\"#d8576b\"],[0.6666666666666666,\"#ed7953\"],[0.7777777777777778,\"#fb9f3a\"],[0.8888888888888888,\"#fdca26\"],[1.0,\"#f0f921\"]]}],\"choropleth\":[{\"type\":\"choropleth\",\"colorbar\":{\"outlinewidth\":0,\"ticks\":\"\"}}],\"histogram2d\":[{\"type\":\"histogram2d\",\"colorbar\":{\"outlinewidth\":0,\"ticks\":\"\"},\"colorscale\":[[0.0,\"#0d0887\"],[0.1111111111111111,\"#46039f\"],[0.2222222222222222,\"#7201a8\"],[0.3333333333333333,\"#9c179e\"],[0.4444444444444444,\"#bd3786\"],[0.5555555555555556,\"#d8576b\"],[0.6666666666666666,\"#ed7953\"],[0.7777777777777778,\"#fb9f3a\"],[0.8888888888888888,\"#fdca26\"],[1.0,\"#f0f921\"]]}],\"heatmap\":[{\"type\":\"heatmap\",\"colorbar\":{\"outlinewidth\":0,\"ticks\":\"\"},\"colorscale\":[[0.0,\"#0d0887\"],[0.1111111111111111,\"#46039f\"],[0.2222222222222222,\"#7201a8\"],[0.3333333333333333,\"#9c179e\"],[0.4444444444444444,\"#bd3786\"],[0.5555555555555556,\"#d8576b\"],[0.6666666666666666,\"#ed7953\"],[0.7777777777777778,\"#fb9f3a\"],[0.8888888888888888,\"#fdca26\"],[1.0,\"#f0f921\"]]}],\"heatmapgl\":[{\"type\":\"heatmapgl\",\"colorbar\":{\"outlinewidth\":0,\"ticks\":\"\"},\"colorscale\":[[0.0,\"#0d0887\"],[0.1111111111111111,\"#46039f\"],[0.2222222222222222,\"#7201a8\"],[0.3333333333333333,\"#9c179e\"],[0.4444444444444444,\"#bd3786\"],[0.5555555555555556,\"#d8576b\"],[0.6666666666666666,\"#ed7953\"],[0.7777777777777778,\"#fb9f3a\"],[0.8888888888888888,\"#fdca26\"],[1.0,\"#f0f921\"]]}],\"contourcarpet\":[{\"type\":\"contourcarpet\",\"colorbar\":{\"outlinewidth\":0,\"ticks\":\"\"}}],\"contour\":[{\"type\":\"contour\",\"colorbar\":{\"outlinewidth\":0,\"ticks\":\"\"},\"colorscale\":[[0.0,\"#0d0887\"],[0.1111111111111111,\"#46039f\"],[0.2222222222222222,\"#7201a8\"],[0.3333333333333333,\"#9c179e\"],[0.4444444444444444,\"#bd3786\"],[0.5555555555555556,\"#d8576b\"],[0.6666666666666666,\"#ed7953\"],[0.7777777777777778,\"#fb9f3a\"],[0.8888888888888888,\"#fdca26\"],[1.0,\"#f0f921\"]]}],\"surface\":[{\"type\":\"surface\",\"colorbar\":{\"outlinewidth\":0,\"ticks\":\"\"},\"colorscale\":[[0.0,\"#0d0887\"],[0.1111111111111111,\"#46039f\"],[0.2222222222222222,\"#7201a8\"],[0.3333333333333333,\"#9c179e\"],[0.4444444444444444,\"#bd3786\"],[0.5555555555555556,\"#d8576b\"],[0.6666666666666666,\"#ed7953\"],[0.7777777777777778,\"#fb9f3a\"],[0.8888888888888888,\"#fdca26\"],[1.0,\"#f0f921\"]]}],\"mesh3d\":[{\"type\":\"mesh3d\",\"colorbar\":{\"outlinewidth\":0,\"ticks\":\"\"}}],\"scatter\":[{\"fillpattern\":{\"fillmode\":\"overlay\",\"size\":10,\"solidity\":0.2},\"type\":\"scatter\"}],\"parcoords\":[{\"type\":\"parcoords\",\"line\":{\"colorbar\":{\"outlinewidth\":0,\"ticks\":\"\"}}}],\"scatterpolargl\":[{\"type\":\"scatterpolargl\",\"marker\":{\"colorbar\":{\"outlinewidth\":0,\"ticks\":\"\"}}}],\"bar\":[{\"error_x\":{\"color\":\"#2a3f5f\"},\"error_y\":{\"color\":\"#2a3f5f\"},\"marker\":{\"line\":{\"color\":\"#E5ECF6\",\"width\":0.5},\"pattern\":{\"fillmode\":\"overlay\",\"size\":10,\"solidity\":0.2}},\"type\":\"bar\"}],\"scattergeo\":[{\"type\":\"scattergeo\",\"marker\":{\"colorbar\":{\"outlinewidth\":0,\"ticks\":\"\"}}}],\"scatterpolar\":[{\"type\":\"scatterpolar\",\"marker\":{\"colorbar\":{\"outlinewidth\":0,\"ticks\":\"\"}}}],\"histogram\":[{\"marker\":{\"pattern\":{\"fillmode\":\"overlay\",\"size\":10,\"solidity\":0.2}},\"type\":\"histogram\"}],\"scattergl\":[{\"type\":\"scattergl\",\"marker\":{\"colorbar\":{\"outlinewidth\":0,\"ticks\":\"\"}}}],\"scatter3d\":[{\"type\":\"scatter3d\",\"line\":{\"colorbar\":{\"outlinewidth\":0,\"ticks\":\"\"}},\"marker\":{\"colorbar\":{\"outlinewidth\":0,\"ticks\":\"\"}}}],\"scattermapbox\":[{\"type\":\"scattermapbox\",\"marker\":{\"colorbar\":{\"outlinewidth\":0,\"ticks\":\"\"}}}],\"scatterternary\":[{\"type\":\"scatterternary\",\"marker\":{\"colorbar\":{\"outlinewidth\":0,\"ticks\":\"\"}}}],\"scattercarpet\":[{\"type\":\"scattercarpet\",\"marker\":{\"colorbar\":{\"outlinewidth\":0,\"ticks\":\"\"}}}],\"carpet\":[{\"aaxis\":{\"endlinecolor\":\"#2a3f5f\",\"gridcolor\":\"white\",\"linecolor\":\"white\",\"minorgridcolor\":\"white\",\"startlinecolor\":\"#2a3f5f\"},\"baxis\":{\"endlinecolor\":\"#2a3f5f\",\"gridcolor\":\"white\",\"linecolor\":\"white\",\"minorgridcolor\":\"white\",\"startlinecolor\":\"#2a3f5f\"},\"type\":\"carpet\"}],\"table\":[{\"cells\":{\"fill\":{\"color\":\"#EBF0F8\"},\"line\":{\"color\":\"white\"}},\"header\":{\"fill\":{\"color\":\"#C8D4E3\"},\"line\":{\"color\":\"white\"}},\"type\":\"table\"}],\"barpolar\":[{\"marker\":{\"line\":{\"color\":\"#E5ECF6\",\"width\":0.5},\"pattern\":{\"fillmode\":\"overlay\",\"size\":10,\"solidity\":0.2}},\"type\":\"barpolar\"}],\"pie\":[{\"automargin\":true,\"type\":\"pie\"}]},\"layout\":{\"autotypenumbers\":\"strict\",\"colorway\":[\"#636efa\",\"#EF553B\",\"#00cc96\",\"#ab63fa\",\"#FFA15A\",\"#19d3f3\",\"#FF6692\",\"#B6E880\",\"#FF97FF\",\"#FECB52\"],\"font\":{\"color\":\"#2a3f5f\"},\"hovermode\":\"closest\",\"hoverlabel\":{\"align\":\"left\"},\"paper_bgcolor\":\"white\",\"plot_bgcolor\":\"#E5ECF6\",\"polar\":{\"bgcolor\":\"#E5ECF6\",\"angularaxis\":{\"gridcolor\":\"white\",\"linecolor\":\"white\",\"ticks\":\"\"},\"radialaxis\":{\"gridcolor\":\"white\",\"linecolor\":\"white\",\"ticks\":\"\"}},\"ternary\":{\"bgcolor\":\"#E5ECF6\",\"aaxis\":{\"gridcolor\":\"white\",\"linecolor\":\"white\",\"ticks\":\"\"},\"baxis\":{\"gridcolor\":\"white\",\"linecolor\":\"white\",\"ticks\":\"\"},\"caxis\":{\"gridcolor\":\"white\",\"linecolor\":\"white\",\"ticks\":\"\"}},\"coloraxis\":{\"colorbar\":{\"outlinewidth\":0,\"ticks\":\"\"}},\"colorscale\":{\"sequential\":[[0.0,\"#0d0887\"],[0.1111111111111111,\"#46039f\"],[0.2222222222222222,\"#7201a8\"],[0.3333333333333333,\"#9c179e\"],[0.4444444444444444,\"#bd3786\"],[0.5555555555555556,\"#d8576b\"],[0.6666666666666666,\"#ed7953\"],[0.7777777777777778,\"#fb9f3a\"],[0.8888888888888888,\"#fdca26\"],[1.0,\"#f0f921\"]],\"sequentialminus\":[[0.0,\"#0d0887\"],[0.1111111111111111,\"#46039f\"],[0.2222222222222222,\"#7201a8\"],[0.3333333333333333,\"#9c179e\"],[0.4444444444444444,\"#bd3786\"],[0.5555555555555556,\"#d8576b\"],[0.6666666666666666,\"#ed7953\"],[0.7777777777777778,\"#fb9f3a\"],[0.8888888888888888,\"#fdca26\"],[1.0,\"#f0f921\"]],\"diverging\":[[0,\"#8e0152\"],[0.1,\"#c51b7d\"],[0.2,\"#de77ae\"],[0.3,\"#f1b6da\"],[0.4,\"#fde0ef\"],[0.5,\"#f7f7f7\"],[0.6,\"#e6f5d0\"],[0.7,\"#b8e186\"],[0.8,\"#7fbc41\"],[0.9,\"#4d9221\"],[1,\"#276419\"]]},\"xaxis\":{\"gridcolor\":\"white\",\"linecolor\":\"white\",\"ticks\":\"\",\"title\":{\"standoff\":15},\"zerolinecolor\":\"white\",\"automargin\":true,\"zerolinewidth\":2},\"yaxis\":{\"gridcolor\":\"white\",\"linecolor\":\"white\",\"ticks\":\"\",\"title\":{\"standoff\":15},\"zerolinecolor\":\"white\",\"automargin\":true,\"zerolinewidth\":2},\"scene\":{\"xaxis\":{\"backgroundcolor\":\"#E5ECF6\",\"gridcolor\":\"white\",\"linecolor\":\"white\",\"showbackground\":true,\"ticks\":\"\",\"zerolinecolor\":\"white\",\"gridwidth\":2},\"yaxis\":{\"backgroundcolor\":\"#E5ECF6\",\"gridcolor\":\"white\",\"linecolor\":\"white\",\"showbackground\":true,\"ticks\":\"\",\"zerolinecolor\":\"white\",\"gridwidth\":2},\"zaxis\":{\"backgroundcolor\":\"#E5ECF6\",\"gridcolor\":\"white\",\"linecolor\":\"white\",\"showbackground\":true,\"ticks\":\"\",\"zerolinecolor\":\"white\",\"gridwidth\":2}},\"shapedefaults\":{\"line\":{\"color\":\"#2a3f5f\"}},\"annotationdefaults\":{\"arrowcolor\":\"#2a3f5f\",\"arrowhead\":0,\"arrowwidth\":1},\"geo\":{\"bgcolor\":\"white\",\"landcolor\":\"#E5ECF6\",\"subunitcolor\":\"white\",\"showland\":true,\"showlakes\":true,\"lakecolor\":\"white\"},\"title\":{\"x\":0.05},\"mapbox\":{\"style\":\"light\"}}},\"xaxis\":{\"anchor\":\"y\",\"domain\":[0.0,1.0],\"title\":{\"text\":\"Fecha\"}},\"yaxis\":{\"anchor\":\"x\",\"domain\":[0.0,1.0],\"title\":{\"text\":\"Cantidad de Noticias\"}},\"legend\":{\"tracegroupgap\":0},\"title\":{\"text\":\"Distribuci\\u00f3n Temporal de Noticias para Cicadebo\"}},                        {\"responsive\": true}                    ).then(function(){\n",
              "                            \n",
              "var gd = document.getElementById('8cd9e20e-328c-48ff-9140-60777c413462');\n",
              "var x = new MutationObserver(function (mutations, observer) {{\n",
              "        var display = window.getComputedStyle(gd).display;\n",
              "        if (!display || display === 'none') {{\n",
              "            console.log([gd, 'removed!']);\n",
              "            Plotly.purge(gd);\n",
              "            observer.disconnect();\n",
              "        }}\n",
              "}});\n",
              "\n",
              "// Listen for the removal of the full notebook cells\n",
              "var notebookContainer = gd.closest('#notebook-container');\n",
              "if (notebookContainer) {{\n",
              "    x.observe(notebookContainer, {childList: true});\n",
              "}}\n",
              "\n",
              "// Listen for the clearing of the current output cell\n",
              "var outputEl = gd.closest('.output');\n",
              "if (outputEl) {{\n",
              "    x.observe(outputEl, {childList: true});\n",
              "}}\n",
              "\n",
              "                        })                };                            </script>        </div>\n",
              "</body>\n",
              "</html>"
            ]
          },
          "metadata": {}
        }
      ]
    },
    {
      "cell_type": "code",
      "source": [
        "import plotly.express as px\n",
        "\n",
        "cicadebo_news = resultado[resultado['Empresa'] == 'Rodao']\n",
        "cicadebo_news['Fecha Publicacion'] = pd.to_datetime(cicadebo_news['Fecha Publicacion'])\n",
        "\n",
        "cicadebo_monthly_counts = cicadebo_news.resample('M', on='Fecha Publicacion').size().reset_index()\n",
        "cicadebo_monthly_counts.columns = ['Fecha', 'Cantidad de Noticias']\n",
        "\n",
        "fig_cicadebo_temporal = px.line(cicadebo_monthly_counts, x='Fecha', y='Cantidad de Noticias', title='Distribución Temporal de Noticias para Rodao')\n",
        "fig_cicadebo_temporal.update_xaxes(title_text='Fecha')\n",
        "fig_cicadebo_temporal.update_yaxes(title_text='Cantidad de Noticias')\n",
        "fig_cicadebo_temporal.show()"
      ],
      "metadata": {
        "id": "iCeMIrypfypt",
        "colab": {
          "base_uri": "https://localhost:8080/",
          "height": 542
        },
        "outputId": "8c7c6fa8-f62c-4f80-8e28-5bcdeeb48790"
      },
      "execution_count": null,
      "outputs": [
        {
          "output_type": "display_data",
          "data": {
            "text/html": [
              "<html>\n",
              "<head><meta charset=\"utf-8\" /></head>\n",
              "<body>\n",
              "    <div>            <script src=\"https://cdnjs.cloudflare.com/ajax/libs/mathjax/2.7.5/MathJax.js?config=TeX-AMS-MML_SVG\"></script><script type=\"text/javascript\">if (window.MathJax && window.MathJax.Hub && window.MathJax.Hub.Config) {window.MathJax.Hub.Config({SVG: {font: \"STIX-Web\"}});}</script>                <script type=\"text/javascript\">window.PlotlyConfig = {MathJaxConfig: 'local'};</script>\n",
              "        <script charset=\"utf-8\" src=\"https://cdn.plot.ly/plotly-2.24.1.min.js\"></script>                <div id=\"864a872d-63f3-4cfc-91f7-eea1af26e294\" class=\"plotly-graph-div\" style=\"height:525px; width:100%;\"></div>            <script type=\"text/javascript\">                                    window.PLOTLYENV=window.PLOTLYENV || {};                                    if (document.getElementById(\"864a872d-63f3-4cfc-91f7-eea1af26e294\")) {                    Plotly.newPlot(                        \"864a872d-63f3-4cfc-91f7-eea1af26e294\",                        [{\"hovertemplate\":\"Fecha=%{x}\\u003cbr\\u003eCantidad de Noticias=%{y}\\u003cextra\\u003e\\u003c\\u002fextra\\u003e\",\"legendgroup\":\"\",\"line\":{\"color\":\"#636efa\",\"dash\":\"solid\"},\"marker\":{\"symbol\":\"circle\"},\"mode\":\"lines\",\"name\":\"\",\"orientation\":\"v\",\"showlegend\":false,\"x\":[\"2022-01-31T00:00:00\",\"2022-02-28T00:00:00\",\"2022-03-31T00:00:00\",\"2022-04-30T00:00:00\",\"2022-05-31T00:00:00\",\"2022-06-30T00:00:00\",\"2022-07-31T00:00:00\",\"2022-08-31T00:00:00\",\"2022-09-30T00:00:00\",\"2022-10-31T00:00:00\",\"2022-11-30T00:00:00\",\"2022-12-31T00:00:00\",\"2023-01-31T00:00:00\",\"2023-02-28T00:00:00\",\"2023-03-31T00:00:00\",\"2023-04-30T00:00:00\"],\"xaxis\":\"x\",\"y\":[1,0,11,2,5,1,0,2,6,2,28,25,22,31,50,133],\"yaxis\":\"y\",\"type\":\"scatter\"}],                        {\"template\":{\"data\":{\"histogram2dcontour\":[{\"type\":\"histogram2dcontour\",\"colorbar\":{\"outlinewidth\":0,\"ticks\":\"\"},\"colorscale\":[[0.0,\"#0d0887\"],[0.1111111111111111,\"#46039f\"],[0.2222222222222222,\"#7201a8\"],[0.3333333333333333,\"#9c179e\"],[0.4444444444444444,\"#bd3786\"],[0.5555555555555556,\"#d8576b\"],[0.6666666666666666,\"#ed7953\"],[0.7777777777777778,\"#fb9f3a\"],[0.8888888888888888,\"#fdca26\"],[1.0,\"#f0f921\"]]}],\"choropleth\":[{\"type\":\"choropleth\",\"colorbar\":{\"outlinewidth\":0,\"ticks\":\"\"}}],\"histogram2d\":[{\"type\":\"histogram2d\",\"colorbar\":{\"outlinewidth\":0,\"ticks\":\"\"},\"colorscale\":[[0.0,\"#0d0887\"],[0.1111111111111111,\"#46039f\"],[0.2222222222222222,\"#7201a8\"],[0.3333333333333333,\"#9c179e\"],[0.4444444444444444,\"#bd3786\"],[0.5555555555555556,\"#d8576b\"],[0.6666666666666666,\"#ed7953\"],[0.7777777777777778,\"#fb9f3a\"],[0.8888888888888888,\"#fdca26\"],[1.0,\"#f0f921\"]]}],\"heatmap\":[{\"type\":\"heatmap\",\"colorbar\":{\"outlinewidth\":0,\"ticks\":\"\"},\"colorscale\":[[0.0,\"#0d0887\"],[0.1111111111111111,\"#46039f\"],[0.2222222222222222,\"#7201a8\"],[0.3333333333333333,\"#9c179e\"],[0.4444444444444444,\"#bd3786\"],[0.5555555555555556,\"#d8576b\"],[0.6666666666666666,\"#ed7953\"],[0.7777777777777778,\"#fb9f3a\"],[0.8888888888888888,\"#fdca26\"],[1.0,\"#f0f921\"]]}],\"heatmapgl\":[{\"type\":\"heatmapgl\",\"colorbar\":{\"outlinewidth\":0,\"ticks\":\"\"},\"colorscale\":[[0.0,\"#0d0887\"],[0.1111111111111111,\"#46039f\"],[0.2222222222222222,\"#7201a8\"],[0.3333333333333333,\"#9c179e\"],[0.4444444444444444,\"#bd3786\"],[0.5555555555555556,\"#d8576b\"],[0.6666666666666666,\"#ed7953\"],[0.7777777777777778,\"#fb9f3a\"],[0.8888888888888888,\"#fdca26\"],[1.0,\"#f0f921\"]]}],\"contourcarpet\":[{\"type\":\"contourcarpet\",\"colorbar\":{\"outlinewidth\":0,\"ticks\":\"\"}}],\"contour\":[{\"type\":\"contour\",\"colorbar\":{\"outlinewidth\":0,\"ticks\":\"\"},\"colorscale\":[[0.0,\"#0d0887\"],[0.1111111111111111,\"#46039f\"],[0.2222222222222222,\"#7201a8\"],[0.3333333333333333,\"#9c179e\"],[0.4444444444444444,\"#bd3786\"],[0.5555555555555556,\"#d8576b\"],[0.6666666666666666,\"#ed7953\"],[0.7777777777777778,\"#fb9f3a\"],[0.8888888888888888,\"#fdca26\"],[1.0,\"#f0f921\"]]}],\"surface\":[{\"type\":\"surface\",\"colorbar\":{\"outlinewidth\":0,\"ticks\":\"\"},\"colorscale\":[[0.0,\"#0d0887\"],[0.1111111111111111,\"#46039f\"],[0.2222222222222222,\"#7201a8\"],[0.3333333333333333,\"#9c179e\"],[0.4444444444444444,\"#bd3786\"],[0.5555555555555556,\"#d8576b\"],[0.6666666666666666,\"#ed7953\"],[0.7777777777777778,\"#fb9f3a\"],[0.8888888888888888,\"#fdca26\"],[1.0,\"#f0f921\"]]}],\"mesh3d\":[{\"type\":\"mesh3d\",\"colorbar\":{\"outlinewidth\":0,\"ticks\":\"\"}}],\"scatter\":[{\"fillpattern\":{\"fillmode\":\"overlay\",\"size\":10,\"solidity\":0.2},\"type\":\"scatter\"}],\"parcoords\":[{\"type\":\"parcoords\",\"line\":{\"colorbar\":{\"outlinewidth\":0,\"ticks\":\"\"}}}],\"scatterpolargl\":[{\"type\":\"scatterpolargl\",\"marker\":{\"colorbar\":{\"outlinewidth\":0,\"ticks\":\"\"}}}],\"bar\":[{\"error_x\":{\"color\":\"#2a3f5f\"},\"error_y\":{\"color\":\"#2a3f5f\"},\"marker\":{\"line\":{\"color\":\"#E5ECF6\",\"width\":0.5},\"pattern\":{\"fillmode\":\"overlay\",\"size\":10,\"solidity\":0.2}},\"type\":\"bar\"}],\"scattergeo\":[{\"type\":\"scattergeo\",\"marker\":{\"colorbar\":{\"outlinewidth\":0,\"ticks\":\"\"}}}],\"scatterpolar\":[{\"type\":\"scatterpolar\",\"marker\":{\"colorbar\":{\"outlinewidth\":0,\"ticks\":\"\"}}}],\"histogram\":[{\"marker\":{\"pattern\":{\"fillmode\":\"overlay\",\"size\":10,\"solidity\":0.2}},\"type\":\"histogram\"}],\"scattergl\":[{\"type\":\"scattergl\",\"marker\":{\"colorbar\":{\"outlinewidth\":0,\"ticks\":\"\"}}}],\"scatter3d\":[{\"type\":\"scatter3d\",\"line\":{\"colorbar\":{\"outlinewidth\":0,\"ticks\":\"\"}},\"marker\":{\"colorbar\":{\"outlinewidth\":0,\"ticks\":\"\"}}}],\"scattermapbox\":[{\"type\":\"scattermapbox\",\"marker\":{\"colorbar\":{\"outlinewidth\":0,\"ticks\":\"\"}}}],\"scatterternary\":[{\"type\":\"scatterternary\",\"marker\":{\"colorbar\":{\"outlinewidth\":0,\"ticks\":\"\"}}}],\"scattercarpet\":[{\"type\":\"scattercarpet\",\"marker\":{\"colorbar\":{\"outlinewidth\":0,\"ticks\":\"\"}}}],\"carpet\":[{\"aaxis\":{\"endlinecolor\":\"#2a3f5f\",\"gridcolor\":\"white\",\"linecolor\":\"white\",\"minorgridcolor\":\"white\",\"startlinecolor\":\"#2a3f5f\"},\"baxis\":{\"endlinecolor\":\"#2a3f5f\",\"gridcolor\":\"white\",\"linecolor\":\"white\",\"minorgridcolor\":\"white\",\"startlinecolor\":\"#2a3f5f\"},\"type\":\"carpet\"}],\"table\":[{\"cells\":{\"fill\":{\"color\":\"#EBF0F8\"},\"line\":{\"color\":\"white\"}},\"header\":{\"fill\":{\"color\":\"#C8D4E3\"},\"line\":{\"color\":\"white\"}},\"type\":\"table\"}],\"barpolar\":[{\"marker\":{\"line\":{\"color\":\"#E5ECF6\",\"width\":0.5},\"pattern\":{\"fillmode\":\"overlay\",\"size\":10,\"solidity\":0.2}},\"type\":\"barpolar\"}],\"pie\":[{\"automargin\":true,\"type\":\"pie\"}]},\"layout\":{\"autotypenumbers\":\"strict\",\"colorway\":[\"#636efa\",\"#EF553B\",\"#00cc96\",\"#ab63fa\",\"#FFA15A\",\"#19d3f3\",\"#FF6692\",\"#B6E880\",\"#FF97FF\",\"#FECB52\"],\"font\":{\"color\":\"#2a3f5f\"},\"hovermode\":\"closest\",\"hoverlabel\":{\"align\":\"left\"},\"paper_bgcolor\":\"white\",\"plot_bgcolor\":\"#E5ECF6\",\"polar\":{\"bgcolor\":\"#E5ECF6\",\"angularaxis\":{\"gridcolor\":\"white\",\"linecolor\":\"white\",\"ticks\":\"\"},\"radialaxis\":{\"gridcolor\":\"white\",\"linecolor\":\"white\",\"ticks\":\"\"}},\"ternary\":{\"bgcolor\":\"#E5ECF6\",\"aaxis\":{\"gridcolor\":\"white\",\"linecolor\":\"white\",\"ticks\":\"\"},\"baxis\":{\"gridcolor\":\"white\",\"linecolor\":\"white\",\"ticks\":\"\"},\"caxis\":{\"gridcolor\":\"white\",\"linecolor\":\"white\",\"ticks\":\"\"}},\"coloraxis\":{\"colorbar\":{\"outlinewidth\":0,\"ticks\":\"\"}},\"colorscale\":{\"sequential\":[[0.0,\"#0d0887\"],[0.1111111111111111,\"#46039f\"],[0.2222222222222222,\"#7201a8\"],[0.3333333333333333,\"#9c179e\"],[0.4444444444444444,\"#bd3786\"],[0.5555555555555556,\"#d8576b\"],[0.6666666666666666,\"#ed7953\"],[0.7777777777777778,\"#fb9f3a\"],[0.8888888888888888,\"#fdca26\"],[1.0,\"#f0f921\"]],\"sequentialminus\":[[0.0,\"#0d0887\"],[0.1111111111111111,\"#46039f\"],[0.2222222222222222,\"#7201a8\"],[0.3333333333333333,\"#9c179e\"],[0.4444444444444444,\"#bd3786\"],[0.5555555555555556,\"#d8576b\"],[0.6666666666666666,\"#ed7953\"],[0.7777777777777778,\"#fb9f3a\"],[0.8888888888888888,\"#fdca26\"],[1.0,\"#f0f921\"]],\"diverging\":[[0,\"#8e0152\"],[0.1,\"#c51b7d\"],[0.2,\"#de77ae\"],[0.3,\"#f1b6da\"],[0.4,\"#fde0ef\"],[0.5,\"#f7f7f7\"],[0.6,\"#e6f5d0\"],[0.7,\"#b8e186\"],[0.8,\"#7fbc41\"],[0.9,\"#4d9221\"],[1,\"#276419\"]]},\"xaxis\":{\"gridcolor\":\"white\",\"linecolor\":\"white\",\"ticks\":\"\",\"title\":{\"standoff\":15},\"zerolinecolor\":\"white\",\"automargin\":true,\"zerolinewidth\":2},\"yaxis\":{\"gridcolor\":\"white\",\"linecolor\":\"white\",\"ticks\":\"\",\"title\":{\"standoff\":15},\"zerolinecolor\":\"white\",\"automargin\":true,\"zerolinewidth\":2},\"scene\":{\"xaxis\":{\"backgroundcolor\":\"#E5ECF6\",\"gridcolor\":\"white\",\"linecolor\":\"white\",\"showbackground\":true,\"ticks\":\"\",\"zerolinecolor\":\"white\",\"gridwidth\":2},\"yaxis\":{\"backgroundcolor\":\"#E5ECF6\",\"gridcolor\":\"white\",\"linecolor\":\"white\",\"showbackground\":true,\"ticks\":\"\",\"zerolinecolor\":\"white\",\"gridwidth\":2},\"zaxis\":{\"backgroundcolor\":\"#E5ECF6\",\"gridcolor\":\"white\",\"linecolor\":\"white\",\"showbackground\":true,\"ticks\":\"\",\"zerolinecolor\":\"white\",\"gridwidth\":2}},\"shapedefaults\":{\"line\":{\"color\":\"#2a3f5f\"}},\"annotationdefaults\":{\"arrowcolor\":\"#2a3f5f\",\"arrowhead\":0,\"arrowwidth\":1},\"geo\":{\"bgcolor\":\"white\",\"landcolor\":\"#E5ECF6\",\"subunitcolor\":\"white\",\"showland\":true,\"showlakes\":true,\"lakecolor\":\"white\"},\"title\":{\"x\":0.05},\"mapbox\":{\"style\":\"light\"}}},\"xaxis\":{\"anchor\":\"y\",\"domain\":[0.0,1.0],\"title\":{\"text\":\"Fecha\"}},\"yaxis\":{\"anchor\":\"x\",\"domain\":[0.0,1.0],\"title\":{\"text\":\"Cantidad de Noticias\"}},\"legend\":{\"tracegroupgap\":0},\"title\":{\"text\":\"Distribuci\\u00f3n Temporal de Noticias para Rodao\"}},                        {\"responsive\": true}                    ).then(function(){\n",
              "                            \n",
              "var gd = document.getElementById('864a872d-63f3-4cfc-91f7-eea1af26e294');\n",
              "var x = new MutationObserver(function (mutations, observer) {{\n",
              "        var display = window.getComputedStyle(gd).display;\n",
              "        if (!display || display === 'none') {{\n",
              "            console.log([gd, 'removed!']);\n",
              "            Plotly.purge(gd);\n",
              "            observer.disconnect();\n",
              "        }}\n",
              "}});\n",
              "\n",
              "// Listen for the removal of the full notebook cells\n",
              "var notebookContainer = gd.closest('#notebook-container');\n",
              "if (notebookContainer) {{\n",
              "    x.observe(notebookContainer, {childList: true});\n",
              "}}\n",
              "\n",
              "// Listen for the clearing of the current output cell\n",
              "var outputEl = gd.closest('.output');\n",
              "if (outputEl) {{\n",
              "    x.observe(outputEl, {childList: true});\n",
              "}}\n",
              "\n",
              "                        })                };                            </script>        </div>\n",
              "</body>\n",
              "</html>"
            ]
          },
          "metadata": {}
        }
      ]
    },
    {
      "cell_type": "markdown",
      "source": [
        "## Temáticas entre febrero y mayo de 2023:"
      ],
      "metadata": {
        "id": "2ZcSJScKzj1m"
      }
    },
    {
      "cell_type": "code",
      "source": [
        "import pandas as pd\n",
        "import plotly.express as px\n",
        "from sklearn.feature_extraction.text import CountVectorizer\n",
        "\n",
        "cicadebo_news_2023 = cicadebo_news[(cicadebo_news['Fecha Publicacion'] >= '2023-02-01') & (cicadebo_news['Fecha Publicacion'] <= '2023-05-31')]\n",
        "cicadebo_news_2023['Texto_Combinado'] = cicadebo_news_2023.apply(lambda row: ' '.join(row.dropna().astype(str)), axis=1)\n",
        "\n",
        "# Matriz de términos\n",
        "vectorizer = CountVectorizer()\n",
        "X = vectorizer.fit_transform(cicadebo_news_2023['Texto_Combinado'])\n",
        "\n",
        "#Palabras frecuentes\n",
        "frecuencias = X.toarray()[0]\n",
        "palabras = vectorizer.get_feature_names_out()\n",
        "df_palabras_frecuentes = pd.DataFrame({'Palabra': palabras, 'Frecuencia': frecuencias})\n",
        "df_palabras_frecuentes = df_palabras_frecuentes[df_palabras_frecuentes['Palabra'].str.len() > 6]\n",
        "df_palabras_frecuentes = df_palabras_frecuentes.sort_values(by='Frecuencia', ascending=False)\n",
        "\n",
        "N = 10\n",
        "palabras_top_N = df_palabras_frecuentes.head(N)\n",
        "fig = px.bar(palabras_top_N, x='Frecuencia', y='Palabra', orientation='h', labels={'Palabra': 'Palabra', 'Frecuencia': 'Frecuencia'})\n",
        "fig.update_layout(title='Palabras frecuentes en noticias de Cicadebo (Feb-May 2023)')\n",
        "fig.show()"
      ],
      "metadata": {
        "id": "o11NNMIvymCe",
        "colab": {
          "base_uri": "https://localhost:8080/",
          "height": 542
        },
        "outputId": "fd727d38-3855-48a3-c7cd-386143c5bad1"
      },
      "execution_count": null,
      "outputs": [
        {
          "output_type": "display_data",
          "data": {
            "text/html": [
              "<html>\n",
              "<head><meta charset=\"utf-8\" /></head>\n",
              "<body>\n",
              "    <div>            <script src=\"https://cdnjs.cloudflare.com/ajax/libs/mathjax/2.7.5/MathJax.js?config=TeX-AMS-MML_SVG\"></script><script type=\"text/javascript\">if (window.MathJax && window.MathJax.Hub && window.MathJax.Hub.Config) {window.MathJax.Hub.Config({SVG: {font: \"STIX-Web\"}});}</script>                <script type=\"text/javascript\">window.PlotlyConfig = {MathJaxConfig: 'local'};</script>\n",
              "        <script charset=\"utf-8\" src=\"https://cdn.plot.ly/plotly-2.24.1.min.js\"></script>                <div id=\"5ceeb17e-a98b-4016-9a3a-f807ca781611\" class=\"plotly-graph-div\" style=\"height:525px; width:100%;\"></div>            <script type=\"text/javascript\">                                    window.PLOTLYENV=window.PLOTLYENV || {};                                    if (document.getElementById(\"5ceeb17e-a98b-4016-9a3a-f807ca781611\")) {                    Plotly.newPlot(                        \"5ceeb17e-a98b-4016-9a3a-f807ca781611\",                        [{\"alignmentgroup\":\"True\",\"hovertemplate\":\"Frecuencia=%{x}\\u003cbr\\u003ePalabra=%{y}\\u003cextra\\u003e\\u003c\\u002fextra\\u003e\",\"legendgroup\":\"\",\"marker\":{\"color\":\"#636efa\",\"pattern\":{\"shape\":\"\"}},\"name\":\"\",\"offsetgroup\":\"\",\"orientation\":\"h\",\"showlegend\":false,\"textposition\":\"auto\",\"x\":[8,8,6,5,4,4,4,4,3,2],\"xaxis\":\"x\",\"y\":[\"tecnolog\\u00eda\",\"innovaci\\u00f3n\",\"cicadebo\",\"ciencia\",\"sat\\u00e9lite\",\"informaci\\u00f3n\",\"econova\",\"biodiversidad\",\"chiribiquete\",\"corporaci\\u00f3n\"],\"yaxis\":\"y\",\"type\":\"bar\"}],                        {\"template\":{\"data\":{\"histogram2dcontour\":[{\"type\":\"histogram2dcontour\",\"colorbar\":{\"outlinewidth\":0,\"ticks\":\"\"},\"colorscale\":[[0.0,\"#0d0887\"],[0.1111111111111111,\"#46039f\"],[0.2222222222222222,\"#7201a8\"],[0.3333333333333333,\"#9c179e\"],[0.4444444444444444,\"#bd3786\"],[0.5555555555555556,\"#d8576b\"],[0.6666666666666666,\"#ed7953\"],[0.7777777777777778,\"#fb9f3a\"],[0.8888888888888888,\"#fdca26\"],[1.0,\"#f0f921\"]]}],\"choropleth\":[{\"type\":\"choropleth\",\"colorbar\":{\"outlinewidth\":0,\"ticks\":\"\"}}],\"histogram2d\":[{\"type\":\"histogram2d\",\"colorbar\":{\"outlinewidth\":0,\"ticks\":\"\"},\"colorscale\":[[0.0,\"#0d0887\"],[0.1111111111111111,\"#46039f\"],[0.2222222222222222,\"#7201a8\"],[0.3333333333333333,\"#9c179e\"],[0.4444444444444444,\"#bd3786\"],[0.5555555555555556,\"#d8576b\"],[0.6666666666666666,\"#ed7953\"],[0.7777777777777778,\"#fb9f3a\"],[0.8888888888888888,\"#fdca26\"],[1.0,\"#f0f921\"]]}],\"heatmap\":[{\"type\":\"heatmap\",\"colorbar\":{\"outlinewidth\":0,\"ticks\":\"\"},\"colorscale\":[[0.0,\"#0d0887\"],[0.1111111111111111,\"#46039f\"],[0.2222222222222222,\"#7201a8\"],[0.3333333333333333,\"#9c179e\"],[0.4444444444444444,\"#bd3786\"],[0.5555555555555556,\"#d8576b\"],[0.6666666666666666,\"#ed7953\"],[0.7777777777777778,\"#fb9f3a\"],[0.8888888888888888,\"#fdca26\"],[1.0,\"#f0f921\"]]}],\"heatmapgl\":[{\"type\":\"heatmapgl\",\"colorbar\":{\"outlinewidth\":0,\"ticks\":\"\"},\"colorscale\":[[0.0,\"#0d0887\"],[0.1111111111111111,\"#46039f\"],[0.2222222222222222,\"#7201a8\"],[0.3333333333333333,\"#9c179e\"],[0.4444444444444444,\"#bd3786\"],[0.5555555555555556,\"#d8576b\"],[0.6666666666666666,\"#ed7953\"],[0.7777777777777778,\"#fb9f3a\"],[0.8888888888888888,\"#fdca26\"],[1.0,\"#f0f921\"]]}],\"contourcarpet\":[{\"type\":\"contourcarpet\",\"colorbar\":{\"outlinewidth\":0,\"ticks\":\"\"}}],\"contour\":[{\"type\":\"contour\",\"colorbar\":{\"outlinewidth\":0,\"ticks\":\"\"},\"colorscale\":[[0.0,\"#0d0887\"],[0.1111111111111111,\"#46039f\"],[0.2222222222222222,\"#7201a8\"],[0.3333333333333333,\"#9c179e\"],[0.4444444444444444,\"#bd3786\"],[0.5555555555555556,\"#d8576b\"],[0.6666666666666666,\"#ed7953\"],[0.7777777777777778,\"#fb9f3a\"],[0.8888888888888888,\"#fdca26\"],[1.0,\"#f0f921\"]]}],\"surface\":[{\"type\":\"surface\",\"colorbar\":{\"outlinewidth\":0,\"ticks\":\"\"},\"colorscale\":[[0.0,\"#0d0887\"],[0.1111111111111111,\"#46039f\"],[0.2222222222222222,\"#7201a8\"],[0.3333333333333333,\"#9c179e\"],[0.4444444444444444,\"#bd3786\"],[0.5555555555555556,\"#d8576b\"],[0.6666666666666666,\"#ed7953\"],[0.7777777777777778,\"#fb9f3a\"],[0.8888888888888888,\"#fdca26\"],[1.0,\"#f0f921\"]]}],\"mesh3d\":[{\"type\":\"mesh3d\",\"colorbar\":{\"outlinewidth\":0,\"ticks\":\"\"}}],\"scatter\":[{\"fillpattern\":{\"fillmode\":\"overlay\",\"size\":10,\"solidity\":0.2},\"type\":\"scatter\"}],\"parcoords\":[{\"type\":\"parcoords\",\"line\":{\"colorbar\":{\"outlinewidth\":0,\"ticks\":\"\"}}}],\"scatterpolargl\":[{\"type\":\"scatterpolargl\",\"marker\":{\"colorbar\":{\"outlinewidth\":0,\"ticks\":\"\"}}}],\"bar\":[{\"error_x\":{\"color\":\"#2a3f5f\"},\"error_y\":{\"color\":\"#2a3f5f\"},\"marker\":{\"line\":{\"color\":\"#E5ECF6\",\"width\":0.5},\"pattern\":{\"fillmode\":\"overlay\",\"size\":10,\"solidity\":0.2}},\"type\":\"bar\"}],\"scattergeo\":[{\"type\":\"scattergeo\",\"marker\":{\"colorbar\":{\"outlinewidth\":0,\"ticks\":\"\"}}}],\"scatterpolar\":[{\"type\":\"scatterpolar\",\"marker\":{\"colorbar\":{\"outlinewidth\":0,\"ticks\":\"\"}}}],\"histogram\":[{\"marker\":{\"pattern\":{\"fillmode\":\"overlay\",\"size\":10,\"solidity\":0.2}},\"type\":\"histogram\"}],\"scattergl\":[{\"type\":\"scattergl\",\"marker\":{\"colorbar\":{\"outlinewidth\":0,\"ticks\":\"\"}}}],\"scatter3d\":[{\"type\":\"scatter3d\",\"line\":{\"colorbar\":{\"outlinewidth\":0,\"ticks\":\"\"}},\"marker\":{\"colorbar\":{\"outlinewidth\":0,\"ticks\":\"\"}}}],\"scattermapbox\":[{\"type\":\"scattermapbox\",\"marker\":{\"colorbar\":{\"outlinewidth\":0,\"ticks\":\"\"}}}],\"scatterternary\":[{\"type\":\"scatterternary\",\"marker\":{\"colorbar\":{\"outlinewidth\":0,\"ticks\":\"\"}}}],\"scattercarpet\":[{\"type\":\"scattercarpet\",\"marker\":{\"colorbar\":{\"outlinewidth\":0,\"ticks\":\"\"}}}],\"carpet\":[{\"aaxis\":{\"endlinecolor\":\"#2a3f5f\",\"gridcolor\":\"white\",\"linecolor\":\"white\",\"minorgridcolor\":\"white\",\"startlinecolor\":\"#2a3f5f\"},\"baxis\":{\"endlinecolor\":\"#2a3f5f\",\"gridcolor\":\"white\",\"linecolor\":\"white\",\"minorgridcolor\":\"white\",\"startlinecolor\":\"#2a3f5f\"},\"type\":\"carpet\"}],\"table\":[{\"cells\":{\"fill\":{\"color\":\"#EBF0F8\"},\"line\":{\"color\":\"white\"}},\"header\":{\"fill\":{\"color\":\"#C8D4E3\"},\"line\":{\"color\":\"white\"}},\"type\":\"table\"}],\"barpolar\":[{\"marker\":{\"line\":{\"color\":\"#E5ECF6\",\"width\":0.5},\"pattern\":{\"fillmode\":\"overlay\",\"size\":10,\"solidity\":0.2}},\"type\":\"barpolar\"}],\"pie\":[{\"automargin\":true,\"type\":\"pie\"}]},\"layout\":{\"autotypenumbers\":\"strict\",\"colorway\":[\"#636efa\",\"#EF553B\",\"#00cc96\",\"#ab63fa\",\"#FFA15A\",\"#19d3f3\",\"#FF6692\",\"#B6E880\",\"#FF97FF\",\"#FECB52\"],\"font\":{\"color\":\"#2a3f5f\"},\"hovermode\":\"closest\",\"hoverlabel\":{\"align\":\"left\"},\"paper_bgcolor\":\"white\",\"plot_bgcolor\":\"#E5ECF6\",\"polar\":{\"bgcolor\":\"#E5ECF6\",\"angularaxis\":{\"gridcolor\":\"white\",\"linecolor\":\"white\",\"ticks\":\"\"},\"radialaxis\":{\"gridcolor\":\"white\",\"linecolor\":\"white\",\"ticks\":\"\"}},\"ternary\":{\"bgcolor\":\"#E5ECF6\",\"aaxis\":{\"gridcolor\":\"white\",\"linecolor\":\"white\",\"ticks\":\"\"},\"baxis\":{\"gridcolor\":\"white\",\"linecolor\":\"white\",\"ticks\":\"\"},\"caxis\":{\"gridcolor\":\"white\",\"linecolor\":\"white\",\"ticks\":\"\"}},\"coloraxis\":{\"colorbar\":{\"outlinewidth\":0,\"ticks\":\"\"}},\"colorscale\":{\"sequential\":[[0.0,\"#0d0887\"],[0.1111111111111111,\"#46039f\"],[0.2222222222222222,\"#7201a8\"],[0.3333333333333333,\"#9c179e\"],[0.4444444444444444,\"#bd3786\"],[0.5555555555555556,\"#d8576b\"],[0.6666666666666666,\"#ed7953\"],[0.7777777777777778,\"#fb9f3a\"],[0.8888888888888888,\"#fdca26\"],[1.0,\"#f0f921\"]],\"sequentialminus\":[[0.0,\"#0d0887\"],[0.1111111111111111,\"#46039f\"],[0.2222222222222222,\"#7201a8\"],[0.3333333333333333,\"#9c179e\"],[0.4444444444444444,\"#bd3786\"],[0.5555555555555556,\"#d8576b\"],[0.6666666666666666,\"#ed7953\"],[0.7777777777777778,\"#fb9f3a\"],[0.8888888888888888,\"#fdca26\"],[1.0,\"#f0f921\"]],\"diverging\":[[0,\"#8e0152\"],[0.1,\"#c51b7d\"],[0.2,\"#de77ae\"],[0.3,\"#f1b6da\"],[0.4,\"#fde0ef\"],[0.5,\"#f7f7f7\"],[0.6,\"#e6f5d0\"],[0.7,\"#b8e186\"],[0.8,\"#7fbc41\"],[0.9,\"#4d9221\"],[1,\"#276419\"]]},\"xaxis\":{\"gridcolor\":\"white\",\"linecolor\":\"white\",\"ticks\":\"\",\"title\":{\"standoff\":15},\"zerolinecolor\":\"white\",\"automargin\":true,\"zerolinewidth\":2},\"yaxis\":{\"gridcolor\":\"white\",\"linecolor\":\"white\",\"ticks\":\"\",\"title\":{\"standoff\":15},\"zerolinecolor\":\"white\",\"automargin\":true,\"zerolinewidth\":2},\"scene\":{\"xaxis\":{\"backgroundcolor\":\"#E5ECF6\",\"gridcolor\":\"white\",\"linecolor\":\"white\",\"showbackground\":true,\"ticks\":\"\",\"zerolinecolor\":\"white\",\"gridwidth\":2},\"yaxis\":{\"backgroundcolor\":\"#E5ECF6\",\"gridcolor\":\"white\",\"linecolor\":\"white\",\"showbackground\":true,\"ticks\":\"\",\"zerolinecolor\":\"white\",\"gridwidth\":2},\"zaxis\":{\"backgroundcolor\":\"#E5ECF6\",\"gridcolor\":\"white\",\"linecolor\":\"white\",\"showbackground\":true,\"ticks\":\"\",\"zerolinecolor\":\"white\",\"gridwidth\":2}},\"shapedefaults\":{\"line\":{\"color\":\"#2a3f5f\"}},\"annotationdefaults\":{\"arrowcolor\":\"#2a3f5f\",\"arrowhead\":0,\"arrowwidth\":1},\"geo\":{\"bgcolor\":\"white\",\"landcolor\":\"#E5ECF6\",\"subunitcolor\":\"white\",\"showland\":true,\"showlakes\":true,\"lakecolor\":\"white\"},\"title\":{\"x\":0.05},\"mapbox\":{\"style\":\"light\"}}},\"xaxis\":{\"anchor\":\"y\",\"domain\":[0.0,1.0],\"title\":{\"text\":\"Frecuencia\"}},\"yaxis\":{\"anchor\":\"x\",\"domain\":[0.0,1.0],\"title\":{\"text\":\"Palabra\"}},\"legend\":{\"tracegroupgap\":0},\"margin\":{\"t\":60},\"barmode\":\"relative\",\"title\":{\"text\":\"Palabras frecuentes en noticias de Cicadebo (Feb-May 2023)\"}},                        {\"responsive\": true}                    ).then(function(){\n",
              "                            \n",
              "var gd = document.getElementById('5ceeb17e-a98b-4016-9a3a-f807ca781611');\n",
              "var x = new MutationObserver(function (mutations, observer) {{\n",
              "        var display = window.getComputedStyle(gd).display;\n",
              "        if (!display || display === 'none') {{\n",
              "            console.log([gd, 'removed!']);\n",
              "            Plotly.purge(gd);\n",
              "            observer.disconnect();\n",
              "        }}\n",
              "}});\n",
              "\n",
              "// Listen for the removal of the full notebook cells\n",
              "var notebookContainer = gd.closest('#notebook-container');\n",
              "if (notebookContainer) {{\n",
              "    x.observe(notebookContainer, {childList: true});\n",
              "}}\n",
              "\n",
              "// Listen for the clearing of the current output cell\n",
              "var outputEl = gd.closest('.output');\n",
              "if (outputEl) {{\n",
              "    x.observe(outputEl, {childList: true});\n",
              "}}\n",
              "\n",
              "                        })                };                            </script>        </div>\n",
              "</body>\n",
              "</html>"
            ]
          },
          "metadata": {}
        }
      ]
    },
    {
      "cell_type": "code",
      "source": [
        "import pandas as pd\n",
        "import plotly.express as px\n",
        "from sklearn.feature_extraction.text import CountVectorizer\n",
        "\n",
        "resultado_2023 = resultado[\n",
        "    (resultado['Fecha Publicacion'] >= '2023-02-01') &\n",
        "    (resultado['Fecha Publicacion'] <= '2023-05-31')\n",
        "]\n",
        "\n",
        "textos = resultado_2023['Contenido'].astype(str).tolist()\n",
        "stop_words_spanish = ['de', 'la', 'el', 'y', 'en', 'un', 'una', 'para', 'por', 'con', 'del', 'los', 'las', 'al', 'o', 'su', 'a', 'como', 'más', 'pero', 'es', 'son', 'fue', 'han', 'han', 'ante', 'bajo', 'desde', 'durante', 'hasta', 'según', 'tras', 'sobre', 'aunque']\n",
        "\n",
        "vectorizer = CountVectorizer(\n",
        "    lowercase=True,\n",
        "    max_features=1000,\n",
        "    stop_words=stop_words_spanish,\n",
        "    ngram_range=(1, 2)\n",
        ")\n",
        "\n",
        "X = vectorizer.fit_transform(textos)\n",
        "\n",
        "palabras = vectorizer.get_feature_names_out()\n",
        "\n",
        "frecuencias = X.sum(axis=0).A1\n",
        "\n",
        "df_palabras_frecuentes = pd.DataFrame({'Palabra': palabras, 'Frecuencia': frecuencias})\n",
        "df_palabras_frecuentes = df_palabras_frecuentes[df_palabras_frecuentes['Frecuencia'] > 10]\n",
        "df_palabras_frecuentes = df_palabras_frecuentes.sort_values(by='Frecuencia', ascending=False)\n",
        "\n",
        "N = 10\n",
        "palabras_top_N = df_palabras_frecuentes.head(N)\n",
        "fig = px.bar(palabras_top_N, x='Frecuencia', y='Palabra', orientation='h', labels={'Palabra': 'Palabra', 'Frecuencia': 'Frecuencia'})\n",
        "fig.update_layout(title='Palabras frecuentes en noticias de todas las empresas (Feb-May 2023)')\n",
        "fig.show()\n"
      ],
      "metadata": {
        "colab": {
          "base_uri": "https://localhost:8080/",
          "height": 542
        },
        "id": "lXjF4lbFdntg",
        "outputId": "0f4be1b6-1333-47c1-8398-c21e9668c917"
      },
      "execution_count": null,
      "outputs": [
        {
          "output_type": "display_data",
          "data": {
            "text/html": [
              "<html>\n",
              "<head><meta charset=\"utf-8\" /></head>\n",
              "<body>\n",
              "    <div>            <script src=\"https://cdnjs.cloudflare.com/ajax/libs/mathjax/2.7.5/MathJax.js?config=TeX-AMS-MML_SVG\"></script><script type=\"text/javascript\">if (window.MathJax && window.MathJax.Hub && window.MathJax.Hub.Config) {window.MathJax.Hub.Config({SVG: {font: \"STIX-Web\"}});}</script>                <script type=\"text/javascript\">window.PlotlyConfig = {MathJaxConfig: 'local'};</script>\n",
              "        <script charset=\"utf-8\" src=\"https://cdn.plot.ly/plotly-2.24.1.min.js\"></script>                <div id=\"0ffb17a6-7c20-46eb-b319-0cd957bd47b8\" class=\"plotly-graph-div\" style=\"height:525px; width:100%;\"></div>            <script type=\"text/javascript\">                                    window.PLOTLYENV=window.PLOTLYENV || {};                                    if (document.getElementById(\"0ffb17a6-7c20-46eb-b319-0cd957bd47b8\")) {                    Plotly.newPlot(                        \"0ffb17a6-7c20-46eb-b319-0cd957bd47b8\",                        [{\"alignmentgroup\":\"True\",\"hovertemplate\":\"Frecuencia=%{x}\\u003cbr\\u003ePalabra=%{y}\\u003cextra\\u003e\\u003c\\u002fextra\\u003e\",\"legendgroup\":\"\",\"marker\":{\"color\":\"#636efa\",\"pattern\":{\"shape\":\"\"}},\"name\":\"\",\"offsetgroup\":\"\",\"orientation\":\"h\",\"showlegend\":false,\"textposition\":\"auto\",\"x\":[39627,15427,8142,5743,4300,3914,3570,3273,3069,2926],\"xaxis\":\"x\",\"y\":[\"que\",\"se\",\"no\",\"lo\",\"este\",\"sus\",\"que se\",\"le\",\"tambi\\u00e9n\",\"ha\"],\"yaxis\":\"y\",\"type\":\"bar\"}],                        {\"template\":{\"data\":{\"histogram2dcontour\":[{\"type\":\"histogram2dcontour\",\"colorbar\":{\"outlinewidth\":0,\"ticks\":\"\"},\"colorscale\":[[0.0,\"#0d0887\"],[0.1111111111111111,\"#46039f\"],[0.2222222222222222,\"#7201a8\"],[0.3333333333333333,\"#9c179e\"],[0.4444444444444444,\"#bd3786\"],[0.5555555555555556,\"#d8576b\"],[0.6666666666666666,\"#ed7953\"],[0.7777777777777778,\"#fb9f3a\"],[0.8888888888888888,\"#fdca26\"],[1.0,\"#f0f921\"]]}],\"choropleth\":[{\"type\":\"choropleth\",\"colorbar\":{\"outlinewidth\":0,\"ticks\":\"\"}}],\"histogram2d\":[{\"type\":\"histogram2d\",\"colorbar\":{\"outlinewidth\":0,\"ticks\":\"\"},\"colorscale\":[[0.0,\"#0d0887\"],[0.1111111111111111,\"#46039f\"],[0.2222222222222222,\"#7201a8\"],[0.3333333333333333,\"#9c179e\"],[0.4444444444444444,\"#bd3786\"],[0.5555555555555556,\"#d8576b\"],[0.6666666666666666,\"#ed7953\"],[0.7777777777777778,\"#fb9f3a\"],[0.8888888888888888,\"#fdca26\"],[1.0,\"#f0f921\"]]}],\"heatmap\":[{\"type\":\"heatmap\",\"colorbar\":{\"outlinewidth\":0,\"ticks\":\"\"},\"colorscale\":[[0.0,\"#0d0887\"],[0.1111111111111111,\"#46039f\"],[0.2222222222222222,\"#7201a8\"],[0.3333333333333333,\"#9c179e\"],[0.4444444444444444,\"#bd3786\"],[0.5555555555555556,\"#d8576b\"],[0.6666666666666666,\"#ed7953\"],[0.7777777777777778,\"#fb9f3a\"],[0.8888888888888888,\"#fdca26\"],[1.0,\"#f0f921\"]]}],\"heatmapgl\":[{\"type\":\"heatmapgl\",\"colorbar\":{\"outlinewidth\":0,\"ticks\":\"\"},\"colorscale\":[[0.0,\"#0d0887\"],[0.1111111111111111,\"#46039f\"],[0.2222222222222222,\"#7201a8\"],[0.3333333333333333,\"#9c179e\"],[0.4444444444444444,\"#bd3786\"],[0.5555555555555556,\"#d8576b\"],[0.6666666666666666,\"#ed7953\"],[0.7777777777777778,\"#fb9f3a\"],[0.8888888888888888,\"#fdca26\"],[1.0,\"#f0f921\"]]}],\"contourcarpet\":[{\"type\":\"contourcarpet\",\"colorbar\":{\"outlinewidth\":0,\"ticks\":\"\"}}],\"contour\":[{\"type\":\"contour\",\"colorbar\":{\"outlinewidth\":0,\"ticks\":\"\"},\"colorscale\":[[0.0,\"#0d0887\"],[0.1111111111111111,\"#46039f\"],[0.2222222222222222,\"#7201a8\"],[0.3333333333333333,\"#9c179e\"],[0.4444444444444444,\"#bd3786\"],[0.5555555555555556,\"#d8576b\"],[0.6666666666666666,\"#ed7953\"],[0.7777777777777778,\"#fb9f3a\"],[0.8888888888888888,\"#fdca26\"],[1.0,\"#f0f921\"]]}],\"surface\":[{\"type\":\"surface\",\"colorbar\":{\"outlinewidth\":0,\"ticks\":\"\"},\"colorscale\":[[0.0,\"#0d0887\"],[0.1111111111111111,\"#46039f\"],[0.2222222222222222,\"#7201a8\"],[0.3333333333333333,\"#9c179e\"],[0.4444444444444444,\"#bd3786\"],[0.5555555555555556,\"#d8576b\"],[0.6666666666666666,\"#ed7953\"],[0.7777777777777778,\"#fb9f3a\"],[0.8888888888888888,\"#fdca26\"],[1.0,\"#f0f921\"]]}],\"mesh3d\":[{\"type\":\"mesh3d\",\"colorbar\":{\"outlinewidth\":0,\"ticks\":\"\"}}],\"scatter\":[{\"fillpattern\":{\"fillmode\":\"overlay\",\"size\":10,\"solidity\":0.2},\"type\":\"scatter\"}],\"parcoords\":[{\"type\":\"parcoords\",\"line\":{\"colorbar\":{\"outlinewidth\":0,\"ticks\":\"\"}}}],\"scatterpolargl\":[{\"type\":\"scatterpolargl\",\"marker\":{\"colorbar\":{\"outlinewidth\":0,\"ticks\":\"\"}}}],\"bar\":[{\"error_x\":{\"color\":\"#2a3f5f\"},\"error_y\":{\"color\":\"#2a3f5f\"},\"marker\":{\"line\":{\"color\":\"#E5ECF6\",\"width\":0.5},\"pattern\":{\"fillmode\":\"overlay\",\"size\":10,\"solidity\":0.2}},\"type\":\"bar\"}],\"scattergeo\":[{\"type\":\"scattergeo\",\"marker\":{\"colorbar\":{\"outlinewidth\":0,\"ticks\":\"\"}}}],\"scatterpolar\":[{\"type\":\"scatterpolar\",\"marker\":{\"colorbar\":{\"outlinewidth\":0,\"ticks\":\"\"}}}],\"histogram\":[{\"marker\":{\"pattern\":{\"fillmode\":\"overlay\",\"size\":10,\"solidity\":0.2}},\"type\":\"histogram\"}],\"scattergl\":[{\"type\":\"scattergl\",\"marker\":{\"colorbar\":{\"outlinewidth\":0,\"ticks\":\"\"}}}],\"scatter3d\":[{\"type\":\"scatter3d\",\"line\":{\"colorbar\":{\"outlinewidth\":0,\"ticks\":\"\"}},\"marker\":{\"colorbar\":{\"outlinewidth\":0,\"ticks\":\"\"}}}],\"scattermapbox\":[{\"type\":\"scattermapbox\",\"marker\":{\"colorbar\":{\"outlinewidth\":0,\"ticks\":\"\"}}}],\"scatterternary\":[{\"type\":\"scatterternary\",\"marker\":{\"colorbar\":{\"outlinewidth\":0,\"ticks\":\"\"}}}],\"scattercarpet\":[{\"type\":\"scattercarpet\",\"marker\":{\"colorbar\":{\"outlinewidth\":0,\"ticks\":\"\"}}}],\"carpet\":[{\"aaxis\":{\"endlinecolor\":\"#2a3f5f\",\"gridcolor\":\"white\",\"linecolor\":\"white\",\"minorgridcolor\":\"white\",\"startlinecolor\":\"#2a3f5f\"},\"baxis\":{\"endlinecolor\":\"#2a3f5f\",\"gridcolor\":\"white\",\"linecolor\":\"white\",\"minorgridcolor\":\"white\",\"startlinecolor\":\"#2a3f5f\"},\"type\":\"carpet\"}],\"table\":[{\"cells\":{\"fill\":{\"color\":\"#EBF0F8\"},\"line\":{\"color\":\"white\"}},\"header\":{\"fill\":{\"color\":\"#C8D4E3\"},\"line\":{\"color\":\"white\"}},\"type\":\"table\"}],\"barpolar\":[{\"marker\":{\"line\":{\"color\":\"#E5ECF6\",\"width\":0.5},\"pattern\":{\"fillmode\":\"overlay\",\"size\":10,\"solidity\":0.2}},\"type\":\"barpolar\"}],\"pie\":[{\"automargin\":true,\"type\":\"pie\"}]},\"layout\":{\"autotypenumbers\":\"strict\",\"colorway\":[\"#636efa\",\"#EF553B\",\"#00cc96\",\"#ab63fa\",\"#FFA15A\",\"#19d3f3\",\"#FF6692\",\"#B6E880\",\"#FF97FF\",\"#FECB52\"],\"font\":{\"color\":\"#2a3f5f\"},\"hovermode\":\"closest\",\"hoverlabel\":{\"align\":\"left\"},\"paper_bgcolor\":\"white\",\"plot_bgcolor\":\"#E5ECF6\",\"polar\":{\"bgcolor\":\"#E5ECF6\",\"angularaxis\":{\"gridcolor\":\"white\",\"linecolor\":\"white\",\"ticks\":\"\"},\"radialaxis\":{\"gridcolor\":\"white\",\"linecolor\":\"white\",\"ticks\":\"\"}},\"ternary\":{\"bgcolor\":\"#E5ECF6\",\"aaxis\":{\"gridcolor\":\"white\",\"linecolor\":\"white\",\"ticks\":\"\"},\"baxis\":{\"gridcolor\":\"white\",\"linecolor\":\"white\",\"ticks\":\"\"},\"caxis\":{\"gridcolor\":\"white\",\"linecolor\":\"white\",\"ticks\":\"\"}},\"coloraxis\":{\"colorbar\":{\"outlinewidth\":0,\"ticks\":\"\"}},\"colorscale\":{\"sequential\":[[0.0,\"#0d0887\"],[0.1111111111111111,\"#46039f\"],[0.2222222222222222,\"#7201a8\"],[0.3333333333333333,\"#9c179e\"],[0.4444444444444444,\"#bd3786\"],[0.5555555555555556,\"#d8576b\"],[0.6666666666666666,\"#ed7953\"],[0.7777777777777778,\"#fb9f3a\"],[0.8888888888888888,\"#fdca26\"],[1.0,\"#f0f921\"]],\"sequentialminus\":[[0.0,\"#0d0887\"],[0.1111111111111111,\"#46039f\"],[0.2222222222222222,\"#7201a8\"],[0.3333333333333333,\"#9c179e\"],[0.4444444444444444,\"#bd3786\"],[0.5555555555555556,\"#d8576b\"],[0.6666666666666666,\"#ed7953\"],[0.7777777777777778,\"#fb9f3a\"],[0.8888888888888888,\"#fdca26\"],[1.0,\"#f0f921\"]],\"diverging\":[[0,\"#8e0152\"],[0.1,\"#c51b7d\"],[0.2,\"#de77ae\"],[0.3,\"#f1b6da\"],[0.4,\"#fde0ef\"],[0.5,\"#f7f7f7\"],[0.6,\"#e6f5d0\"],[0.7,\"#b8e186\"],[0.8,\"#7fbc41\"],[0.9,\"#4d9221\"],[1,\"#276419\"]]},\"xaxis\":{\"gridcolor\":\"white\",\"linecolor\":\"white\",\"ticks\":\"\",\"title\":{\"standoff\":15},\"zerolinecolor\":\"white\",\"automargin\":true,\"zerolinewidth\":2},\"yaxis\":{\"gridcolor\":\"white\",\"linecolor\":\"white\",\"ticks\":\"\",\"title\":{\"standoff\":15},\"zerolinecolor\":\"white\",\"automargin\":true,\"zerolinewidth\":2},\"scene\":{\"xaxis\":{\"backgroundcolor\":\"#E5ECF6\",\"gridcolor\":\"white\",\"linecolor\":\"white\",\"showbackground\":true,\"ticks\":\"\",\"zerolinecolor\":\"white\",\"gridwidth\":2},\"yaxis\":{\"backgroundcolor\":\"#E5ECF6\",\"gridcolor\":\"white\",\"linecolor\":\"white\",\"showbackground\":true,\"ticks\":\"\",\"zerolinecolor\":\"white\",\"gridwidth\":2},\"zaxis\":{\"backgroundcolor\":\"#E5ECF6\",\"gridcolor\":\"white\",\"linecolor\":\"white\",\"showbackground\":true,\"ticks\":\"\",\"zerolinecolor\":\"white\",\"gridwidth\":2}},\"shapedefaults\":{\"line\":{\"color\":\"#2a3f5f\"}},\"annotationdefaults\":{\"arrowcolor\":\"#2a3f5f\",\"arrowhead\":0,\"arrowwidth\":1},\"geo\":{\"bgcolor\":\"white\",\"landcolor\":\"#E5ECF6\",\"subunitcolor\":\"white\",\"showland\":true,\"showlakes\":true,\"lakecolor\":\"white\"},\"title\":{\"x\":0.05},\"mapbox\":{\"style\":\"light\"}}},\"xaxis\":{\"anchor\":\"y\",\"domain\":[0.0,1.0],\"title\":{\"text\":\"Frecuencia\"}},\"yaxis\":{\"anchor\":\"x\",\"domain\":[0.0,1.0],\"title\":{\"text\":\"Palabra\"}},\"legend\":{\"tracegroupgap\":0},\"margin\":{\"t\":60},\"barmode\":\"relative\",\"title\":{\"text\":\"Palabras frecuentes en noticias de todas las empresas (Feb-May 2023)\"}},                        {\"responsive\": true}                    ).then(function(){\n",
              "                            \n",
              "var gd = document.getElementById('0ffb17a6-7c20-46eb-b319-0cd957bd47b8');\n",
              "var x = new MutationObserver(function (mutations, observer) {{\n",
              "        var display = window.getComputedStyle(gd).display;\n",
              "        if (!display || display === 'none') {{\n",
              "            console.log([gd, 'removed!']);\n",
              "            Plotly.purge(gd);\n",
              "            observer.disconnect();\n",
              "        }}\n",
              "}});\n",
              "\n",
              "// Listen for the removal of the full notebook cells\n",
              "var notebookContainer = gd.closest('#notebook-container');\n",
              "if (notebookContainer) {{\n",
              "    x.observe(notebookContainer, {childList: true});\n",
              "}}\n",
              "\n",
              "// Listen for the clearing of the current output cell\n",
              "var outputEl = gd.closest('.output');\n",
              "if (outputEl) {{\n",
              "    x.observe(outputEl, {childList: true});\n",
              "}}\n",
              "\n",
              "                        })                };                            </script>        </div>\n",
              "</body>\n",
              "</html>"
            ]
          },
          "metadata": {}
        }
      ]
    },
    {
      "cell_type": "markdown",
      "source": [
        "## Distribución de noticias por periódico:"
      ],
      "metadata": {
        "id": "OCwtjBnDzf-V"
      }
    },
    {
      "cell_type": "code",
      "source": [
        "import plotly.express as px\n",
        "\n",
        "noticias_por_periodico = resultado['Fuente'].value_counts().reset_index()\n",
        "noticias_por_periodico.columns = ['Periódico', 'Número de Noticias']\n",
        "\n",
        "fig = px.bar(noticias_por_periodico, x='Periódico', y='Número de Noticias',\n",
        "             title='Distribución de Noticias por Periódico',\n",
        "             labels={'Periódico': 'Periódico', 'Número de Noticias': 'Número de Noticias'},\n",
        "             color_discrete_sequence=['salmon'])\n",
        "fig.show()"
      ],
      "metadata": {
        "id": "kbfBKyz_pLTK",
        "colab": {
          "base_uri": "https://localhost:8080/",
          "height": 542
        },
        "outputId": "9b626d64-6847-44e5-8c4b-afb77cae40c2"
      },
      "execution_count": null,
      "outputs": [
        {
          "output_type": "display_data",
          "data": {
            "text/html": [
              "<html>\n",
              "<head><meta charset=\"utf-8\" /></head>\n",
              "<body>\n",
              "    <div>            <script src=\"https://cdnjs.cloudflare.com/ajax/libs/mathjax/2.7.5/MathJax.js?config=TeX-AMS-MML_SVG\"></script><script type=\"text/javascript\">if (window.MathJax && window.MathJax.Hub && window.MathJax.Hub.Config) {window.MathJax.Hub.Config({SVG: {font: \"STIX-Web\"}});}</script>                <script type=\"text/javascript\">window.PlotlyConfig = {MathJaxConfig: 'local'};</script>\n",
              "        <script charset=\"utf-8\" src=\"https://cdn.plot.ly/plotly-2.24.1.min.js\"></script>                <div id=\"2551b61e-9933-4bab-9dd9-4b73b3f46ed2\" class=\"plotly-graph-div\" style=\"height:525px; width:100%;\"></div>            <script type=\"text/javascript\">                                    window.PLOTLYENV=window.PLOTLYENV || {};                                    if (document.getElementById(\"2551b61e-9933-4bab-9dd9-4b73b3f46ed2\")) {                    Plotly.newPlot(                        \"2551b61e-9933-4bab-9dd9-4b73b3f46ed2\",                        [{\"alignmentgroup\":\"True\",\"hovertemplate\":\"Peri\\u00f3dico=%{x}\\u003cbr\\u003eN\\u00famero de Noticias=%{y}\\u003cextra\\u003e\\u003c\\u002fextra\\u003e\",\"legendgroup\":\"\",\"marker\":{\"color\":\"salmon\",\"pattern\":{\"shape\":\"\"}},\"name\":\"\",\"offsetgroup\":\"\",\"orientation\":\"v\",\"showlegend\":false,\"textposition\":\"auto\",\"x\":[\"P\\u00e1dinoqui\",\"Noarema\",\"Petefus\",\"R\\u00edvenmosa\",\"Acarcesa\",\"Pensetar\",\"Rodao\"],\"xaxis\":\"x\",\"y\":[1919,840,496,215,101,43,1],\"yaxis\":\"y\",\"type\":\"bar\"}],                        {\"template\":{\"data\":{\"histogram2dcontour\":[{\"type\":\"histogram2dcontour\",\"colorbar\":{\"outlinewidth\":0,\"ticks\":\"\"},\"colorscale\":[[0.0,\"#0d0887\"],[0.1111111111111111,\"#46039f\"],[0.2222222222222222,\"#7201a8\"],[0.3333333333333333,\"#9c179e\"],[0.4444444444444444,\"#bd3786\"],[0.5555555555555556,\"#d8576b\"],[0.6666666666666666,\"#ed7953\"],[0.7777777777777778,\"#fb9f3a\"],[0.8888888888888888,\"#fdca26\"],[1.0,\"#f0f921\"]]}],\"choropleth\":[{\"type\":\"choropleth\",\"colorbar\":{\"outlinewidth\":0,\"ticks\":\"\"}}],\"histogram2d\":[{\"type\":\"histogram2d\",\"colorbar\":{\"outlinewidth\":0,\"ticks\":\"\"},\"colorscale\":[[0.0,\"#0d0887\"],[0.1111111111111111,\"#46039f\"],[0.2222222222222222,\"#7201a8\"],[0.3333333333333333,\"#9c179e\"],[0.4444444444444444,\"#bd3786\"],[0.5555555555555556,\"#d8576b\"],[0.6666666666666666,\"#ed7953\"],[0.7777777777777778,\"#fb9f3a\"],[0.8888888888888888,\"#fdca26\"],[1.0,\"#f0f921\"]]}],\"heatmap\":[{\"type\":\"heatmap\",\"colorbar\":{\"outlinewidth\":0,\"ticks\":\"\"},\"colorscale\":[[0.0,\"#0d0887\"],[0.1111111111111111,\"#46039f\"],[0.2222222222222222,\"#7201a8\"],[0.3333333333333333,\"#9c179e\"],[0.4444444444444444,\"#bd3786\"],[0.5555555555555556,\"#d8576b\"],[0.6666666666666666,\"#ed7953\"],[0.7777777777777778,\"#fb9f3a\"],[0.8888888888888888,\"#fdca26\"],[1.0,\"#f0f921\"]]}],\"heatmapgl\":[{\"type\":\"heatmapgl\",\"colorbar\":{\"outlinewidth\":0,\"ticks\":\"\"},\"colorscale\":[[0.0,\"#0d0887\"],[0.1111111111111111,\"#46039f\"],[0.2222222222222222,\"#7201a8\"],[0.3333333333333333,\"#9c179e\"],[0.4444444444444444,\"#bd3786\"],[0.5555555555555556,\"#d8576b\"],[0.6666666666666666,\"#ed7953\"],[0.7777777777777778,\"#fb9f3a\"],[0.8888888888888888,\"#fdca26\"],[1.0,\"#f0f921\"]]}],\"contourcarpet\":[{\"type\":\"contourcarpet\",\"colorbar\":{\"outlinewidth\":0,\"ticks\":\"\"}}],\"contour\":[{\"type\":\"contour\",\"colorbar\":{\"outlinewidth\":0,\"ticks\":\"\"},\"colorscale\":[[0.0,\"#0d0887\"],[0.1111111111111111,\"#46039f\"],[0.2222222222222222,\"#7201a8\"],[0.3333333333333333,\"#9c179e\"],[0.4444444444444444,\"#bd3786\"],[0.5555555555555556,\"#d8576b\"],[0.6666666666666666,\"#ed7953\"],[0.7777777777777778,\"#fb9f3a\"],[0.8888888888888888,\"#fdca26\"],[1.0,\"#f0f921\"]]}],\"surface\":[{\"type\":\"surface\",\"colorbar\":{\"outlinewidth\":0,\"ticks\":\"\"},\"colorscale\":[[0.0,\"#0d0887\"],[0.1111111111111111,\"#46039f\"],[0.2222222222222222,\"#7201a8\"],[0.3333333333333333,\"#9c179e\"],[0.4444444444444444,\"#bd3786\"],[0.5555555555555556,\"#d8576b\"],[0.6666666666666666,\"#ed7953\"],[0.7777777777777778,\"#fb9f3a\"],[0.8888888888888888,\"#fdca26\"],[1.0,\"#f0f921\"]]}],\"mesh3d\":[{\"type\":\"mesh3d\",\"colorbar\":{\"outlinewidth\":0,\"ticks\":\"\"}}],\"scatter\":[{\"fillpattern\":{\"fillmode\":\"overlay\",\"size\":10,\"solidity\":0.2},\"type\":\"scatter\"}],\"parcoords\":[{\"type\":\"parcoords\",\"line\":{\"colorbar\":{\"outlinewidth\":0,\"ticks\":\"\"}}}],\"scatterpolargl\":[{\"type\":\"scatterpolargl\",\"marker\":{\"colorbar\":{\"outlinewidth\":0,\"ticks\":\"\"}}}],\"bar\":[{\"error_x\":{\"color\":\"#2a3f5f\"},\"error_y\":{\"color\":\"#2a3f5f\"},\"marker\":{\"line\":{\"color\":\"#E5ECF6\",\"width\":0.5},\"pattern\":{\"fillmode\":\"overlay\",\"size\":10,\"solidity\":0.2}},\"type\":\"bar\"}],\"scattergeo\":[{\"type\":\"scattergeo\",\"marker\":{\"colorbar\":{\"outlinewidth\":0,\"ticks\":\"\"}}}],\"scatterpolar\":[{\"type\":\"scatterpolar\",\"marker\":{\"colorbar\":{\"outlinewidth\":0,\"ticks\":\"\"}}}],\"histogram\":[{\"marker\":{\"pattern\":{\"fillmode\":\"overlay\",\"size\":10,\"solidity\":0.2}},\"type\":\"histogram\"}],\"scattergl\":[{\"type\":\"scattergl\",\"marker\":{\"colorbar\":{\"outlinewidth\":0,\"ticks\":\"\"}}}],\"scatter3d\":[{\"type\":\"scatter3d\",\"line\":{\"colorbar\":{\"outlinewidth\":0,\"ticks\":\"\"}},\"marker\":{\"colorbar\":{\"outlinewidth\":0,\"ticks\":\"\"}}}],\"scattermapbox\":[{\"type\":\"scattermapbox\",\"marker\":{\"colorbar\":{\"outlinewidth\":0,\"ticks\":\"\"}}}],\"scatterternary\":[{\"type\":\"scatterternary\",\"marker\":{\"colorbar\":{\"outlinewidth\":0,\"ticks\":\"\"}}}],\"scattercarpet\":[{\"type\":\"scattercarpet\",\"marker\":{\"colorbar\":{\"outlinewidth\":0,\"ticks\":\"\"}}}],\"carpet\":[{\"aaxis\":{\"endlinecolor\":\"#2a3f5f\",\"gridcolor\":\"white\",\"linecolor\":\"white\",\"minorgridcolor\":\"white\",\"startlinecolor\":\"#2a3f5f\"},\"baxis\":{\"endlinecolor\":\"#2a3f5f\",\"gridcolor\":\"white\",\"linecolor\":\"white\",\"minorgridcolor\":\"white\",\"startlinecolor\":\"#2a3f5f\"},\"type\":\"carpet\"}],\"table\":[{\"cells\":{\"fill\":{\"color\":\"#EBF0F8\"},\"line\":{\"color\":\"white\"}},\"header\":{\"fill\":{\"color\":\"#C8D4E3\"},\"line\":{\"color\":\"white\"}},\"type\":\"table\"}],\"barpolar\":[{\"marker\":{\"line\":{\"color\":\"#E5ECF6\",\"width\":0.5},\"pattern\":{\"fillmode\":\"overlay\",\"size\":10,\"solidity\":0.2}},\"type\":\"barpolar\"}],\"pie\":[{\"automargin\":true,\"type\":\"pie\"}]},\"layout\":{\"autotypenumbers\":\"strict\",\"colorway\":[\"#636efa\",\"#EF553B\",\"#00cc96\",\"#ab63fa\",\"#FFA15A\",\"#19d3f3\",\"#FF6692\",\"#B6E880\",\"#FF97FF\",\"#FECB52\"],\"font\":{\"color\":\"#2a3f5f\"},\"hovermode\":\"closest\",\"hoverlabel\":{\"align\":\"left\"},\"paper_bgcolor\":\"white\",\"plot_bgcolor\":\"#E5ECF6\",\"polar\":{\"bgcolor\":\"#E5ECF6\",\"angularaxis\":{\"gridcolor\":\"white\",\"linecolor\":\"white\",\"ticks\":\"\"},\"radialaxis\":{\"gridcolor\":\"white\",\"linecolor\":\"white\",\"ticks\":\"\"}},\"ternary\":{\"bgcolor\":\"#E5ECF6\",\"aaxis\":{\"gridcolor\":\"white\",\"linecolor\":\"white\",\"ticks\":\"\"},\"baxis\":{\"gridcolor\":\"white\",\"linecolor\":\"white\",\"ticks\":\"\"},\"caxis\":{\"gridcolor\":\"white\",\"linecolor\":\"white\",\"ticks\":\"\"}},\"coloraxis\":{\"colorbar\":{\"outlinewidth\":0,\"ticks\":\"\"}},\"colorscale\":{\"sequential\":[[0.0,\"#0d0887\"],[0.1111111111111111,\"#46039f\"],[0.2222222222222222,\"#7201a8\"],[0.3333333333333333,\"#9c179e\"],[0.4444444444444444,\"#bd3786\"],[0.5555555555555556,\"#d8576b\"],[0.6666666666666666,\"#ed7953\"],[0.7777777777777778,\"#fb9f3a\"],[0.8888888888888888,\"#fdca26\"],[1.0,\"#f0f921\"]],\"sequentialminus\":[[0.0,\"#0d0887\"],[0.1111111111111111,\"#46039f\"],[0.2222222222222222,\"#7201a8\"],[0.3333333333333333,\"#9c179e\"],[0.4444444444444444,\"#bd3786\"],[0.5555555555555556,\"#d8576b\"],[0.6666666666666666,\"#ed7953\"],[0.7777777777777778,\"#fb9f3a\"],[0.8888888888888888,\"#fdca26\"],[1.0,\"#f0f921\"]],\"diverging\":[[0,\"#8e0152\"],[0.1,\"#c51b7d\"],[0.2,\"#de77ae\"],[0.3,\"#f1b6da\"],[0.4,\"#fde0ef\"],[0.5,\"#f7f7f7\"],[0.6,\"#e6f5d0\"],[0.7,\"#b8e186\"],[0.8,\"#7fbc41\"],[0.9,\"#4d9221\"],[1,\"#276419\"]]},\"xaxis\":{\"gridcolor\":\"white\",\"linecolor\":\"white\",\"ticks\":\"\",\"title\":{\"standoff\":15},\"zerolinecolor\":\"white\",\"automargin\":true,\"zerolinewidth\":2},\"yaxis\":{\"gridcolor\":\"white\",\"linecolor\":\"white\",\"ticks\":\"\",\"title\":{\"standoff\":15},\"zerolinecolor\":\"white\",\"automargin\":true,\"zerolinewidth\":2},\"scene\":{\"xaxis\":{\"backgroundcolor\":\"#E5ECF6\",\"gridcolor\":\"white\",\"linecolor\":\"white\",\"showbackground\":true,\"ticks\":\"\",\"zerolinecolor\":\"white\",\"gridwidth\":2},\"yaxis\":{\"backgroundcolor\":\"#E5ECF6\",\"gridcolor\":\"white\",\"linecolor\":\"white\",\"showbackground\":true,\"ticks\":\"\",\"zerolinecolor\":\"white\",\"gridwidth\":2},\"zaxis\":{\"backgroundcolor\":\"#E5ECF6\",\"gridcolor\":\"white\",\"linecolor\":\"white\",\"showbackground\":true,\"ticks\":\"\",\"zerolinecolor\":\"white\",\"gridwidth\":2}},\"shapedefaults\":{\"line\":{\"color\":\"#2a3f5f\"}},\"annotationdefaults\":{\"arrowcolor\":\"#2a3f5f\",\"arrowhead\":0,\"arrowwidth\":1},\"geo\":{\"bgcolor\":\"white\",\"landcolor\":\"#E5ECF6\",\"subunitcolor\":\"white\",\"showland\":true,\"showlakes\":true,\"lakecolor\":\"white\"},\"title\":{\"x\":0.05},\"mapbox\":{\"style\":\"light\"}}},\"xaxis\":{\"anchor\":\"y\",\"domain\":[0.0,1.0],\"title\":{\"text\":\"Peri\\u00f3dico\"}},\"yaxis\":{\"anchor\":\"x\",\"domain\":[0.0,1.0],\"title\":{\"text\":\"N\\u00famero de Noticias\"}},\"legend\":{\"tracegroupgap\":0},\"title\":{\"text\":\"Distribuci\\u00f3n de Noticias por Peri\\u00f3dico\"},\"barmode\":\"relative\"},                        {\"responsive\": true}                    ).then(function(){\n",
              "                            \n",
              "var gd = document.getElementById('2551b61e-9933-4bab-9dd9-4b73b3f46ed2');\n",
              "var x = new MutationObserver(function (mutations, observer) {{\n",
              "        var display = window.getComputedStyle(gd).display;\n",
              "        if (!display || display === 'none') {{\n",
              "            console.log([gd, 'removed!']);\n",
              "            Plotly.purge(gd);\n",
              "            observer.disconnect();\n",
              "        }}\n",
              "}});\n",
              "\n",
              "// Listen for the removal of the full notebook cells\n",
              "var notebookContainer = gd.closest('#notebook-container');\n",
              "if (notebookContainer) {{\n",
              "    x.observe(notebookContainer, {childList: true});\n",
              "}}\n",
              "\n",
              "// Listen for the clearing of the current output cell\n",
              "var outputEl = gd.closest('.output');\n",
              "if (outputEl) {{\n",
              "    x.observe(outputEl, {childList: true});\n",
              "}}\n",
              "\n",
              "                        })                };                            </script>        </div>\n",
              "</body>\n",
              "</html>"
            ]
          },
          "metadata": {}
        }
      ]
    },
    {
      "cell_type": "code",
      "source": [
        "import dash\n",
        "import dash_core_components as dcc\n",
        "import dash_html_components as html\n",
        "from dash.dependencies import Input, Output\n",
        "import plotly.express as px\n",
        "import pandas as pd\n",
        "\n",
        "app = dash.Dash(__name__)\n",
        "\n",
        "# Gráfica 1 - Densidad de Noticias por Empresa\n",
        "densidad_noticias = resultado['Empresa'].value_counts().reset_index()\n",
        "densidad_noticias.columns = ['Empresa', 'Número de Noticias']\n",
        "fig1 = px.bar(densidad_noticias, x='Empresa', y='Número de Noticias', title='Densidad de Noticias por Empresa')\n",
        "\n",
        "# Gráfica 2 - Empresas Más Innovadoras en Tecnología\n",
        "palabras_clave_tecnologia = ['tecnología', 'innovación', 'inteligencia artificial', 'transformación digital']\n",
        "resultado['Puntuacion_Tecnologia'] = 0\n",
        "for index, row in resultado.iterrows():\n",
        "    puntuacion_fila = 0\n",
        "    for columna in resultado.columns:\n",
        "        contenido = str(row[columna]).lower()\n",
        "        for palabra in palabras_clave_tecnologia:\n",
        "            palabra = palabra.lower()\n",
        "            puntuacion_fila += contenido.count(palabra)\n",
        "    resultado.at[index, 'Puntuacion_Tecnologia'] = puntuacion_fila\n",
        "resultado = resultado.sort_values(by='Puntuacion_Tecnologia', ascending=False)\n",
        "empresas_innovadoras = resultado['Empresa'].head(5)\n",
        "df_empresas_innovadoras = resultado[resultado['Empresa'].isin(empresas_innovadoras)][['Empresa', 'Puntuacion_Tecnologia']]\n",
        "fig_pastel = px.pie(df_empresas_innovadoras, names='Empresa', values='Puntuacion_Tecnologia', title='Las 5 Empresas Más Innovadoras en Tecnología')\n",
        "\n",
        "# Gráfica 3 - Distribución Temporal de Noticias para Cicadebo\n",
        "cicadebo_news = resultado[resultado['Empresa'] == 'Cicadebo']\n",
        "cicadebo_news['Fecha Publicacion'] = pd.to_datetime(cicadebo_news['Fecha Publicacion'])\n",
        "cicadebo_monthly_counts = cicadebo_news.resample('M', on='Fecha Publicacion').size().reset_index()\n",
        "cicadebo_monthly_counts.columns = ['Fecha', 'Cantidad de Noticias']\n",
        "fig_cicadebo_temporal = px.line(cicadebo_monthly_counts, x='Fecha', y='Cantidad de Noticias', title='Distribución Temporal de Noticias para Cicadebo')\n",
        "\n",
        "# Gráfica 4 - Palabras más frecuentes\n",
        "cicadebo_news_2023 = cicadebo_news[(cicadebo_news['Fecha Publicacion'] >= '2023-02-01') & (cicadebo_news['Fecha Publicacion'] <= '2023-05-31')]\n",
        "cicadebo_news_2023['Texto_Combinado'] = cicadebo_news_2023.apply(lambda row: ' '.join(row.dropna().astype(str)), axis=1)\n",
        "vectorizer = CountVectorizer()\n",
        "X = vectorizer.fit_transform(cicadebo_news_2023['Texto_Combinado'])\n",
        "frecuencias = X.toarray()[0]\n",
        "palabras = vectorizer.get_feature_names_out()\n",
        "df_palabras_frecuentes = pd.DataFrame({'Palabra': palabras, 'Frecuencia': frecuencias})\n",
        "df_palabras_frecuentes = df_palabras_frecuentes[df_palabras_frecuentes['Palabra'].str.len() > 5]\n",
        "df_palabras_frecuentes = df_palabras_frecuentes.sort_values(by='Frecuencia', ascending=False)\n",
        "N = 10\n",
        "palabras_top_N = df_palabras_frecuentes.head(N)\n",
        "fig_palabras = px.bar(palabras_top_N, x='Frecuencia', y='Palabra', orientation='h', title='Palabras de más de 5 letras más frecuentes en noticias de Cicadebo (Feb-May 2023)')\n",
        "\n",
        "# Gráfica 5 - Distribución de Noticias por Periódico\n",
        "noticias_por_periodico = resultado['Fuente'].value_counts().reset_index()\n",
        "noticias_por_periodico.columns = ['Periódico', 'Número de Noticias']\n",
        "fig_periodico = px.bar(noticias_por_periodico, x='Periódico', y='Número de Noticias', title='Distribución de Noticias por Periódico')\n",
        "\n",
        "app.layout = html.Div([\n",
        "    html.H1(\"Tablero de Análisis de Noticias\"),\n",
        "    dcc.Graph(figure=fig1),\n",
        "    dcc.Graph(figure=fig_pastel),\n",
        "    dcc.Graph(figure=fig_cicadebo_temporal),\n",
        "    dcc.Graph(figure=fig_palabras),\n",
        "    dcc.Graph(figure=fig_periodico)\n",
        "])\n",
        "\n",
        "if __name__ == '__main__':\n",
        "    app.run_server(debug=True, host='127.0.0.1', port=8050)"
      ],
      "metadata": {
        "id": "ullWUXGJMaye",
        "colab": {
          "base_uri": "https://localhost:8080/",
          "height": 671
        },
        "outputId": "039c1f5b-9dee-45e9-f120-8b5d2502c3ef"
      },
      "execution_count": 113,
      "outputs": [
        {
          "output_type": "display_data",
          "data": {
            "text/plain": [
              "<IPython.core.display.Javascript object>"
            ],
            "application/javascript": [
              "(async (port, path, width, height, cache, element) => {\n",
              "    if (!google.colab.kernel.accessAllowed && !cache) {\n",
              "      return;\n",
              "    }\n",
              "    element.appendChild(document.createTextNode(''));\n",
              "    const url = await google.colab.kernel.proxyPort(port, {cache});\n",
              "    const iframe = document.createElement('iframe');\n",
              "    iframe.src = new URL(path, url).toString();\n",
              "    iframe.height = height;\n",
              "    iframe.width = width;\n",
              "    iframe.style.border = 0;\n",
              "    iframe.allow = [\n",
              "        'accelerometer',\n",
              "        'autoplay',\n",
              "        'camera',\n",
              "        'clipboard-read',\n",
              "        'clipboard-write',\n",
              "        'gyroscope',\n",
              "        'magnetometer',\n",
              "        'microphone',\n",
              "        'serial',\n",
              "        'usb',\n",
              "        'xr-spatial-tracking',\n",
              "    ].join('; ');\n",
              "    element.appendChild(iframe);\n",
              "  })(8050, \"/\", \"100%\", 650, false, window.element)"
            ]
          },
          "metadata": {}
        }
      ]
    }
  ]
}
